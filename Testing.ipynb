{
 "cells": [
  {
   "cell_type": "markdown",
   "id": "ed18f5c3-f965-4ab2-9c8a-e06ac804ba16",
   "metadata": {},
   "source": [
    "# Imports"
   ]
  },
  {
   "cell_type": "code",
   "execution_count": 148,
   "id": "55ca3600-057a-4c30-bde6-24e9ddb3dca6",
   "metadata": {},
   "outputs": [
    {
     "data": {
      "text/html": [
       "<style>.container { width:100% !important; }</style>"
      ],
      "text/plain": [
       "<IPython.core.display.HTML object>"
      ]
     },
     "metadata": {},
     "output_type": "display_data"
    },
    {
     "name": "stdout",
     "output_type": "stream",
     "text": [
      "The autoreload extension is already loaded. To reload it, use:\n",
      "  %reload_ext autoreload\n"
     ]
    }
   ],
   "source": [
    "import os\n",
    "\n",
    "import pandas as pd\n",
    "\n",
    "from collections import Counter\n",
    "\n",
    "from dotenv import load_dotenv, find_dotenv\n",
    "from openai import OpenAI\n",
    "\n",
    "import utility.utility as util\n",
    "import utility.prompts as prompts\n",
    "\n",
    "# Below import and instructions simply for display\n",
    "from IPython.display import display, HTML\n",
    "display(HTML(\"<style>.container { width:100% !important; }</style>\"))\n",
    "\n",
    "# resets import once changes have been applied\n",
    "%load_ext autoreload\n",
    "%autoreload 2"
   ]
  },
  {
   "cell_type": "markdown",
   "id": "510e69d9-12dc-4833-b45e-b92e7ee36786",
   "metadata": {},
   "source": [
    "# Directory and File Paths"
   ]
  },
  {
   "cell_type": "code",
   "execution_count": 23,
   "id": "a9a32730-f4aa-4c3d-a2ac-b005f00f1318",
   "metadata": {},
   "outputs": [],
   "source": [
    "path_data = os.path.join(os.getcwd(), \"data\")\n",
    "\n",
    "path_stmts = os.path.join(path_data, \"predict\")\n",
    "\n",
    "file_excel = os.path.join(path_data, \"sample_28feb.xlsx\")"
   ]
  },
  {
   "cell_type": "markdown",
   "id": "a1fee99c-d08d-4034-81c8-10325479bc71",
   "metadata": {},
   "source": [
    "# Load Environment Variables"
   ]
  },
  {
   "cell_type": "code",
   "execution_count": 24,
   "id": "650e0255-3997-4fd2-ab7a-3f761e231c93",
   "metadata": {},
   "outputs": [],
   "source": [
    "_ = load_dotenv(find_dotenv())"
   ]
  },
  {
   "cell_type": "markdown",
   "id": "1cd68b02-d5b3-4c20-8fcb-06eaaaec79c1",
   "metadata": {},
   "source": [
    "# Load Data"
   ]
  },
  {
   "cell_type": "code",
   "execution_count": 187,
   "id": "565756c2-41cb-4937-8496-992742f248e9",
   "metadata": {},
   "outputs": [],
   "source": [
    "df_meta = pd.read_excel(file_excel, sheet_name=\"manual cases\") #pd.read_csv(file_meta)\n",
    "df_data = pd.read_excel(file_excel, sheet_name=\"Sheet1\") #pd.read_csv(file_data)"
   ]
  },
  {
   "cell_type": "markdown",
   "id": "7bffa26a-a09d-4719-a5c8-895091d8ed07",
   "metadata": {},
   "source": [
    "# Preliminary Adjustments"
   ]
  },
  {
   "cell_type": "code",
   "execution_count": 188,
   "id": "b101e23f-10a9-409b-9d46-b76daa6d7db2",
   "metadata": {},
   "outputs": [],
   "source": [
    "df_meta.dropna(axis=1, inplace=True, thresh = int(df_meta.shape[0]*.1))\n",
    "df_meta.drop(columns=[\"checked by\", \"firm\", \"path_txt\", \"path_doc\", \"manual\"], inplace=True)\n",
    "df_meta[\"filename\"] = df_meta[\"filename\"].astype(\"str\") + \".txt\"\n",
    "df_meta[\"filepath\"] = df_meta[\"filename\"].apply(lambda x: os.path.join(path_stmts, x))"
   ]
  },
  {
   "cell_type": "code",
   "execution_count": 189,
   "id": "c793c8a3-ffc6-40e8-ab3b-6671438d1436",
   "metadata": {},
   "outputs": [],
   "source": [
    "df_data.drop(columns=[\"path_txt\", \"path_doc\",\"selected\",\"easy\",], inplace=True)\n",
    "df_data.dropna(axis=1, inplace=True, thresh = int(df_data.shape[0]*.1))\n",
    "df_data[\"filename\"] = df_data[\"filename\"].astype(\"str\") + \".txt\""
   ]
  },
  {
   "cell_type": "markdown",
   "id": "f3c10086-9590-4f4b-b529-36327cb227cb",
   "metadata": {},
   "source": [
    "# Split \"Train\" \"Test\""
   ]
  },
  {
   "cell_type": "code",
   "execution_count": 190,
   "id": "2edac6a1-3988-4a72-bc8e-7750084d9e46",
   "metadata": {},
   "outputs": [],
   "source": [
    "test = df_meta.iloc[:10,:].copy()\n",
    "df_meta = df_meta.iloc[10:,:].copy()"
   ]
  },
  {
   "cell_type": "markdown",
   "id": "f06ca7f7-e721-4195-b6f8-cbe4ca372a06",
   "metadata": {},
   "source": [
    "# Extract most common terms:"
   ]
  },
  {
   "cell_type": "code",
   "execution_count": 177,
   "id": "fd904905-db1c-4595-b949-49e0015ffc1a",
   "metadata": {},
   "outputs": [],
   "source": [
    "min_count = 7\n",
    "terms_auditor = util.concat_terms(util.det_commonly_used_terms(df_meta[\"terms_audit\"], min_count=min_count), \", \")\n",
    "terms_notes = util.concat_terms(util.det_commonly_used_terms(df_meta[\"terms_notes\"], min_count=min_count), \", \")\n",
    "terms_acc_stds = util.concat_terms(util.det_commonly_used_terms(df_meta[\"term\"], min_count = 1), \" - \")\n",
    "\n",
    "section_terms_auditor = prompts.common_terms_section_auditor.format(terms_auditor = terms_auditor)\n",
    "section_terms_notes = prompts.common_terms_section_notes.format(terms_notes = terms_notes)\n",
    "section_terms_acc_stds = prompts.common_terms_accounting_stds.format(acc_std = terms_acc_stds)"
   ]
  },
  {
   "cell_type": "markdown",
   "id": "d41d9e54-1880-42cc-baf2-15b24df0a42c",
   "metadata": {},
   "source": [
    "# Construct Base Prompt"
   ]
  },
  {
   "cell_type": "code",
   "execution_count": 329,
   "id": "c6fd30cb-ae4e-46ec-9d91-e2741cbcfa59",
   "metadata": {},
   "outputs": [],
   "source": [
    "length = 0"
   ]
  },
  {
   "cell_type": "markdown",
   "id": "0fb8c322-7155-40cc-a674-6a1b3bacc861",
   "metadata": {},
   "source": [
    "System Context"
   ]
  },
  {
   "cell_type": "code",
   "execution_count": 330,
   "id": "137e1785-7b1a-4001-b623-7c225128d5de",
   "metadata": {},
   "outputs": [],
   "source": [
    "system = prompts.system_context_full_task + \\\n",
    "         section_terms_auditor + \\\n",
    "         section_terms_notes + \\\n",
    "         section_terms_acc_stds + \\\n",
    "         prompts.standard_answer\n",
    "length += util.count_tokens(system)"
   ]
  },
  {
   "cell_type": "markdown",
   "id": "6b3d907e-397b-4cc1-8bdd-343ed642a327",
   "metadata": {},
   "source": [
    "User_Assitant Context"
   ]
  },
  {
   "cell_type": "code",
   "execution_count": 332,
   "id": "727dd3ac-4db1-407b-bd83-e7765ca45c82",
   "metadata": {},
   "outputs": [],
   "source": [
    "user_assistant = []\n",
    "for id in test.filename.unique():\n",
    "    user_content = \"\"\n",
    "    assistant_content = \"\"\n",
    "    tmp = test[test.filename == id]\n",
    "    for entity in tmp.source.unique():\n",
    "        user_content += str(tmp[tmp.source == entity][\"paragraph (context)\"].values) + \" ... \"\n",
    "        assistant_content += f\"{entity}: {tmp[tmp.source == entity]['term'].values}\" + '\\n'\n",
    "\n",
    "    user_assistant.append((user_content, assistant_content))\n",
    "for ua in user_assistant:\n",
    "    length += util.count_tokens(ua[0])"
   ]
  },
  {
   "cell_type": "markdown",
   "id": "963e3cc4-7cbd-4792-92a8-d58bdcabdffe",
   "metadata": {},
   "source": [
    "Prompt"
   ]
  },
  {
   "cell_type": "code",
   "execution_count": 333,
   "id": "db66453c-cefb-42d9-9dd0-a799795beebc",
   "metadata": {},
   "outputs": [],
   "source": [
    "i = 4"
   ]
  },
  {
   "cell_type": "code",
   "execution_count": 334,
   "id": "2900f826-8977-48e5-b1db-a46857ca3f1e",
   "metadata": {},
   "outputs": [],
   "source": [
    "text = util.parse_txt(df_meta[\"filepath\"].iloc[i])\n",
    "prompt = util.clean_text(text)\n",
    "length += util.count_tokens(prompt)"
   ]
  },
  {
   "cell_type": "markdown",
   "id": "76a414e5-4bf4-45c1-8174-3ff3b83d3bff",
   "metadata": {},
   "source": [
    "Token Lenght of Prompt"
   ]
  },
  {
   "cell_type": "code",
   "execution_count": 335,
   "id": "76947912-b770-45d7-9337-b4ca272ac20d",
   "metadata": {},
   "outputs": [
    {
     "data": {
      "text/plain": [
       "15418"
      ]
     },
     "execution_count": 335,
     "metadata": {},
     "output_type": "execute_result"
    }
   ],
   "source": [
    "length"
   ]
  },
  {
   "cell_type": "markdown",
   "id": "a4fe468f-a783-4a16-9b0d-1776f812ec6b",
   "metadata": {},
   "source": [
    "# Construct Messages"
   ]
  },
  {
   "cell_type": "code",
   "execution_count": 321,
   "id": "83f300e3-54c2-4d1f-b57b-b81647911050",
   "metadata": {},
   "outputs": [],
   "source": [
    "messages = util.create_messages_context_gpt(system, prompt, user_assistant)"
   ]
  },
  {
   "cell_type": "markdown",
   "id": "74a3eece-0ee1-4e89-bf0b-0aec04729a28",
   "metadata": {},
   "source": [
    "# Initialize Client"
   ]
  },
  {
   "cell_type": "code",
   "execution_count": 322,
   "id": "e735c0cc-0080-4be4-84bb-77829ac76e8f",
   "metadata": {},
   "outputs": [],
   "source": [
    "client = OpenAI()"
   ]
  },
  {
   "cell_type": "markdown",
   "id": "6336b5b2-f84a-4e01-88c9-687737b533ad",
   "metadata": {},
   "source": [
    "# Call API"
   ]
  },
  {
   "cell_type": "code",
   "execution_count": 323,
   "id": "41ef72b9-a84f-49f0-b990-2866c87ad5a7",
   "metadata": {},
   "outputs": [],
   "source": [
    "response = util.get_completion(client, messages, model=\"gpt-4-0125-preview\")"
   ]
  },
  {
   "cell_type": "markdown",
   "id": "30f71085-0073-4881-9f22-53b021f3f8cb",
   "metadata": {},
   "source": [
    "# Answer"
   ]
  },
  {
   "cell_type": "code",
   "execution_count": 324,
   "id": "f797feee-bbd2-45ca-8297-533659f9c118",
   "metadata": {},
   "outputs": [
    {
     "data": {
      "text/plain": [
       "ChatCompletion(id='chatcmpl-8yA0WLImbLETeKKLOMruC2EomEKRi', choices=[Choice(finish_reason='stop', index=0, logprobs=None, message=ChatCompletionMessage(content=\"Notes: 'Australian Accounting Standards, Australian Accounting Interpretations, other authoritative pronouncements of the Australian Accounting Standards Board and the Corporations Act'\\nAudit: 'Australian Accounting Standards and International Financial Reporting Standards as disclosed in Note 2'\", role='assistant', function_call=None, tool_calls=None))], created=1709348840, model='gpt-4-0125-preview', object='chat.completion', system_fingerprint='fp_70b2088885', usage=CompletionUsage(completion_tokens=46, prompt_tokens=15619, total_tokens=15665))"
      ]
     },
     "execution_count": 324,
     "metadata": {},
     "output_type": "execute_result"
    }
   ],
   "source": [
    "response"
   ]
  },
  {
   "cell_type": "code",
   "execution_count": 325,
   "id": "3b292fbf-318f-474f-91da-f26559f41d9b",
   "metadata": {},
   "outputs": [
    {
     "name": "stdout",
     "output_type": "stream",
     "text": [
      "Notes: 'Australian Accounting Standards, Australian Accounting Interpretations, other authoritative pronouncements of the Australian Accounting Standards Board and the Corporations Act'\n",
      "Audit: 'Australian Accounting Standards and International Financial Reporting Standards as disclosed in Note 2'\n"
     ]
    }
   ],
   "source": [
    "print(response.choices[0].message.content)"
   ]
  },
  {
   "cell_type": "markdown",
   "id": "866035be-c273-4e80-ac38-7d8bedda1868",
   "metadata": {},
   "source": [
    "# Test"
   ]
  },
  {
   "cell_type": "code",
   "execution_count": 297,
   "id": "19362df2-bc91-4e99-ae7f-e51c2832d9a3",
   "metadata": {},
   "outputs": [
    {
     "data": {
      "text/plain": [
       "'61102602.txt'"
      ]
     },
     "execution_count": 297,
     "metadata": {},
     "output_type": "execute_result"
    }
   ],
   "source": [
    "df_meta.iloc[i][\"filename\"]"
   ]
  },
  {
   "cell_type": "code",
   "execution_count": 307,
   "id": "7556df4d-68b3-4fb0-946b-4ffc171b722b",
   "metadata": {},
   "outputs": [
    {
     "data": {
      "text/plain": [
       "'notes'"
      ]
     },
     "execution_count": 307,
     "metadata": {},
     "output_type": "execute_result"
    }
   ],
   "source": [
    "df_meta.iloc[i][\"source\"]"
   ]
  },
  {
   "cell_type": "code",
   "execution_count": 326,
   "id": "f68e1e76-648e-4d01-8f52-14e40af61e89",
   "metadata": {},
   "outputs": [
    {
     "data": {
      "text/plain": [
       "' Australian Accounting Standards and the Corporations Regulations 2001|International Financial Reporting Standards'"
      ]
     },
     "execution_count": 326,
     "metadata": {},
     "output_type": "execute_result"
    }
   ],
   "source": [
    "df_meta.iloc[i+1][\"term\"]"
   ]
  },
  {
   "cell_type": "code",
   "execution_count": 284,
   "id": "41c80b4d-e9c1-438a-9a24-4e0af7cd570a",
   "metadata": {},
   "outputs": [
    {
     "data": {
      "text/plain": [
       "cc_iso3                                                              CYP\n",
       "year                                                                2007\n",
       "filename                                                    61102602.txt\n",
       "paragraph (context)    a summary of significant accounting policies a...\n",
       " sentence              a summary of significant accounting policies a...\n",
       "term                   international financial reporting standards as...\n",
       "classification                                                        eu\n",
       "page (txt)                                                             7\n",
       "note                                                                 NaN\n",
       "source manual                                                      audit\n",
       "source_cats_term       [consolidated cash flow statement for the year...\n",
       "terms_notes            summary of significant accounting policies|exp...\n",
       "terms_audit            audit evidence about the|we believe that the a...\n",
       "source                                                             audit\n",
       "count                                                                  1\n",
       "easy                                                                 1.0\n",
       "selected                                                             NaN\n",
       "term1                  international financial reporting standards as...\n",
       "full_term1             a summary of significant accounting policies a...\n",
       "page1                                                                7.0\n",
       "cat1                                                                  eu\n",
       "term2                                                                NaN\n",
       "full_term2                                                           NaN\n",
       "term3                                                                NaN\n",
       "full_term3                                                           NaN\n",
       "filepath               C:\\Users\\ilias\\Desktop\\UniMaResearch2023\\Extra...\n",
       "Name: 19, dtype: object"
      ]
     },
     "execution_count": 284,
     "metadata": {},
     "output_type": "execute_result"
    }
   ],
   "source": [
    "df_meta.iloc[i]"
   ]
  },
  {
   "cell_type": "code",
   "execution_count": null,
   "id": "199c54bc-932c-4d29-9bc6-d0fd090a070f",
   "metadata": {},
   "outputs": [],
   "source": []
  }
 ],
 "metadata": {
  "kernelspec": {
   "display_name": "venv_gpt_api",
   "language": "python",
   "name": "venv_gpt_api"
  },
  "language_info": {
   "codemirror_mode": {
    "name": "ipython",
    "version": 3
   },
   "file_extension": ".py",
   "mimetype": "text/x-python",
   "name": "python",
   "nbconvert_exporter": "python",
   "pygments_lexer": "ipython3",
   "version": "3.9.5"
  }
 },
 "nbformat": 4,
 "nbformat_minor": 5
}

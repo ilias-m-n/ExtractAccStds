{
 "cells": [
  {
   "cell_type": "markdown",
   "id": "ed18f5c3-f965-4ab2-9c8a-e06ac804ba16",
   "metadata": {},
   "source": [
    "# Imports"
   ]
  },
  {
   "cell_type": "code",
   "execution_count": 133,
   "id": "55ca3600-057a-4c30-bde6-24e9ddb3dca6",
   "metadata": {},
   "outputs": [
    {
     "data": {
      "text/html": [
       "<style>.container { width:100% !important; }</style>"
      ],
      "text/plain": [
       "<IPython.core.display.HTML object>"
      ]
     },
     "metadata": {},
     "output_type": "display_data"
    },
    {
     "name": "stdout",
     "output_type": "stream",
     "text": [
      "The autoreload extension is already loaded. To reload it, use:\n",
      "  %reload_ext autoreload\n"
     ]
    }
   ],
   "source": [
    "import os\n",
    "\n",
    "import pandas as pd\n",
    "import matplotlib.pyplot as plt\n",
    "\n",
    "from collections import Counter\n",
    "from dotenv import load_dotenv, find_dotenv\n",
    "from openai import OpenAI\n",
    "\n",
    "import utility.utility as util\n",
    "import utility.prompts as prompts\n",
    "\n",
    "# Progress Bars:\n",
    "from tqdm._tqdm_notebook import tqdm_notebook\n",
    "\n",
    "# Below import and instructions simply for display\n",
    "from IPython.display import display, HTML\n",
    "display(HTML(\"<style>.container { width:100% !important; }</style>\"))\n",
    "\n",
    "# resets import once changes have been applied\n",
    "%load_ext autoreload\n",
    "%autoreload 2"
   ]
  },
  {
   "cell_type": "markdown",
   "id": "510e69d9-12dc-4833-b45e-b92e7ee36786",
   "metadata": {},
   "source": [
    "# Directory and File Paths"
   ]
  },
  {
   "cell_type": "code",
   "execution_count": 42,
   "id": "a9a32730-f4aa-4c3d-a2ac-b005f00f1318",
   "metadata": {},
   "outputs": [],
   "source": [
    "path_data = os.path.join(os.getcwd(), \"data\")\n",
    "\n",
    "path_stmts = os.path.join(path_data, \"predict\")\n",
    "\n",
    "file_excel = os.path.join(path_data, \"examples_altered.xlsx\")"
   ]
  },
  {
   "cell_type": "markdown",
   "id": "a1fee99c-d08d-4034-81c8-10325479bc71",
   "metadata": {},
   "source": [
    "# Load Environment Variables"
   ]
  },
  {
   "cell_type": "code",
   "execution_count": 43,
   "id": "650e0255-3997-4fd2-ab7a-3f761e231c93",
   "metadata": {},
   "outputs": [],
   "source": [
    "_ = load_dotenv(find_dotenv())"
   ]
  },
  {
   "cell_type": "markdown",
   "id": "1cd68b02-d5b3-4c20-8fcb-06eaaaec79c1",
   "metadata": {},
   "source": [
    "# Load Data"
   ]
  },
  {
   "cell_type": "code",
   "execution_count": 44,
   "id": "565756c2-41cb-4937-8496-992742f248e9",
   "metadata": {},
   "outputs": [],
   "source": [
    "df_meta = pd.read_excel(file_excel, sheet_name=\"Sheet1\")"
   ]
  },
  {
   "cell_type": "markdown",
   "id": "7bffa26a-a09d-4719-a5c8-895091d8ed07",
   "metadata": {},
   "source": [
    "# Preliminary Adjustments"
   ]
  },
  {
   "cell_type": "code",
   "execution_count": 45,
   "id": "b101e23f-10a9-409b-9d46-b76daa6d7db2",
   "metadata": {},
   "outputs": [],
   "source": [
    "df_meta.dropna(axis=1, inplace=True, thresh = int(df_meta.shape[0]*.1))\n",
    "df_meta.drop(columns=[\"checked by\", \"new\", \"manual\", \"page (txt)\", \"manual\", \"note\"], inplace=True)\n",
    "df_meta[\"filename\"] = df_meta[\"filename\"].astype(\"str\") + \".txt\"\n",
    "df_meta[\"filepath\"] = df_meta[\"filename\"].apply(lambda x: os.path.join(path_stmts, x))"
   ]
  },
  {
   "cell_type": "code",
   "execution_count": 46,
   "id": "c793c8a3-ffc6-40e8-ab3b-6671438d1436",
   "metadata": {},
   "outputs": [],
   "source": [
    "#df_data.drop(columns=[\"path_txt\", \"path_doc\",\"selected\",\"easy\",], inplace=True)\n",
    "#df_data.dropna(axis=1, inplace=True, thresh = int(df_data.shape[0]*.1))\n",
    "#df_data[\"filename\"] = df_data[\"filename\"].astype(\"str\") + \".txt\""
   ]
  },
  {
   "cell_type": "markdown",
   "id": "f3c10086-9590-4f4b-b529-36327cb227cb",
   "metadata": {},
   "source": [
    "# Split \"Train\" \"Test\""
   ]
  },
  {
   "cell_type": "code",
   "execution_count": 47,
   "id": "26891f2d-4dbc-4a3b-ac58-b9b34767966e",
   "metadata": {},
   "outputs": [],
   "source": [
    "prompt_indeces = [0,1,2,3,4,5,6,7,16,17,20,21,26,27,34,35,36,37]\n",
    "test_indeces = [i for i in df_meta.index if i not in prompt_indeces]"
   ]
  },
  {
   "cell_type": "code",
   "execution_count": 48,
   "id": "2edac6a1-3988-4a72-bc8e-7750084d9e46",
   "metadata": {},
   "outputs": [],
   "source": [
    "prompt_df = df_meta.iloc[prompt_indeces,:].copy()\n",
    "test_df = df_meta.iloc[test_indeces,:].copy()\n",
    "del df_meta"
   ]
  },
  {
   "cell_type": "markdown",
   "id": "f06ca7f7-e721-4195-b6f8-cbe4ca372a06",
   "metadata": {},
   "source": [
    "# Extract most common terms:"
   ]
  },
  {
   "cell_type": "code",
   "execution_count": 49,
   "id": "fd904905-db1c-4595-b949-49e0015ffc1a",
   "metadata": {},
   "outputs": [],
   "source": [
    "min_ratio = .5\n",
    "\n",
    "terms_auditor = util.concat_terms(util.det_commonly_used_terms(prompt_df[\"terms_audit\"], min_ratio=min_ratio), \", \")\n",
    "terms_notes = util.concat_terms(util.det_commonly_used_terms(prompt_df[\"terms_notes\"], min_ratio=min_ratio), \", \")\n",
    "#terms_acc_stds = util.concat_terms(util.det_commonly_used_terms(df_meta[\"term\"], min_ratio=0), \" - \")\n",
    "\n",
    "section_terms_auditor = prompts.common_terms_section_auditor.format(terms_auditor = terms_auditor)\n",
    "section_terms_notes = prompts.common_terms_section_notes.format(terms_notes = terms_notes)\n",
    "#section_terms_acc_stds = prompts.common_terms_accounting_stds.format(acc_std = terms_acc_stds)"
   ]
  },
  {
   "cell_type": "markdown",
   "id": "d41d9e54-1880-42cc-baf2-15b24df0a42c",
   "metadata": {},
   "source": [
    "# Construct Base Prompt"
   ]
  },
  {
   "cell_type": "markdown",
   "id": "0fb8c322-7155-40cc-a674-6a1b3bacc861",
   "metadata": {},
   "source": [
    "## System Context"
   ]
  },
  {
   "cell_type": "code",
   "execution_count": 51,
   "id": "137e1785-7b1a-4001-b623-7c225128d5de",
   "metadata": {},
   "outputs": [],
   "source": [
    "system = prompts.system_context_full_task + \\\n",
    "         section_terms_auditor + \\\n",
    "         section_terms_notes + \\\n",
    "         prompts.instruction_1 + \\\n",
    "         prompts.answer_format1"
   ]
  },
  {
   "cell_type": "code",
   "execution_count": 52,
   "id": "7b34a700-2c96-46bd-9348-b970cf7d6d02",
   "metadata": {},
   "outputs": [
    {
     "data": {
      "text/plain": [
       "Index(['cc_iso3', 'year', 'filename', 'paragraph (context)', 'sentence',\n",
       "       'term', 'classification', 'source', 'terms_notes', 'terms_audit',\n",
       "       'filepath'],\n",
       "      dtype='object')"
      ]
     },
     "execution_count": 52,
     "metadata": {},
     "output_type": "execute_result"
    }
   ],
   "source": [
    "prompt_df.columns"
   ]
  },
  {
   "cell_type": "markdown",
   "id": "6b3d907e-397b-4cc1-8bdd-343ed642a327",
   "metadata": {},
   "source": [
    "## User_Assitant Context"
   ]
  },
  {
   "cell_type": "code",
   "execution_count": 53,
   "id": "727dd3ac-4db1-407b-bd83-e7765ca45c82",
   "metadata": {},
   "outputs": [],
   "source": [
    "user_assistant = prompts.get_user_assistant_context_format1(prompt_df, \"filename\", \"source\", \"paragraph (context)\", \"sentence\", \"term\")"
   ]
  },
  {
   "cell_type": "markdown",
   "id": "6bf5ac5a-bb3f-4c82-acab-7ea007d4700d",
   "metadata": {},
   "source": [
    "## Length of Base Prompt"
   ]
  },
  {
   "cell_type": "code",
   "execution_count": 58,
   "id": "4eaa2cbc-c7b8-4265-9896-136860cd0909",
   "metadata": {},
   "outputs": [
    {
     "data": {
      "text/plain": [
       "5079"
      ]
     },
     "execution_count": 58,
     "metadata": {},
     "output_type": "execute_result"
    }
   ],
   "source": [
    "base_prompt_length = util.count_tokens(system)\n",
    "for ua in user_assistant:\n",
    "    base_prompt_length += util.count_tokens(ua[0])\n",
    "    base_prompt_length += util.count_tokens(ua[1])"
   ]
  },
  {
   "cell_type": "markdown",
   "id": "c63f1cd5-a777-4593-a9fc-6852fbf55e33",
   "metadata": {},
   "source": [
    "# Extract Text Prompt"
   ]
  },
  {
   "cell_type": "code",
   "execution_count": 119,
   "id": "4c3e85e6-7aa5-4961-973f-9ccdb353b11d",
   "metadata": {},
   "outputs": [],
   "source": [
    "test_df = test_df[['cc_iso3', 'year', 'filename', 'paragraph (context)', 'sentence',\n",
    "       'term', 'classification', 'filepath', 'source']]\n",
    "df_inputs = test_df[['filepath', 'filename']].copy().drop_duplicates()"
   ]
  },
  {
   "cell_type": "code",
   "execution_count": 120,
   "id": "5f33f3ab-3f9c-4c23-a756-4b9fd81cf68b",
   "metadata": {},
   "outputs": [],
   "source": [
    "df_inputs['prompt'] = df_inputs['filepath'].apply(util.parse_txt).apply(util.clean_text)\n",
    "df_inputs['num_tokens'] = df_inputs['prompt'].apply(util.count_tokens)\n",
    "df_inputs['com_num_tokens'] = df_inputs['num_tokens'] + base_prompt_length"
   ]
  },
  {
   "cell_type": "code",
   "execution_count": 121,
   "id": "fff02b6e-8fa4-4f20-b9ff-f7feb6e0dbc8",
   "metadata": {},
   "outputs": [
    {
     "data": {
      "text/plain": [
       "<matplotlib.lines.Line2D at 0x243af3e47c0>"
      ]
     },
     "execution_count": 121,
     "metadata": {},
     "output_type": "execute_result"
    },
    {
     "data": {
      "image/png": "[encoded data removed]",
      "text/plain": [
       "<Figure size 640x480 with 1 Axes>"
      ]
     },
     "metadata": {},
     "output_type": "display_data"
    }
   ],
   "source": [
    "df_inputs['num_tokens'].hist(bins=30)\n",
    "plt.axvline(x=df_inputs['com_num_tokens'].median(), color = \"r\")"
   ]
  },
  {
   "cell_type": "markdown",
   "id": "f2a0bbe9-2f8b-463b-b3b7-769cb4d42af8",
   "metadata": {},
   "source": [
    "# reduce to below 85k tokens"
   ]
  },
  {
   "cell_type": "code",
   "execution_count": 149,
   "id": "cb65d849-0088-48b7-815a-7806f53c4e7c",
   "metadata": {},
   "outputs": [
    {
     "data": {
      "text/html": [
       "<div>\n",
       "<style scoped>\n",
       "    .dataframe tbody tr th:only-of-type {\n",
       "        vertical-align: middle;\n",
       "    }\n",
       "\n",
       "    .dataframe tbody tr th {\n",
       "        vertical-align: top;\n",
       "    }\n",
       "\n",
       "    .dataframe thead th {\n",
       "        text-align: right;\n",
       "    }\n",
       "</style>\n",
       "<table border=\"1\" class=\"dataframe\">\n",
       "  <thead>\n",
       "    <tr style=\"text-align: right;\">\n",
       "      <th></th>\n",
       "      <th>filepath</th>\n",
       "      <th>filename</th>\n",
       "      <th>prompt</th>\n",
       "      <th>num_tokens</th>\n",
       "      <th>com_num_tokens</th>\n",
       "    </tr>\n",
       "  </thead>\n",
       "  <tbody>\n",
       "    <tr>\n",
       "      <th>8</th>\n",
       "      <td>C:\\Users\\ilias\\Desktop\\UniMaResearch2023\\Extra...</td>\n",
       "      <td>61466756.txt</td>\n",
       "      <td>CEI Contract Manufacturing Limited Company Reg...</td>\n",
       "      <td>31909</td>\n",
       "      <td>36988</td>\n",
       "    </tr>\n",
       "    <tr>\n",
       "      <th>10</th>\n",
       "      <td>C:\\Users\\ilias\\Desktop\\UniMaResearch2023\\Extra...</td>\n",
       "      <td>61511488.txt</td>\n",
       "      <td>Transcending Boundaries, Growing Opportunities...</td>\n",
       "      <td>38449</td>\n",
       "      <td>43528</td>\n",
       "    </tr>\n",
       "    <tr>\n",
       "      <th>12</th>\n",
       "      <td>C:\\Users\\ilias\\Desktop\\UniMaResearch2023\\Extra...</td>\n",
       "      <td>62075442.txt</td>\n",
       "      <td>I I I I I SEC Rogi·tration Numbu I AIcI EIs I ...</td>\n",
       "      <td>69601</td>\n",
       "      <td>74680</td>\n",
       "    </tr>\n",
       "    <tr>\n",
       "      <th>14</th>\n",
       "      <td>C:\\Users\\ilias\\Desktop\\UniMaResearch2023\\Extra...</td>\n",
       "      <td>62609130.txt</td>\n",
       "      <td>CONTENTS TURCAS IN BRIEF Vision, Mission, Stra...</td>\n",
       "      <td>53216</td>\n",
       "      <td>58295</td>\n",
       "    </tr>\n",
       "    <tr>\n",
       "      <th>18</th>\n",
       "      <td>C:\\Users\\ilias\\Desktop\\UniMaResearch2023\\Extra...</td>\n",
       "      <td>64866413.txt</td>\n",
       "      <td>SUMMIT SECURITIES LIMITED Corporate Identifica...</td>\n",
       "      <td>54653</td>\n",
       "      <td>59732</td>\n",
       "    </tr>\n",
       "    <tr>\n",
       "      <th>30</th>\n",
       "      <td>C:\\Users\\ilias\\Desktop\\UniMaResearch2023\\Extra...</td>\n",
       "      <td>60783048.txt</td>\n",
       "      <td>Reference Document Financial year ending This ...</td>\n",
       "      <td>82758</td>\n",
       "      <td>87837</td>\n",
       "    </tr>\n",
       "    <tr>\n",
       "      <th>32</th>\n",
       "      <td>C:\\Users\\ilias\\Desktop\\UniMaResearch2023\\Extra...</td>\n",
       "      <td>61015098.txt</td>\n",
       "      <td>ANNUAL REPORT &amp; ACCOUNTS AVESCO GROUP PLC ANNU...</td>\n",
       "      <td>33859</td>\n",
       "      <td>38938</td>\n",
       "    </tr>\n",
       "  </tbody>\n",
       "</table>\n",
       "</div>"
      ],
      "text/plain": [
       "                                             filepath      filename  \\\n",
       "8   C:\\Users\\ilias\\Desktop\\UniMaResearch2023\\Extra...  61466756.txt   \n",
       "10  C:\\Users\\ilias\\Desktop\\UniMaResearch2023\\Extra...  61511488.txt   \n",
       "12  C:\\Users\\ilias\\Desktop\\UniMaResearch2023\\Extra...  62075442.txt   \n",
       "14  C:\\Users\\ilias\\Desktop\\UniMaResearch2023\\Extra...  62609130.txt   \n",
       "18  C:\\Users\\ilias\\Desktop\\UniMaResearch2023\\Extra...  64866413.txt   \n",
       "30  C:\\Users\\ilias\\Desktop\\UniMaResearch2023\\Extra...  60783048.txt   \n",
       "32  C:\\Users\\ilias\\Desktop\\UniMaResearch2023\\Extra...  61015098.txt   \n",
       "\n",
       "                                               prompt  num_tokens  \\\n",
       "8   CEI Contract Manufacturing Limited Company Reg...       31909   \n",
       "10  Transcending Boundaries, Growing Opportunities...       38449   \n",
       "12  I I I I I SEC Rogi·tration Numbu I AIcI EIs I ...       69601   \n",
       "14  CONTENTS TURCAS IN BRIEF Vision, Mission, Stra...       53216   \n",
       "18  SUMMIT SECURITIES LIMITED Corporate Identifica...       54653   \n",
       "30  Reference Document Financial year ending This ...       82758   \n",
       "32  ANNUAL REPORT & ACCOUNTS AVESCO GROUP PLC ANNU...       33859   \n",
       "\n",
       "    com_num_tokens  \n",
       "8            36988  \n",
       "10           43528  \n",
       "12           74680  \n",
       "14           58295  \n",
       "18           59732  \n",
       "30           87837  \n",
       "32           38938  "
      ]
     },
     "execution_count": 149,
     "metadata": {},
     "output_type": "execute_result"
    }
   ],
   "source": [
    "df_inputs = df_inputs[df_inputs.num_tokens <= 85000]\n",
    "df_inputs"
   ]
  },
  {
   "cell_type": "code",
   "execution_count": 150,
   "id": "13200adb-2016-4326-8fc6-ad0594bcba4a",
   "metadata": {},
   "outputs": [
    {
     "data": {
      "text/plain": [
       "8     36988\n",
       "10    43528\n",
       "12    74680\n",
       "14    58295\n",
       "18    59732\n",
       "30    87837\n",
       "32    38938\n",
       "Name: com_num_tokens, dtype: int64"
      ]
     },
     "execution_count": 150,
     "metadata": {},
     "output_type": "execute_result"
    }
   ],
   "source": [
    "df_inputs['com_num_tokens']"
   ]
  },
  {
   "cell_type": "code",
   "execution_count": 151,
   "id": "8d5f3a70-3db0-4993-a06f-7e160587076a",
   "metadata": {},
   "outputs": [],
   "source": [
    "test = df_inputs.iloc[:10].copy()"
   ]
  },
  {
   "cell_type": "code",
   "execution_count": 152,
   "id": "ccb4da97-257c-4838-bad5-78583f134022",
   "metadata": {},
   "outputs": [
    {
     "data": {
      "text/plain": [
       "8      36988\n",
       "10     80516\n",
       "12    155196\n",
       "14    213491\n",
       "18    273223\n",
       "30    361060\n",
       "32    399998\n",
       "Name: com_num_tokens, dtype: int64"
      ]
     },
     "execution_count": 152,
     "metadata": {},
     "output_type": "execute_result"
    }
   ],
   "source": [
    "test['com_num_tokens'].cumsum()"
   ]
  },
  {
   "cell_type": "markdown",
   "id": "5390e844-d6c7-43f0-8922-8d7d74e9707b",
   "metadata": {},
   "source": [
    "# Calculate Cost"
   ]
  },
  {
   "cell_type": "code",
   "execution_count": 126,
   "id": "7bec6119-d280-446f-a89c-b33a21287806",
   "metadata": {},
   "outputs": [
    {
     "data": {
      "text/plain": [
       "3.99998"
      ]
     },
     "execution_count": 126,
     "metadata": {},
     "output_type": "execute_result"
    }
   ],
   "source": [
    "util.calc_price_gpt(test.shape[0], test.com_num_tokens.mean(), 1, .01, 1000)"
   ]
  },
  {
   "cell_type": "code",
   "execution_count": 209,
   "id": "a9fa373c-498f-4a46-88ee-a6e6979201eb",
   "metadata": {},
   "outputs": [
    {
     "data": {
      "text/plain": [
       "2400.0"
      ]
     },
     "execution_count": 209,
     "metadata": {},
     "output_type": "execute_result"
    }
   ],
   "source": [
    "util.calc_price_gpt(100000, 16000, 3, .0005, 1000)"
   ]
  },
  {
   "cell_type": "markdown",
   "id": "e1f29ad9-f47d-40a3-9fd2-4539030791f6",
   "metadata": {},
   "source": [
    "# Prompt GPT"
   ]
  },
  {
   "cell_type": "markdown",
   "id": "74a3eece-0ee1-4e89-bf0b-0aec04729a28",
   "metadata": {},
   "source": [
    "## Initialize Client"
   ]
  },
  {
   "cell_type": "code",
   "execution_count": 127,
   "id": "e735c0cc-0080-4be4-84bb-77829ac76e8f",
   "metadata": {},
   "outputs": [],
   "source": [
    "client = OpenAI()"
   ]
  },
  {
   "cell_type": "markdown",
   "id": "6336b5b2-f84a-4e01-88c9-687737b533ad",
   "metadata": {},
   "source": [
    "## Call API"
   ]
  },
  {
   "cell_type": "code",
   "execution_count": 131,
   "id": "4ace8506-b823-4b4e-83ec-c8514532c846",
   "metadata": {},
   "outputs": [
    {
     "name": "stdout",
     "output_type": "stream",
     "text": [
      "2024-03-05 14:17:19.133793\n",
      "2024-03-05 14:17:34.453407\n",
      "2024-03-05 14:17:51.099034\n",
      "2024-03-05 14:18:16.921202\n",
      "2024-03-05 14:19:00.752079\n",
      "2024-03-05 14:19:29.267619\n",
      "2024-03-05 14:19:50.346020\n"
     ]
    }
   ],
   "source": [
    "test['output'] = test.apply(lambda x: util.prompt_gpt(client, system, x.prompt, user_assistant, \"gpt-4-0125-preview\"), axis=1)"
   ]
  },
  {
   "cell_type": "markdown",
   "id": "30f71085-0073-4881-9f22-53b021f3f8cb",
   "metadata": {},
   "source": [
    "# Evaluation"
   ]
  },
  {
   "cell_type": "code",
   "execution_count": 142,
   "id": "cf492226-7907-44b9-8256-fcb6947a45ae",
   "metadata": {},
   "outputs": [
    {
     "data": {
      "text/html": [
       "<div>\n",
       "<style scoped>\n",
       "    .dataframe tbody tr th:only-of-type {\n",
       "        vertical-align: middle;\n",
       "    }\n",
       "\n",
       "    .dataframe tbody tr th {\n",
       "        vertical-align: top;\n",
       "    }\n",
       "\n",
       "    .dataframe thead th {\n",
       "        text-align: right;\n",
       "    }\n",
       "</style>\n",
       "<table border=\"1\" class=\"dataframe\">\n",
       "  <thead>\n",
       "    <tr style=\"text-align: right;\">\n",
       "      <th></th>\n",
       "      <th>filepath</th>\n",
       "      <th>filename</th>\n",
       "      <th>prompt</th>\n",
       "      <th>num_tokens</th>\n",
       "      <th>com_num_tokens</th>\n",
       "      <th>output</th>\n",
       "    </tr>\n",
       "  </thead>\n",
       "  <tbody>\n",
       "    <tr>\n",
       "      <th>8</th>\n",
       "      <td>C:\\Users\\ilias\\Desktop\\UniMaResearch2023\\Extra...</td>\n",
       "      <td>61466756.txt</td>\n",
       "      <td>CEI Contract Manufacturing Limited Company Reg...</td>\n",
       "      <td>31909</td>\n",
       "      <td>36988</td>\n",
       "      <td>ChatCompletion(id='chatcmpl-8zOxSjJW58cBKvusQH...</td>\n",
       "    </tr>\n",
       "    <tr>\n",
       "      <th>10</th>\n",
       "      <td>C:\\Users\\ilias\\Desktop\\UniMaResearch2023\\Extra...</td>\n",
       "      <td>61511488.txt</td>\n",
       "      <td>Transcending Boundaries, Growing Opportunities...</td>\n",
       "      <td>38449</td>\n",
       "      <td>43528</td>\n",
       "      <td>ChatCompletion(id='chatcmpl-8zOxhiDBiBO6hvVSyb...</td>\n",
       "    </tr>\n",
       "    <tr>\n",
       "      <th>12</th>\n",
       "      <td>C:\\Users\\ilias\\Desktop\\UniMaResearch2023\\Extra...</td>\n",
       "      <td>62075442.txt</td>\n",
       "      <td>I I I I I SEC Rogi·tration Numbu I AIcI EIs I ...</td>\n",
       "      <td>69601</td>\n",
       "      <td>74680</td>\n",
       "      <td>ChatCompletion(id='chatcmpl-8zOxzpwmdkcVGsM0bs...</td>\n",
       "    </tr>\n",
       "    <tr>\n",
       "      <th>14</th>\n",
       "      <td>C:\\Users\\ilias\\Desktop\\UniMaResearch2023\\Extra...</td>\n",
       "      <td>62609130.txt</td>\n",
       "      <td>CONTENTS TURCAS IN BRIEF Vision, Mission, Stra...</td>\n",
       "      <td>53216</td>\n",
       "      <td>58295</td>\n",
       "      <td>ChatCompletion(id='chatcmpl-8zOyOH6jzVrIhCJb6o...</td>\n",
       "    </tr>\n",
       "    <tr>\n",
       "      <th>18</th>\n",
       "      <td>C:\\Users\\ilias\\Desktop\\UniMaResearch2023\\Extra...</td>\n",
       "      <td>64866413.txt</td>\n",
       "      <td>SUMMIT SECURITIES LIMITED Corporate Identifica...</td>\n",
       "      <td>54653</td>\n",
       "      <td>59732</td>\n",
       "      <td>ChatCompletion(id='chatcmpl-8zOz65W4RtpCOo5N8z...</td>\n",
       "    </tr>\n",
       "    <tr>\n",
       "      <th>30</th>\n",
       "      <td>C:\\Users\\ilias\\Desktop\\UniMaResearch2023\\Extra...</td>\n",
       "      <td>60783048.txt</td>\n",
       "      <td>Reference Document Financial year ending This ...</td>\n",
       "      <td>82758</td>\n",
       "      <td>87837</td>\n",
       "      <td>ChatCompletion(id='chatcmpl-8zOzZ96eeOaRxmcbmG...</td>\n",
       "    </tr>\n",
       "    <tr>\n",
       "      <th>32</th>\n",
       "      <td>C:\\Users\\ilias\\Desktop\\UniMaResearch2023\\Extra...</td>\n",
       "      <td>61015098.txt</td>\n",
       "      <td>ANNUAL REPORT &amp; ACCOUNTS AVESCO GROUP PLC ANNU...</td>\n",
       "      <td>33859</td>\n",
       "      <td>38938</td>\n",
       "      <td>ChatCompletion(id='chatcmpl-8zOztkopOfdPteSVpY...</td>\n",
       "    </tr>\n",
       "  </tbody>\n",
       "</table>\n",
       "</div>"
      ],
      "text/plain": [
       "                                             filepath      filename  \\\n",
       "8   C:\\Users\\ilias\\Desktop\\UniMaResearch2023\\Extra...  61466756.txt   \n",
       "10  C:\\Users\\ilias\\Desktop\\UniMaResearch2023\\Extra...  61511488.txt   \n",
       "12  C:\\Users\\ilias\\Desktop\\UniMaResearch2023\\Extra...  62075442.txt   \n",
       "14  C:\\Users\\ilias\\Desktop\\UniMaResearch2023\\Extra...  62609130.txt   \n",
       "18  C:\\Users\\ilias\\Desktop\\UniMaResearch2023\\Extra...  64866413.txt   \n",
       "30  C:\\Users\\ilias\\Desktop\\UniMaResearch2023\\Extra...  60783048.txt   \n",
       "32  C:\\Users\\ilias\\Desktop\\UniMaResearch2023\\Extra...  61015098.txt   \n",
       "\n",
       "                                               prompt  num_tokens  \\\n",
       "8   CEI Contract Manufacturing Limited Company Reg...       31909   \n",
       "10  Transcending Boundaries, Growing Opportunities...       38449   \n",
       "12  I I I I I SEC Rogi·tration Numbu I AIcI EIs I ...       69601   \n",
       "14  CONTENTS TURCAS IN BRIEF Vision, Mission, Stra...       53216   \n",
       "18  SUMMIT SECURITIES LIMITED Corporate Identifica...       54653   \n",
       "30  Reference Document Financial year ending This ...       82758   \n",
       "32  ANNUAL REPORT & ACCOUNTS AVESCO GROUP PLC ANNU...       33859   \n",
       "\n",
       "    com_num_tokens                                             output  \n",
       "8            36988  ChatCompletion(id='chatcmpl-8zOxSjJW58cBKvusQH...  \n",
       "10           43528  ChatCompletion(id='chatcmpl-8zOxhiDBiBO6hvVSyb...  \n",
       "12           74680  ChatCompletion(id='chatcmpl-8zOxzpwmdkcVGsM0bs...  \n",
       "14           58295  ChatCompletion(id='chatcmpl-8zOyOH6jzVrIhCJb6o...  \n",
       "18           59732  ChatCompletion(id='chatcmpl-8zOz65W4RtpCOo5N8z...  \n",
       "30           87837  ChatCompletion(id='chatcmpl-8zOzZ96eeOaRxmcbmG...  \n",
       "32           38938  ChatCompletion(id='chatcmpl-8zOztkopOfdPteSVpY...  "
      ]
     },
     "execution_count": 142,
     "metadata": {},
     "output_type": "execute_result"
    }
   ],
   "source": [
    "test"
   ]
  },
  {
   "cell_type": "code",
   "execution_count": 146,
   "id": "99b16252-0949-4874-8572-f0164f40a22e",
   "metadata": {},
   "outputs": [
    {
     "name": "stdout",
     "output_type": "stream",
     "text": [
      "61466756.txt {\n",
      "  \"Notes\": {\n",
      "    \"sentence\": \"['The financial report is a general purpose financial report which has been prepared in accordance with Australian\\nAccounting Standards (\\u201cAASBs\\u201d) adopted by the Australian Accounting Standards Board (\\u201cAASB\\u201d) and the\\nCorporations Act 2001. International Financial Reporting Standards (\\u201cIFRSs\\u201d) form the basis of Australian Accounting\\nStandards (\\u201cAASBs\\u201d) adopted by the AASB, and for the purpose of this report are called Australian equivalents to IFRS\\n(\\u201cAIFRS\\u201d) to distinguish from previous Australian GAAP.']\",\n",
      "    \"standard\": \"['Australian Accounting Standards (\\u201cAASBs\\u201d) adopted by the Australian Accounting Standards Board (\\u201cAASB\\u201d) and the\\nCorporations Act 2001']\"\n",
      "  },\n",
      "  \"Auditor\": {\n",
      "    \"sentence\": \"['complying with Australian Accounting Standards and the Corporations Regulations 2001; and']\",\n",
      "    \"standard\": \"['Australian Accounting Standards and the Corporations Regulations 2001']\"\n",
      "  }\n",
      "}\n",
      "\n",
      "61511488.txt {\n",
      "  \"Notes\": {\n",
      "    \"sentence\": \"['The financial statements have been prepared in accordance with Singapore Financial Reporting Standards (\\u201cFRS\\u201d) including related Interpretations of FRS (\\u201cINT FRS\\u201d) and are prepared on historical cost basis, except as disclosed in the financial statement. ']\", \n",
      "    \"standard\": \"['Singapore Financial Reporting Standards (\\u201cFRS\\u201d) including related Interpretations of FRS (\\u201cINT FRS\\u201d)']\"\n",
      "  }, \n",
      "  \"Auditor\": {\n",
      "    \"sentence\": \"['In our opinion, the financial statements of the Group and the balance sheet and statement of changes in equity of the Company are properly drawn up in accordance with the provisions of the Act and Singapore Financial Reporting Standards so as to give a true and fair view of the state of affairs of the Group and of the Company as at 31 December 2014']\", \n",
      "    \"standard\": \"['Singapore Financial Reporting Standards']\"\n",
      "  }\n",
      "}\n",
      "\n",
      "62075442.txt {\n",
      "  \"Notes\": {\n",
      "    \"sentence\": \"['The financial statements have been prepared in compliance with Philippine Financial Reporting Standards (PFRSs). PFRSs are based on International Financial Reporting Standards (IFRSs) issued by the International Accounting Standards Board (IASB). PFRSs consist of PFRSs, Philippine Accounting Standards (PASs), and Philippine Interpretations issued by the Financial Reporting Standards Council (FRSC).']\",\n",
      "    \"standard\": \"['Philippine Financial Reporting Standards (PFRSs), International Financial Reporting Standards (IFRSs)']\"\n",
      "  },\n",
      "  \"Auditor\": {\n",
      "    \"sentence\": \"['In our opinion, the separate financial statements present fairly, in all material respects, the unconsolidated financial position of Acesite (Phils.) Hotel Corporation as at December 31, 2013 and 2012, and its unconsolidated financial performance and its unconsolidated cash flows for each of the three years in the period ended December 31, 2013, in accordance with Philippine Financial Reporting Standards.']\",\n",
      "    \"standard\": \"['Philippine Financial Reporting Standards']\"\n",
      "  }\n",
      "}\n",
      "\n",
      "62609130.txt {\n",
      "  \"Notes\": {\n",
      "    \"sentence\": \"['The consolidated financial statements and disclosures have been prepared in accordance with the communiqué numbered II-14.1 “Communiqué \\non the Principles of Financial Reporting in Capital Markets” (“the Communiqué”) announced by the Capital Markets Board (“CMB”) (hereinafter \\nwill be referred to as “the CMB Reporting Standards”) on June 13, 2013 which is published on Official Gazette numbered 28676. Companies \\nshould apply Turkish Accounting Standards/Turkish Financial Reporting Standards and interpretations regarding these standards as adopted by \\nPublic Oversight Accounting and Auditing Standards Authority of Turkey (“POA”).\\nIn accordance with article 5th of the CMB Reporting Standards, companies should apply Turkish Accounting Standards/Turkish Financial \\nReporting Standards and its interpretations issued by the Public Oversight Accounting and Auditing Standards Authority of Turkey (“POA”)']\",\n",
      "    \"standard\": \"['the communiqué numbered II-14.1 “Communiqué on the Principles of Financial Reporting in Capital Markets” (“the Communiqué”) announced by the Capital Markets Board (“CMB”) (hereinafter \\nwill be referred to as “the CMB Reporting Standards”) ,Turkish Accounting Standards/Turkish Financial Reporting Standards and interpretations regarding these standards as adopted by \\nPublic Oversight Accounting and Auditing Standards Authority of Turkey (“POA”)']\"\n",
      "  },\n",
      "  \"Auditor\": {\n",
      "    \"sentence\": \"['Management is responsible for the preparation and fair presentation of these consolidated financial statements in accordance with International Financial Reporting Standards as\\nissued by the International Accounting Standards Board, ']\",\n",
      "    \"standard\": \"[' International Financial Reporting Standards as\\nissued by the International Accounting Standards Board']\"\n",
      "  }\n",
      "}\n",
      "\n",
      "64866413.txt {\n",
      "'Notes' : {\n",
      "    'sentence' : \"['The financial statements have been drawn up in accordance with the provisions of the Singapore Companies Act, Cap. 50 and the Singapore Financial Reporting Standards (\\u201cFRS\\u201d) including related Interpretations of FRS (\\u201cINT FRS\\u201d) and are prepared on historical cost basis, except as disclosed in the financial statement. ']\",\n",
      "    'standard' : \"['Singapore Financial Reporting Standards (\\u201cFRS\\u201d)']\"},\n",
      "'Auditor' : {\n",
      "    'sentence' : \"['opinion in our opinion the financial statements of the group and the statements of financial position and changes in equity of the company are properly drawn up in accordance with the provisions of the act and singapore financial reporting standards so as to give a true and fair view of the state of affairs of the group and of the company as at 31 december 2014']\",\n",
      "    'standard' : \"['singapore financial reporting standards']\"}\n",
      "}\n",
      "\n",
      "60783048.txt {\n",
      "'Notes' : {\n",
      "    'sentence' : \"['The consolidated financial statements have been prepared in accordance with generally accepted accounting principles in use in France. In particular, they take into account the application of accounting regulation N° issued by the French Accounting Regulatory Committee (CRC).']\",\n",
      "    'standard' : \"['generally accepted accounting principles in use in France']\"},\n",
      "'Auditor' : {\n",
      "    'sentence' : \"['In our opinion, the consolidated financial statements, prepared in accordance with generally accepted accounting principles in France, give a true and fair view of the consolidated financial position, assets and liabilities, and net profit of Avenir Telecom SA and its subsidiaries for the financial year then ended.']\",\n",
      "    'standard' : \"['generally accepted accounting principles in France']\"}\n",
      "}\n",
      "\n",
      "61015098.txt {\n",
      "  \"Notes\": {\n",
      "    \"sentence\": \"['The consolidated financial statements of Deutsche Telekom have been\\nprepared in accordance with the International Financial Reporting\\nStandards (IFRS) as adopted by the European Union (EU), as well as with\\nthe regulations under commercial law as set forth in § 315a (1) HGB\\n(Handelsgesetzbuch – German Commercial Code). All IFRSs issued by\\nthe International Accounting Standards Board (IASB), effective at the\\ntime of preparing the consolidated financial statements and applied by\\nDeutsche Telekom, have been adopted for use in the EU by the European\\nCommission. The consolidated financial statements of Deutsche Telekom\\nthus also comply with IFRS as issued by the IASB. Therefore the term IFRS\\nis used in the following.']\",\n",
      "    \"standard\": \"['International Financial Reporting\\nStandards (IFRS) as adopted by the European Union (EU), regulations under commercial law as set forth in § 315a (1) HGB\\n(Handelsgesetzbuch – German Commercial Code), IFRS as issued by the IASB']\"\n",
      "  },\n",
      "  \"Auditor\": {\n",
      "    \"sentence\": \"['In our opinion, based on our findings of our audit, the consolidated financial\\nstatements comply with the IFRS as adopted by the EU, the additional\\nrequirements of German commercial law pursuant to § 315a (1) HGB and\\nIFRS as issued by the IASB, and give a true and fair view of the net assets,\\nfinancial position and results of operations of the Group in accordance\\nwith these requirements. The Group management report is consistent with\\nthe consolidated financial statements and as a whole provides a suitable\\nview of the Group’s position and suitably presents the opportunities and\\nrisks of future development.']\",\n",
      "    \"standard\": \"['IFRS as adopted by the EU, the additional requirements of German Commercial law  pursuant to § 315a (1) HGB and\\nIFRS as issued by the IASB']\"\n",
      "  }\n",
      "}\n",
      "\n"
     ]
    }
   ],
   "source": [
    "for row in test.index:\n",
    "    print(test.loc[row].filename, test.loc[row][\"output\"].choices[0].message.content)\n",
    "    print()"
   ]
  },
  {
   "cell_type": "code",
   "execution_count": 139,
   "id": "c6113bb9-1948-4f85-827d-46cf2529c712",
   "metadata": {},
   "outputs": [],
   "source": [
    "files = test.filename.values\n",
    "labels = test_df[test_df.filename.isin(files)]"
   ]
  },
  {
   "cell_type": "code",
   "execution_count": 148,
   "id": "b229a63f-c3cf-428e-93fa-c2d30c8b0857",
   "metadata": {},
   "outputs": [
    {
     "data": {
      "text/html": [
       "<div>\n",
       "<style scoped>\n",
       "    .dataframe tbody tr th:only-of-type {\n",
       "        vertical-align: middle;\n",
       "    }\n",
       "\n",
       "    .dataframe tbody tr th {\n",
       "        vertical-align: top;\n",
       "    }\n",
       "\n",
       "    .dataframe thead th {\n",
       "        text-align: right;\n",
       "    }\n",
       "</style>\n",
       "<table border=\"1\" class=\"dataframe\">\n",
       "  <thead>\n",
       "    <tr style=\"text-align: right;\">\n",
       "      <th></th>\n",
       "      <th>cc_iso3</th>\n",
       "      <th>filename</th>\n",
       "      <th>sentence</th>\n",
       "      <th>term</th>\n",
       "      <th>source</th>\n",
       "    </tr>\n",
       "  </thead>\n",
       "  <tbody>\n",
       "    <tr>\n",
       "      <th>8</th>\n",
       "      <td>SGP</td>\n",
       "      <td>61466756.txt</td>\n",
       "      <td>In our opinion, the the consolidated financial...</td>\n",
       "      <td>Singapore Financial Reporting Standards</td>\n",
       "      <td>audit</td>\n",
       "    </tr>\n",
       "    <tr>\n",
       "      <th>9</th>\n",
       "      <td>SGP</td>\n",
       "      <td>61466756.txt</td>\n",
       "      <td>The consolidated financial statements of the ...</td>\n",
       "      <td>Singapore Financial Reporting Standards (“FRS”)</td>\n",
       "      <td>notes</td>\n",
       "    </tr>\n",
       "    <tr>\n",
       "      <th>10</th>\n",
       "      <td>SGP</td>\n",
       "      <td>61511488.txt</td>\n",
       "      <td>In our opinion, the financial statements of t...</td>\n",
       "      <td>Singapore Financial Reporting Standards</td>\n",
       "      <td>audit</td>\n",
       "    </tr>\n",
       "    <tr>\n",
       "      <th>11</th>\n",
       "      <td>SGP</td>\n",
       "      <td>61511488.txt</td>\n",
       "      <td>The consolidated financial statements of the G...</td>\n",
       "      <td>Singapore Financial Reporting Standards (\"FRS\")</td>\n",
       "      <td>notes</td>\n",
       "    </tr>\n",
       "    <tr>\n",
       "      <th>12</th>\n",
       "      <td>PHL</td>\n",
       "      <td>62075442.txt</td>\n",
       "      <td>The consolidated fmancial statements have bee...</td>\n",
       "      <td>Philippine Financial Reporting Standards (PFR...</td>\n",
       "      <td>notes</td>\n",
       "    </tr>\n",
       "    <tr>\n",
       "      <th>13</th>\n",
       "      <td>PHL</td>\n",
       "      <td>62075442.txt</td>\n",
       "      <td>In our opinion, the consolidated financial sta...</td>\n",
       "      <td>Philippine Financial Reporting Standards.</td>\n",
       "      <td>audit</td>\n",
       "    </tr>\n",
       "    <tr>\n",
       "      <th>14</th>\n",
       "      <td>TUR</td>\n",
       "      <td>62609130.txt</td>\n",
       "      <td>the consolidated financial statements present ...</td>\n",
       "      <td>Turkish Accounting Standards.</td>\n",
       "      <td>audit</td>\n",
       "    </tr>\n",
       "    <tr>\n",
       "      <th>15</th>\n",
       "      <td>TUR</td>\n",
       "      <td>62609130.txt</td>\n",
       "      <td>The accompanying consolidated financial statem...</td>\n",
       "      <td>Turkish Accounting Standards</td>\n",
       "      <td>notes</td>\n",
       "    </tr>\n",
       "    <tr>\n",
       "      <th>18</th>\n",
       "      <td>IND</td>\n",
       "      <td>64866413.txt</td>\n",
       "      <td>These consolidated financial statements have b...</td>\n",
       "      <td>Generally Accepted Accounting \\nPrinciples in ...</td>\n",
       "      <td>notes</td>\n",
       "    </tr>\n",
       "    <tr>\n",
       "      <th>19</th>\n",
       "      <td>IND</td>\n",
       "      <td>64866413.txt</td>\n",
       "      <td>the aforesaid \\nstandalone financial statement...</td>\n",
       "      <td>accounting principles generally \\naccepted in ...</td>\n",
       "      <td>audit</td>\n",
       "    </tr>\n",
       "    <tr>\n",
       "      <th>30</th>\n",
       "      <td>FRA</td>\n",
       "      <td>60783048.txt</td>\n",
       "      <td>The consolidated financial statements are prep...</td>\n",
       "      <td>generally accepted accounting principles in us...</td>\n",
       "      <td>notes</td>\n",
       "    </tr>\n",
       "    <tr>\n",
       "      <th>31</th>\n",
       "      <td>FRA</td>\n",
       "      <td>60783048.txt</td>\n",
       "      <td>In our opinion, the consolidated financial sta...</td>\n",
       "      <td>generally accepted accounting principles\\nin F...</td>\n",
       "      <td>audit</td>\n",
       "    </tr>\n",
       "    <tr>\n",
       "      <th>32</th>\n",
       "      <td>GBR</td>\n",
       "      <td>61015098.txt</td>\n",
       "      <td>These financial statements have been prepared ...</td>\n",
       "      <td>United Kingdom accounting standards</td>\n",
       "      <td>notes</td>\n",
       "    </tr>\n",
       "    <tr>\n",
       "      <th>33</th>\n",
       "      <td>GBR</td>\n",
       "      <td>61015098.txt</td>\n",
       "      <td>the financial statements give a true and fair ...</td>\n",
       "      <td>United Kingdom Generally Accepted Accounting P...</td>\n",
       "      <td>audit</td>\n",
       "    </tr>\n",
       "  </tbody>\n",
       "</table>\n",
       "</div>"
      ],
      "text/plain": [
       "   cc_iso3      filename                                           sentence  \\\n",
       "8      SGP  61466756.txt  In our opinion, the the consolidated financial...   \n",
       "9      SGP  61466756.txt   The consolidated financial statements of the ...   \n",
       "10     SGP  61511488.txt   In our opinion, the financial statements of t...   \n",
       "11     SGP  61511488.txt  The consolidated financial statements of the G...   \n",
       "12     PHL  62075442.txt   The consolidated fmancial statements have bee...   \n",
       "13     PHL  62075442.txt  In our opinion, the consolidated financial sta...   \n",
       "14     TUR  62609130.txt  the consolidated financial statements present ...   \n",
       "15     TUR  62609130.txt  The accompanying consolidated financial statem...   \n",
       "18     IND  64866413.txt  These consolidated financial statements have b...   \n",
       "19     IND  64866413.txt  the aforesaid \\nstandalone financial statement...   \n",
       "30     FRA  60783048.txt  The consolidated financial statements are prep...   \n",
       "31     FRA  60783048.txt  In our opinion, the consolidated financial sta...   \n",
       "32     GBR  61015098.txt  These financial statements have been prepared ...   \n",
       "33     GBR  61015098.txt  the financial statements give a true and fair ...   \n",
       "\n",
       "                                                 term source  \n",
       "8             Singapore Financial Reporting Standards  audit  \n",
       "9     Singapore Financial Reporting Standards (“FRS”)  notes  \n",
       "10            Singapore Financial Reporting Standards  audit  \n",
       "11    Singapore Financial Reporting Standards (\"FRS\")  notes  \n",
       "12   Philippine Financial Reporting Standards (PFR...  notes  \n",
       "13          Philippine Financial Reporting Standards.  audit  \n",
       "14                     Turkish Accounting Standards.   audit  \n",
       "15                       Turkish Accounting Standards  notes  \n",
       "18  Generally Accepted Accounting \\nPrinciples in ...  notes  \n",
       "19  accounting principles generally \\naccepted in ...  audit  \n",
       "30  generally accepted accounting principles in us...  notes  \n",
       "31  generally accepted accounting principles\\nin F...  audit  \n",
       "32                United Kingdom accounting standards  notes  \n",
       "33  United Kingdom Generally Accepted Accounting P...  audit  "
      ]
     },
     "execution_count": 148,
     "metadata": {},
     "output_type": "execute_result"
    }
   ],
   "source": [
    "labels['cc_iso3 filename sentence term source'.split()]"
   ]
  }
 ],
 "metadata": {
  "kernelspec": {
   "display_name": "venv_gpt_api",
   "language": "python",
   "name": "venv_gpt_api"
  },
  "language_info": {
   "codemirror_mode": {
    "name": "ipython",
    "version": 3
   },
   "file_extension": ".py",
   "mimetype": "text/x-python",
   "name": "python",
   "nbconvert_exporter": "python",
   "pygments_lexer": "ipython3",
   "version": "3.9.5"
  }
 },
 "nbformat": 4,
 "nbformat_minor": 5
}

{
 "cells": [
  {
   "cell_type": "markdown",
   "id": "ed18f5c3-f965-4ab2-9c8a-e06ac804ba16",
   "metadata": {},
   "source": [
    "# Imports"
   ]
  },
  {
   "cell_type": "code",
   "execution_count": 1,
   "id": "55ca3600-057a-4c30-bde6-24e9ddb3dca6",
   "metadata": {},
   "outputs": [
    {
     "data": {
      "text/html": [
       "<style>.container { width:100% !important; }</style>"
      ],
      "text/plain": [
       "<IPython.core.display.HTML object>"
      ]
     },
     "metadata": {},
     "output_type": "display_data"
    }
   ],
   "source": [
    "import os\n",
    "\n",
    "import pandas as pd\n",
    "import matplotlib.pyplot as plt\n",
    "\n",
    "from collections import Counter\n",
    "from dotenv import load_dotenv, find_dotenv\n",
    "from openai import OpenAI\n",
    "\n",
    "import utility.utility as util\n",
    "import utility.prompts as prompts\n",
    "\n",
    "import json\n",
    "\n",
    "# Progress Bars:\n",
    "from tqdm.notebook import tqdm_notebook\n",
    "tqdm_notebook.pandas()\n",
    "\n",
    "# Below import and instructions simply for display\n",
    "from IPython.display import display, HTML\n",
    "display(HTML(\"<style>.container { width:100% !important; }</style>\"))\n",
    "\n",
    "# resets import once changes have been applied\n",
    "%load_ext autoreload\n",
    "%autoreload 2"
   ]
  },
  {
   "cell_type": "markdown",
   "id": "510e69d9-12dc-4833-b45e-b92e7ee36786",
   "metadata": {},
   "source": [
    "# Directory and File Paths"
   ]
  },
  {
   "cell_type": "code",
   "execution_count": 2,
   "id": "a9a32730-f4aa-4c3d-a2ac-b005f00f1318",
   "metadata": {},
   "outputs": [],
   "source": [
    "path_data = os.path.join(os.getcwd(), \"data\")\n",
    "\n",
    "path_stmts = os.path.join(path_data, \"predict\")\n",
    "\n",
    "file_excel = os.path.join(path_data, \"examples_altered.xlsx\")"
   ]
  },
  {
   "cell_type": "markdown",
   "id": "a1fee99c-d08d-4034-81c8-10325479bc71",
   "metadata": {},
   "source": [
    "# Load Environment Variables"
   ]
  },
  {
   "cell_type": "code",
   "execution_count": 3,
   "id": "650e0255-3997-4fd2-ab7a-3f761e231c93",
   "metadata": {},
   "outputs": [],
   "source": [
    "_ = load_dotenv(find_dotenv())"
   ]
  },
  {
   "cell_type": "markdown",
   "id": "1cd68b02-d5b3-4c20-8fcb-06eaaaec79c1",
   "metadata": {},
   "source": [
    "# Load Data"
   ]
  },
  {
   "cell_type": "code",
   "execution_count": 4,
   "id": "565756c2-41cb-4937-8496-992742f248e9",
   "metadata": {},
   "outputs": [],
   "source": [
    "df_meta = pd.read_excel(file_excel, sheet_name=\"Sheet1\")"
   ]
  },
  {
   "cell_type": "markdown",
   "id": "7bffa26a-a09d-4719-a5c8-895091d8ed07",
   "metadata": {},
   "source": [
    "# Preliminary Adjustments"
   ]
  },
  {
   "cell_type": "code",
   "execution_count": 5,
   "id": "b101e23f-10a9-409b-9d46-b76daa6d7db2",
   "metadata": {},
   "outputs": [],
   "source": [
    "df_meta.dropna(axis=1, inplace=True, thresh = int(df_meta.shape[0]*.1))\n",
    "df_meta.drop(columns=[\"checked by\", \"new\", \"manual\", \"page (txt)\", \"manual\", \"note\"], inplace=True)\n",
    "df_meta[\"filename\"] = df_meta[\"filename\"].astype(\"str\") + \".txt\"\n",
    "df_meta[\"filepath\"] = df_meta[\"filename\"].apply(lambda x: os.path.join(path_stmts, x))"
   ]
  },
  {
   "cell_type": "code",
   "execution_count": null,
   "id": "630ef569-20c0-4961-87cd-d7c0fdf08d38",
   "metadata": {},
   "outputs": [],
   "source": []
  },
  {
   "cell_type": "markdown",
   "id": "f3c10086-9590-4f4b-b529-36327cb227cb",
   "metadata": {},
   "source": [
    "# Split \"Train\" \"Test\""
   ]
  },
  {
   "cell_type": "code",
   "execution_count": 6,
   "id": "26891f2d-4dbc-4a3b-ac58-b9b34767966e",
   "metadata": {},
   "outputs": [],
   "source": [
    "prompt_indeces = [0,1,2,3,4,5,6,7,16,17,20,21,26,27,34,35,36,37]\n",
    "test_indeces = [i for i in df_meta.index if i not in prompt_indeces]"
   ]
  },
  {
   "cell_type": "code",
   "execution_count": 7,
   "id": "2edac6a1-3988-4a72-bc8e-7750084d9e46",
   "metadata": {},
   "outputs": [],
   "source": [
    "prompt_df = df_meta.iloc[prompt_indeces,:].copy()\n",
    "test_df = df_meta.iloc[test_indeces,:].copy()\n",
    "del df_meta"
   ]
  },
  {
   "cell_type": "markdown",
   "id": "f06ca7f7-e721-4195-b6f8-cbe4ca372a06",
   "metadata": {},
   "source": [
    "# Extract most common terms:"
   ]
  },
  {
   "cell_type": "code",
   "execution_count": 8,
   "id": "fd904905-db1c-4595-b949-49e0015ffc1a",
   "metadata": {},
   "outputs": [],
   "source": [
    "min_ratio = .5\n",
    "\n",
    "terms_auditor = util.concat_terms(util.det_commonly_used_terms(prompt_df[\"terms_audit\"], min_ratio=min_ratio), \", \")\n",
    "terms_notes = util.concat_terms(util.det_commonly_used_terms(prompt_df[\"terms_notes\"], min_ratio=min_ratio), \", \")\n",
    "#terms_acc_stds = util.concat_terms(util.det_commonly_used_terms(df_meta[\"term\"], min_ratio=0), \" - \")\n",
    "\n",
    "section_terms_auditor = prompts.common_terms_section_auditor.format(terms_auditor = terms_auditor)\n",
    "section_terms_notes = prompts.common_terms_section_notes.format(terms_notes = terms_notes)\n",
    "#section_terms_acc_stds = prompts.common_terms_accounting_stds.format(acc_std = terms_acc_stds)"
   ]
  },
  {
   "cell_type": "markdown",
   "id": "d41d9e54-1880-42cc-baf2-15b24df0a42c",
   "metadata": {},
   "source": [
    "# Construct Base Prompt"
   ]
  },
  {
   "cell_type": "markdown",
   "id": "0fb8c322-7155-40cc-a674-6a1b3bacc861",
   "metadata": {},
   "source": [
    "## System Context"
   ]
  },
  {
   "cell_type": "code",
   "execution_count": 9,
   "id": "137e1785-7b1a-4001-b623-7c225128d5de",
   "metadata": {},
   "outputs": [],
   "source": [
    "system = prompts.system_context_basic + \\\n",
    "         prompts.task_descr_1 + \\\n",
    "         section_terms_auditor + \\\n",
    "         section_terms_notes + \\\n",
    "         prompts.instruction_1 + \\\n",
    "         prompts.answer_format1"
   ]
  },
  {
   "cell_type": "markdown",
   "id": "6b3d907e-397b-4cc1-8bdd-343ed642a327",
   "metadata": {},
   "source": [
    "### User_Assitant Context - examples in conversations user-assistant"
   ]
  },
  {
   "cell_type": "code",
   "execution_count": 10,
   "id": "727dd3ac-4db1-407b-bd83-e7765ca45c82",
   "metadata": {},
   "outputs": [],
   "source": [
    "user_assistant = util.get_user_assistant_context_format1(prompt_df, \"filename\", \"source\", \"paragraph (context)\", \"sentence\", \"term\")"
   ]
  },
  {
   "cell_type": "markdown",
   "id": "f051f140-f6bd-4965-8028-1d98a83b0d47",
   "metadata": {},
   "source": [
    "# Examples in one prompt"
   ]
  },
  {
   "cell_type": "code",
   "execution_count": 11,
   "id": "ea537699-b5db-4f0d-9533-422324fd4dda",
   "metadata": {},
   "outputs": [],
   "source": [
    "prompt_examples = util.get_examples_prompt(prompts.examples_base1, prompt_df, \"filename\", \"source\", \"paragraph (context)\", \"sentence\", \"term\")\n",
    "system += prompt_examples"
   ]
  },
  {
   "cell_type": "markdown",
   "id": "c63f1cd5-a777-4593-a9fc-6852fbf55e33",
   "metadata": {},
   "source": [
    "# Extract Text Prompt"
   ]
  },
  {
   "cell_type": "code",
   "execution_count": 12,
   "id": "4c3e85e6-7aa5-4961-973f-9ccdb353b11d",
   "metadata": {},
   "outputs": [],
   "source": [
    "df_inputs = test_df[['filepath', 'filename','cc_iso3']].copy().drop_duplicates()\n",
    "df_inputs['prompt'] = df_inputs['filepath'].apply(util.parse_txt).apply(util.clean_text)"
   ]
  },
  {
   "cell_type": "code",
   "execution_count": 13,
   "id": "5f33f3ab-3f9c-4c23-a756-4b9fd81cf68b",
   "metadata": {},
   "outputs": [],
   "source": [
    "df_inputs['num_tokens'] = df_inputs['prompt'].apply(util.count_tokens)\n",
    "base_prompt_length = util.count_tokens(system)\n",
    "df_inputs['com_num_tokens'] = df_inputs['num_tokens'] + base_prompt_length"
   ]
  },
  {
   "cell_type": "code",
   "execution_count": 14,
   "id": "fff02b6e-8fa4-4f20-b9ff-f7feb6e0dbc8",
   "metadata": {},
   "outputs": [
    {
     "data": {
      "text/plain": [
       "<matplotlib.lines.Line2D at 0x1e3514d5970>"
      ]
     },
     "execution_count": 14,
     "metadata": {},
     "output_type": "execute_result"
    },
    {
     "data": {
      "image/png": "[encoded data removed]",
      "text/plain": [
       "<Figure size 640x480 with 1 Axes>"
      ]
     },
     "metadata": {},
     "output_type": "display_data"
    }
   ],
   "source": [
    "df_inputs['num_tokens'].hist(bins=30)\n",
    "plt.axvline(x=df_inputs['com_num_tokens'].median(), color = \"r\")"
   ]
  },
  {
   "cell_type": "markdown",
   "id": "a6236d41-aae6-4683-83eb-775eab9ce9da",
   "metadata": {},
   "source": [
    "# Segment Stmts"
   ]
  },
  {
   "cell_type": "code",
   "execution_count": 15,
   "id": "072e6505-b81a-4717-9793-1425be35bccb",
   "metadata": {},
   "outputs": [
    {
     "data": {
      "text/html": [
       "<div>\n",
       "<style scoped>\n",
       "    .dataframe tbody tr th:only-of-type {\n",
       "        vertical-align: middle;\n",
       "    }\n",
       "\n",
       "    .dataframe tbody tr th {\n",
       "        vertical-align: top;\n",
       "    }\n",
       "\n",
       "    .dataframe thead th {\n",
       "        text-align: right;\n",
       "    }\n",
       "</style>\n",
       "<table border=\"1\" class=\"dataframe\">\n",
       "  <thead>\n",
       "    <tr style=\"text-align: right;\">\n",
       "      <th></th>\n",
       "      <th>filepath</th>\n",
       "      <th>filename</th>\n",
       "      <th>cc_iso3</th>\n",
       "      <th>prompt</th>\n",
       "      <th>num_tokens</th>\n",
       "      <th>com_num_tokens</th>\n",
       "      <th>segment</th>\n",
       "    </tr>\n",
       "  </thead>\n",
       "  <tbody>\n",
       "    <tr>\n",
       "      <th>0</th>\n",
       "      <td>C:\\Users\\ilias\\Desktop\\UniMaResearch2023\\Extra...</td>\n",
       "      <td>61466756.txt</td>\n",
       "      <td>SGP</td>\n",
       "      <td>CEI Contract Manufacturing Limited Company Reg...</td>\n",
       "      <td>12000</td>\n",
       "      <td>36936</td>\n",
       "      <td>0</td>\n",
       "    </tr>\n",
       "    <tr>\n",
       "      <th>1</th>\n",
       "      <td>C:\\Users\\ilias\\Desktop\\UniMaResearch2023\\Extra...</td>\n",
       "      <td>61466756.txt</td>\n",
       "      <td>SGP</td>\n",
       "      <td>is not be remeasured until it is finally sett...</td>\n",
       "      <td>12000</td>\n",
       "      <td>36936</td>\n",
       "      <td>1</td>\n",
       "    </tr>\n",
       "    <tr>\n",
       "      <th>2</th>\n",
       "      <td>C:\\Users\\ilias\\Desktop\\UniMaResearch2023\\Extra...</td>\n",
       "      <td>61466756.txt</td>\n",
       "      <td>SGP</td>\n",
       "      <td>in force (unless such compliance has been wai...</td>\n",
       "      <td>8309</td>\n",
       "      <td>36936</td>\n",
       "      <td>2</td>\n",
       "    </tr>\n",
       "    <tr>\n",
       "      <th>3</th>\n",
       "      <td>C:\\Users\\ilias\\Desktop\\UniMaResearch2023\\Extra...</td>\n",
       "      <td>61511488.txt</td>\n",
       "      <td>SGP</td>\n",
       "      <td>Transcending Boundaries, Growing Opportunities...</td>\n",
       "      <td>12000</td>\n",
       "      <td>43476</td>\n",
       "      <td>0</td>\n",
       "    </tr>\n",
       "    <tr>\n",
       "      <th>4</th>\n",
       "      <td>C:\\Users\\ilias\\Desktop\\UniMaResearch2023\\Extra...</td>\n",
       "      <td>61511488.txt</td>\n",
       "      <td>SGP</td>\n",
       "      <td>individual performance while the remuneration...</td>\n",
       "      <td>12000</td>\n",
       "      <td>43476</td>\n",
       "      <td>1</td>\n",
       "    </tr>\n",
       "    <tr>\n",
       "      <th>...</th>\n",
       "      <td>...</td>\n",
       "      <td>...</td>\n",
       "      <td>...</td>\n",
       "      <td>...</td>\n",
       "      <td>...</td>\n",
       "      <td>...</td>\n",
       "      <td>...</td>\n",
       "    </tr>\n",
       "    <tr>\n",
       "      <th>58</th>\n",
       "      <td>C:\\Users\\ilias\\Desktop\\UniMaResearch2023\\Extra...</td>\n",
       "      <td>60783048.txt</td>\n",
       "      <td>FRA</td>\n",
       "      <td>Group Terms and conditions: The taxable incom...</td>\n",
       "      <td>12000</td>\n",
       "      <td>87785</td>\n",
       "      <td>5</td>\n",
       "    </tr>\n",
       "    <tr>\n",
       "      <th>59</th>\n",
       "      <td>C:\\Users\\ilias\\Desktop\\UniMaResearch2023\\Extra...</td>\n",
       "      <td>60783048.txt</td>\n",
       "      <td>FRA</td>\n",
       "      <td>approves the consolidated financial statement...</td>\n",
       "      <td>11958</td>\n",
       "      <td>87785</td>\n",
       "      <td>6</td>\n",
       "    </tr>\n",
       "    <tr>\n",
       "      <th>60</th>\n",
       "      <td>C:\\Users\\ilias\\Desktop\\UniMaResearch2023\\Extra...</td>\n",
       "      <td>61015098.txt</td>\n",
       "      <td>GBR</td>\n",
       "      <td>ANNUAL REPORT &amp; ACCOUNTS AVESCO GROUP PLC ANNU...</td>\n",
       "      <td>12000</td>\n",
       "      <td>38886</td>\n",
       "      <td>0</td>\n",
       "    </tr>\n",
       "    <tr>\n",
       "      <th>61</th>\n",
       "      <td>C:\\Users\\ilias\\Desktop\\UniMaResearch2023\\Extra...</td>\n",
       "      <td>61015098.txt</td>\n",
       "      <td>GBR</td>\n",
       "      <td>and Mr Nicholson, who were appointed to the B...</td>\n",
       "      <td>12000</td>\n",
       "      <td>38886</td>\n",
       "      <td>1</td>\n",
       "    </tr>\n",
       "    <tr>\n",
       "      <th>62</th>\n",
       "      <td>C:\\Users\\ilias\\Desktop\\UniMaResearch2023\\Extra...</td>\n",
       "      <td>61015098.txt</td>\n",
       "      <td>GBR</td>\n",
       "      <td>consumables Work in progress Finished goods a...</td>\n",
       "      <td>10259</td>\n",
       "      <td>38886</td>\n",
       "      <td>2</td>\n",
       "    </tr>\n",
       "  </tbody>\n",
       "</table>\n",
       "<p>63 rows × 7 columns</p>\n",
       "</div>"
      ],
      "text/plain": [
       "                                             filepath      filename cc_iso3  \\\n",
       "0   C:\\Users\\ilias\\Desktop\\UniMaResearch2023\\Extra...  61466756.txt     SGP   \n",
       "1   C:\\Users\\ilias\\Desktop\\UniMaResearch2023\\Extra...  61466756.txt     SGP   \n",
       "2   C:\\Users\\ilias\\Desktop\\UniMaResearch2023\\Extra...  61466756.txt     SGP   \n",
       "3   C:\\Users\\ilias\\Desktop\\UniMaResearch2023\\Extra...  61511488.txt     SGP   \n",
       "4   C:\\Users\\ilias\\Desktop\\UniMaResearch2023\\Extra...  61511488.txt     SGP   \n",
       "..                                                ...           ...     ...   \n",
       "58  C:\\Users\\ilias\\Desktop\\UniMaResearch2023\\Extra...  60783048.txt     FRA   \n",
       "59  C:\\Users\\ilias\\Desktop\\UniMaResearch2023\\Extra...  60783048.txt     FRA   \n",
       "60  C:\\Users\\ilias\\Desktop\\UniMaResearch2023\\Extra...  61015098.txt     GBR   \n",
       "61  C:\\Users\\ilias\\Desktop\\UniMaResearch2023\\Extra...  61015098.txt     GBR   \n",
       "62  C:\\Users\\ilias\\Desktop\\UniMaResearch2023\\Extra...  61015098.txt     GBR   \n",
       "\n",
       "                                               prompt  num_tokens  \\\n",
       "0   CEI Contract Manufacturing Limited Company Reg...       12000   \n",
       "1    is not be remeasured until it is finally sett...       12000   \n",
       "2    in force (unless such compliance has been wai...        8309   \n",
       "3   Transcending Boundaries, Growing Opportunities...       12000   \n",
       "4    individual performance while the remuneration...       12000   \n",
       "..                                                ...         ...   \n",
       "58   Group Terms and conditions: The taxable incom...       12000   \n",
       "59   approves the consolidated financial statement...       11958   \n",
       "60  ANNUAL REPORT & ACCOUNTS AVESCO GROUP PLC ANNU...       12000   \n",
       "61   and Mr Nicholson, who were appointed to the B...       12000   \n",
       "62   consumables Work in progress Finished goods a...       10259   \n",
       "\n",
       "    com_num_tokens segment  \n",
       "0            36936       0  \n",
       "1            36936       1  \n",
       "2            36936       2  \n",
       "3            43476       0  \n",
       "4            43476       1  \n",
       "..             ...     ...  \n",
       "58           87785       5  \n",
       "59           87785       6  \n",
       "60           38886       0  \n",
       "61           38886       1  \n",
       "62           38886       2  \n",
       "\n",
       "[63 rows x 7 columns]"
      ]
     },
     "execution_count": 15,
     "metadata": {},
     "output_type": "execute_result"
    }
   ],
   "source": [
    "util.segment_text_column(df_inputs, \"filename\", \"prompt\", 12000, 200)"
   ]
  },
  {
   "cell_type": "code",
   "execution_count": 16,
   "id": "7a83d71a-9750-471f-b362-abdb09c9dd67",
   "metadata": {},
   "outputs": [
    {
     "data": {
      "text/plain": [
       "filepath          C:\\Users\\ilias\\Desktop\\UniMaResearch2023\\Extra...\n",
       "filename                                              172416837.txt\n",
       "cc_iso3                                                         CAN\n",
       "prompt            RITCHIE BROS AUCTIONEERS INC Form -K Filed on ...\n",
       "num_tokens                                                   163019\n",
       "com_num_tokens                                               168046\n",
       "Name: 22, dtype: object"
      ]
     },
     "execution_count": 16,
     "metadata": {},
     "output_type": "execute_result"
    }
   ],
   "source": [
    "df_inputs.loc[22]"
   ]
  },
  {
   "cell_type": "markdown",
   "id": "f2a0bbe9-2f8b-463b-b3b7-769cb4d42af8",
   "metadata": {},
   "source": [
    "# reduce to below 60k tokens"
   ]
  },
  {
   "cell_type": "code",
   "execution_count": 17,
   "id": "13200adb-2016-4326-8fc6-ad0594bcba4a",
   "metadata": {},
   "outputs": [
    {
     "data": {
      "text/plain": [
       "8      36936\n",
       "10     43476\n",
       "12     74628\n",
       "14     58243\n",
       "18     59680\n",
       "22    168046\n",
       "24     99259\n",
       "28     92588\n",
       "30     87785\n",
       "32     38886\n",
       "Name: com_num_tokens, dtype: int64"
      ]
     },
     "execution_count": 17,
     "metadata": {},
     "output_type": "execute_result"
    }
   ],
   "source": [
    "df_inputs['com_num_tokens']"
   ]
  },
  {
   "cell_type": "code",
   "execution_count": 18,
   "id": "cb65d849-0088-48b7-815a-7806f53c4e7c",
   "metadata": {},
   "outputs": [],
   "source": [
    "df_inputs = df_inputs[df_inputs.num_tokens <= 60000]"
   ]
  },
  {
   "cell_type": "code",
   "execution_count": 19,
   "id": "ccb4da97-257c-4838-bad5-78583f134022",
   "metadata": {},
   "outputs": [
    {
     "data": {
      "text/plain": [
       "8      36936\n",
       "10     80412\n",
       "14    138655\n",
       "18    198335\n",
       "32    237221\n",
       "Name: com_num_tokens, dtype: int64"
      ]
     },
     "execution_count": 19,
     "metadata": {},
     "output_type": "execute_result"
    }
   ],
   "source": [
    "df_inputs['com_num_tokens'].cumsum()"
   ]
  },
  {
   "cell_type": "markdown",
   "id": "5390e844-d6c7-43f0-8922-8d7d74e9707b",
   "metadata": {},
   "source": [
    "# Calculate Cost"
   ]
  },
  {
   "cell_type": "code",
   "execution_count": 20,
   "id": "7bec6119-d280-446f-a89c-b33a21287806",
   "metadata": {},
   "outputs": [
    {
     "data": {
      "text/plain": [
       "{'$ (excl. VAT)': 2.37221}"
      ]
     },
     "execution_count": 20,
     "metadata": {},
     "output_type": "execute_result"
    }
   ],
   "source": [
    "util.calc_price_gpt(df_inputs.shape[0], df_inputs.com_num_tokens.mean(), 1, .01, 1000)"
   ]
  },
  {
   "cell_type": "code",
   "execution_count": 21,
   "id": "a9fa373c-498f-4a46-88ee-a6e6979201eb",
   "metadata": {},
   "outputs": [
    {
     "data": {
      "text/plain": [
       "{'$ (excl. VAT)': 1600.0}"
      ]
     },
     "execution_count": 21,
     "metadata": {},
     "output_type": "execute_result"
    }
   ],
   "source": [
    "util.calc_price_gpt(100_000, 16_000, 2, .0005, 1_000)"
   ]
  },
  {
   "cell_type": "code",
   "execution_count": 22,
   "id": "30b2e236-67f5-4bf6-b5fd-b281e233788f",
   "metadata": {},
   "outputs": [
    {
     "data": {
      "text/plain": [
       "{'days': 13.0, 'hours': 21.0, 'min': 20.0, 'raw min': 20000.0}"
      ]
     },
     "execution_count": 22,
     "metadata": {},
     "output_type": "execute_result"
    }
   ],
   "source": [
    "util.calc_compute_time(100_000, 16000, 2, 160_000)"
   ]
  },
  {
   "cell_type": "markdown",
   "id": "e1f29ad9-f47d-40a3-9fd2-4539030791f6",
   "metadata": {},
   "source": [
    "# Prompt GPT"
   ]
  },
  {
   "cell_type": "markdown",
   "id": "74a3eece-0ee1-4e89-bf0b-0aec04729a28",
   "metadata": {},
   "source": [
    "## Initialize Client"
   ]
  },
  {
   "cell_type": "code",
   "execution_count": 23,
   "id": "e735c0cc-0080-4be4-84bb-77829ac76e8f",
   "metadata": {},
   "outputs": [],
   "source": [
    "client = OpenAI()"
   ]
  },
  {
   "cell_type": "code",
   "execution_count": 36,
   "id": "e3828fff-d1cb-4707-a453-79169165257c",
   "metadata": {},
   "outputs": [
    {
     "name": "stdout",
     "output_type": "stream",
     "text": [
      "\n",
      "You are a financial accountant.\n",
      "\n",
      "You are tasked to extract information contained within two sections, the auditor section and the notes section,  of a provided financial statement. More specifically, from the notes section you are tasked to extract according to what accounting standard the financial statement has been prepared, and from the auditor section you are tasked to extract what accounting standard the financial statement is in compliance with. It is possible that a financial statement is in compliance with or has been constructed according to multiple standards, in which case you should extract both - note, double standards are most likely in close vicinity to each other. I will provide you with long textual sequences. Make absolutely sure that you only respond with phrases you find within the provided financial statement. Before providing an answer, check whether you can find it within the provided text.\n",
      "\n",
      "\n",
      "For the auditor part you will most likely find some of these terms, delimited by tags (<auditor><\\auditor>) and separated by commas, in the vicinity of the information to be extracted: <auditor>true and fair, in our opinion, fair view, our opinion, we conducted our audit in accordance with<\\auditor>.\n",
      "\n",
      "Within the notes part you will most likely find some of these terms, delimited by tags (<notes><\\notes>) and separated by commas, in the vicinity of the information to be extracted: <notes>consolidated financial statements<\\notes>.\n",
      " \n",
      "Please follow these instructions:\n",
      "1) First read the financial statement.\n",
      "2) Second find the sentence that contains the desired term.\n",
      "3) Extract the desired term.\n",
      "4) Make sure that the term you extract is acutally contained in the provided financial statement.\n",
      "5) List both the term and the sentence from which you extracted the term.\n",
      "\n",
      "Answer in the following format:\n",
      "{\n",
      "\"notes\" : {\n",
      "    \"sentence\" : \"sentence from which you extracted the standard contained in the notes section\",\n",
      "    \"term\" : \"accounting standard you found in the notes section\"},\n",
      "'audit' : {\n",
      "    \"sentence\" : \"sentence from which you extracted the standard contained in the auditor section\",\n",
      "    \"term\" : \"accounting standard you found in the auditor section\"}\n",
      "}\n",
      "\n",
      "Here are a few examples:\n",
      "\n",
      "Example 0:\n",
      "2. Summary of significant accounting policies 2.1 Basis of preparation The financial statements have been drawn up in accordance with the provisions of the Singapore Companies Act, Cap. 50 and the Singapore Financial Reporting Standards (“FRS”) including related Interpretations of FRS (“INT FRS”) and are prepared on historical cost basis, except as disclosed in the financial statement. The individual financial statements of each Group entity are measured and presented in the currency of the primary economic environment in which the entity operates (its functional currency). The consolidated financial statements of the Group and the statement of financial position of the Company are presented in Singapore dollar (“$”) which is also the functional currency of the Company, and all values presented are rounded to the nearest thousand (“$’000”), unless otherwise indicated. The preparation of financial statements in conformity with FRS requires management to make judgements, estimates and assumptions that affect the Group’s application of accounting policies and reported amounts of assets, liabilities, revenue and expenses. Although these estimates are based on management’s best knowledge of current events and actions, actual results may differ from those estimates ... opinion in our opinion the financial statements of the group and the statements of financial position and changes in equity of the company are properly drawn up in accordance with the provisions of the act and singapore financial reporting standards so as to give a true and fair view of the state of affairs of the group and of the company as at 31 december 2014 and the results changes in equity and cash flows of the group and changes in equity of the company for the ... \n",
      "Answer 0:\n",
      "{\"notes\": {\"sentence\": \"The financial statements have been drawn up in accordance with the provisions of the Singapore Companies Act, Cap. 50 and the Singapore Financial Reporting Standards (\\u201cFRS\\u201d) including related Interpretations of FRS (\\u201cINT FRS\\u201d) and are prepared on historical cost basis, except as disclosed in the financial statement. \", \"term\": \"Singapore Financial Reporting Standards (\\u201cFRS\\u201d)\"}, \"audit\": {\"sentence\": \"opinion in our opinion the financial statements of the group and the statements of financial position and changes in equity of the company are properly drawn up in accordance with the provisions of the act and singapore financial reporting standards so as to give a true and fair view of the state of affairs of the group and of the company as at 31 december 2014\", \"term\": \"singapore financial reporting standards\"}}\n",
      "\n",
      "Example 1:\n",
      "2 SUMMARY OF SIGNIFICANT ACCOUNTING POLICIES\n",
      "2.1 Basis of preparation\n",
      "The financial statements of the Group and of the Company have been prepared in accordance with Financial \n",
      "Reporting Standards and the requirements of the Companies Act, 1965 in Malaysia. \n",
      "The financial statements have been prepared on the historical cost basis except as disclosed in the accounting \n",
      "policies below. \n",
      "The financial statements are presented in Ringgit Malaysia (RM). ... in our opinion the financial statements give a true and fair view of the financial position of the group and of the company as at 31 december 2015 and of their financial performance and cash flows for the year then ended in accordance with financial reporting standards and the requirements of the companies act 1965 in malaysia 038 permaju industries berhad 379057 v independent auditors report to the members of permaju industries berhad incorporated in malaysia report on other legal and regulatory requirements in accordance with the requirements of the companies act 1965 in malaysia ... \n",
      "Answer 1:\n",
      "{\"notes\": {\"sentence\": \"The financial statements of the Group and of the Company have been prepared in accordance with Financial Reporting Standards and the requirements of the Companies Act, 1965 in Malaysia. \", \"term\": \"Financial  Reporting Standards and the requirements of the Companies Act, 1965 in Malaysia. \"}, \"audit\": {\"sentence\": \"in our opinion the financial statements give a true and fair view of the financial position of the group and of the company as at 31 december 2015 and of their financial performance and cash flows for the year then ended in accordance with financial reporting standards and the requirements of the companies act 1965 in malaysia\", \"term\": \"financial reporting standards\"}}\n",
      "\n",
      "Example 2:\n",
      "2. Basis of presentation of consolidated financial statements\n",
      "2.1 Basis of presentation\n",
      "The consolidated financial statements and disclosures have been prepared in accordance with the communiqué numbered II-14.1 “Communiqué \n",
      "on the Principles of Financial Reporting in Capital Markets” (“the Communiqué”) announced by the Capital Markets Board (“CMB”) (hereinafter \n",
      "will be referred to as “the CMB Reporting Standards”) on June 13, 2013 which is published on Official Gazette numbered 28676. Companies \n",
      "should apply Turkish Accounting Standards/Turkish Financial Reporting Standards and interpretations regarding these standards as adopted by \n",
      "Public Oversight Accounting and Auditing Standards Authority of Turkey (“POA”).\n",
      "In accordance with article 5th of the CMB Reporting Standards, companies should apply Turkish Accounting Standards/Turkish Financial \n",
      "Reporting Standards and its interpretations issued by the Public Oversight Accounting and Auditing Standards Authority of Turkey (“POA”) ... the group management is responsible for the preparation and fair presentation of consolidated financial statements in accordance with the turkish accounting standards tas and for such internal controls as management determines is necessary to enable the preparation and fair presentation of consolidated financial statements that are free from material misstatement ... \n",
      "Answer 2:\n",
      "{\"notes\": {\"sentence\": \"The consolidated financial statements and disclosures have been prepared in accordance with the communiqu\\u00e9 numbered II-14.1 \\u201cCommuniqu\\u00e9 \\non the Principles of Financial Reporting in Capital Markets\\u201d (\\u201cthe Communiqu\\u00e9\\u201d) announced by the Capital Markets Board (\\u201cCMB\\u201d) (hereinafter \\nwill be referred to as \\u201cthe CMB Reporting Standards\\u201d) on June 13, 2013 which is published on Official Gazette numbered 28676. Companies \\nshould apply Turkish Accounting Standards/Turkish Financial Reporting Standards and interpretations regarding these standards as adopted by \\nPublic Oversight Accounting and Auditing Standards Authority of Turkey (\\u201cPOA\\u201d).\", \"term\": \"the communiqu\\u00e9 numbered II-14.1 \\u201cCommuniqu\\u00e9 on the Principles of Financial Reporting in Capital Markets\\u201d (\\u201cthe Communiqu\\u00e9\\u201d) announced by the Capital Markets Board (\\u201cCMB\\u201d) (hereinafter \\nwill be referred to as \\u201cthe CMB Reporting Standards\\u201d) ,Turkish Accounting Standards/Turkish Financial Reporting Standards and interpretations regarding these standards as adopted by \\nPublic Oversight Accounting and Auditing Standards Authority of Turkey (\\u201cPOA\\u201d)\"}, \"audit\": {\"sentence\": \"the group management is responsible for the preparation and fair presentation of consolidated financial statements in accordance with the turkish accounting standards tas\", \"term\": \"turkish accounting standards\"}}\n",
      "\n",
      "Example 3:\n",
      "I. BASIS OF PREPARATION\n",
      "The consolidated financial statements of the Group have been prepared on a historical cost basis, except for derivative financial instruments which are measured at fair value.\n",
      "The consolidated financial statements are presented in Philippine peso, which is the Parent Company's functional currency under Philippine Financial Reporting Standards (PFRS). All values are rounded to the nearest million (P000,000), except when otherwise indicated.\n",
      "Statement of Compliance The consolidated financial statements have been prepared in compliance with PFRS. PFRS includes statements named PFRS and Philippine Accounting Standards (PAS), including Philippine interpretations from International Financial Reporting Interpretation Committee (IFRIC), issued by the Financial Reporting Standards Council (FRSC).\n",
      "\n",
      " ... Opinion\n",
      "In our opinion, the consolidated financial statements present fairly, in all materialrespects, the\n",
      "consolidated financial position of Ginebra San Miguel, Inc. and Subsidiaries as ofDecember 31,\n",
      "2008 and 2007, and its consolidated financial performance and its consolidated cash flows {orthe\n",
      "years then ended in accordance with Philippine Financial Reporting Standards ... \n",
      "Answer 3:\n",
      "{\"notes\": {\"sentence\": \"The consolidated financial statements are presented in Philippine peso, which is the Parent Company's functional currency under Philippine Financial Reporting Standards (PFRS)|The consolidated financial statements have been prepared in compliance with PFRS\", \"term\": \"Philippine Financial Reporting Standards (PFRS), PFRS\"}, \"audit\": {\"sentence\": \"In our opinion, the consolidated financial statements present fairly, in all materialrespects, the\\nconsolidated financial position of Ginebra San Miguel, Inc. and Subsidiaries as ofDecember 31,\\n2008 and 2007, and its consolidated financial performance and its consolidated cash flows {orthe\\nyears then ended in accordance with Philippine Financial Reporting Standards\", \"term\": \"Philippine Financial Reporting Standards\"}}\n",
      "\n",
      "Example 4:\n",
      "NOTE 1 \n",
      "Significant Accounting Policies \n",
      "I) Accounting Convention\n",
      "The financial statements are prepared under the historical cost convention in accordance with generally \n",
      "accepted accounting principles in India, the Accounting Standards issued by The Institute of Chartered \n",
      "Accountants of India and the provisions of the Companies Act, 2013 ('the Act'). ... \n",
      "OPINION Without qualifying our report, we state that in respect of revenue recognized from the reality business, we have relied solely on the certification received from a registered architect. Subject to the above, in our opinion and to the best of our information and according to the explanations given to us, the said accounts read with notes thereon, the aforesaid financial statements give the information required by the Act in the manner so required and give a true and fair view in conformity with the accounting principles generally accepted in India:\n",
      "i) in the case of the Balance Sheet, of the state of affairs of the Company as at 31 March 2017; ii) in the case of the Statement of Profit and Loss, of the loss for the year ended on that date; and iii) in the case of the Statement of Cash flow, for the cash flows for the year ended on that date. REPORT ON OTHER LEGAL AND REGULATORY REQUIREMENTS 1. As required by the Companies (Auditor's Report) Order, 2016 issued by the Central Government of India in terms of sub section (11) of section 143 of the Act, we give in the Annexure A, a statement on the matters specified in paragraphs 3 and 4 of the Order, to the extent applicable. 2. As required by section 143(3) of the Act, we report that: i) we have sought and obtained all information and explanations, as mentioned in the foregoing\n",
      "paragraphs, which to the best of our knowledge and belief were necessary for the purposes of our audit; ii) in our opinion, proper books of account as required by law have been kept by the Company so far as it\n",
      "appears from our examination of those books; iii) the Balance Sheet, the Statement of Profit and Loss and the Cash Flow Statement dealt with by this\n",
      "Report are in agreement with the books of account; iv) in our opinion, the aforesaid financial statements comply with the Accounting Standards specified under\n",
      "Section 133 of the Act, read with relevant rule issued thereunder; v) relying solely on the basis of written representations received from the directors as on 31 March 2017\n",
      "and taken on record by the Board of Directors, none of the directors are disqualified as on 31 March 2017 from being appointed as a director in terms of section 164(2) of the Act;\n",
      "\n",
      "64 ... \n",
      "Answer 4:\n",
      "{\"notes\": {\"sentence\": \"The financial statements are prepared under the historical cost convention in accordance with generally  accepted accounting principles in India, the Accounting Standards issued by The Institute of Chartered Accountants of India and the provisions of the Companies Act, 2013 ('the Act')\", \"term\": \"generally accepted accounting principles in India\"}, \"audit\": {\"sentence\": \"in our opinion and to the best of our information and according to the explanations given to us, the said accounts read with notes thereon, the aforesaid financial statements give the information required by the Act in the manner so required and give a true and fair view in conformity with the accounting principles generally accepted in India \", \"term\": \"accounting principles generally accepted in India \"}}\n",
      "\n",
      "Example 5:\n",
      "Management is responsible for the preparation and fair presentation of these consolidated financial statements in accordance with International Financial Reporting Standards as\n",
      "issued by the International Accounting Standards Board, and for such internal control as management determines is necessary to enable the preparation of consolidated financial\n",
      "statements that are free from material misstatement, whether due to fraud or error. ... These audited consolidated financial statements have been prepared on a historical cost basis except for financial instruments classified as fair value through profit or loss\n",
      "which are stated at their fair value. These audited consolidated financial statements are presented in Canadian dollars and have been prepared on the basis of IFRS\n",
      "standards that are effective on December 31, 2016. The accounting policies adopted by the Company have been applied consistently to all periods presented. These audited\n",
      "consolidated financial statements are presented in the Company’s, and its subsidiaries, functional currency of Canadian dollars. ... \n",
      "Answer 5:\n",
      "{\"audit\": {\"sentence\": \"Management is responsible for the preparation and fair presentation of these consolidated financial statements in accordance with International Financial Reporting Standards as\\nissued by the International Accounting Standards Board, \", \"term\": \" International Financial Reporting Standards as\\nissued by the International Accounting Standards Board\"}, \"notes\": {\"sentence\": \"nan\", \"term\": \"nan\"}}\n",
      "\n",
      "Example 6:\n",
      "The financial report is a general purpose financial report which has been prepared in accordance with Australian\n",
      "Accounting Standards (“AASBs”) adopted by the Australian Accounting Standards Board (“AASB”) and the\n",
      "Corporations Act 2001. International Financial Reporting Standards (“IFRSs”) form the basis of Australian Accounting\n",
      "Standards (“AASBs”) adopted by the AASB, and for the purpose of this report are called Australian equivalents to IFRS\n",
      "(“AIFRS”) to distinguish from previous Australian GAAP. ... Audit opinion\n",
      "1. In our opinion, the financial report of Campbell Brothers Limited is in accordance with:\n",
      "(a) the Corporations Act 2001, including:\n",
      "(i) giving a true and fair view of the Company’s and consolidated entity’s financial position as at 31 March 2006\n",
      "and of their performance for the financial year ended on that date; and\n",
      "(ii) complying with Australian Accounting Standards and the Corporations Regulations 2001; and\n",
      "(b) other mandatory financial reporting requirements in Australia. ... \n",
      "Answer 6:\n",
      "{\"notes\": {\"sentence\": \"The financial report is a general purpose financial report which has been prepared in accordance with Australian\\nAccounting Standards (\\u201cAASBs\\u201d) adopted by the Australian Accounting Standards Board (\\u201cAASB\\u201d) and the\\nCorporations Act 2001. International Financial Reporting Standards (\\u201cIFRSs\\u201d) form the basis of Australian Accounting\\nStandards (\\u201cAASBs\\u201d) adopted by the AASB, and for the purpose of this report are called Australian equivalents to IFRS\\n(\\u201cAIFRS\\u201d) to distinguish from previous Australian GAAP.\", \"term\": \"Australian Accounting Standards (\\u201cAASBs\\u201d) adopted by the Australian Accounting Standards Board (\\u201cAASB\\u201d) and the\\nCorporations Act 2001\"}, \"audit\": {\"sentence\": \"complying with Australian Accounting Standards and the Corporations Regulations 2001; and\", \"term\": \"Australian Accounting Standards and the Corporations Regulations 2001\"}}\n",
      "\n",
      "Example 7:\n",
      "Basis of preparation.\n",
      "The consolidated financial statements of Deutsche Telekom have been\n",
      "prepared in accordance with the International Financial Reporting\n",
      "Standards (IFRS) as adopted by the European Union (EU), as well as with\n",
      "the regulations under commercial law as set forth in § 315a (1) HGB\n",
      "(Handelsgesetzbuch – German Commercial Code). All IFRSs issued by\n",
      "the International Accounting Standards Board (IASB), effective at the\n",
      "time of preparing the consolidated financial statements and applied by\n",
      "Deutsche Telekom, have been adopted for use in the EU by the European\n",
      "Commission. The consolidated financial statements of Deutsche Telekom\n",
      "thus also comply with IFRS as issued by the IASB. Therefore the term IFRS\n",
      "is used in the following. ... In our opinion, based on our findings of our audit, the consolidated financial\n",
      "statements comply with the IFRS as adopted by the EU, the additional\n",
      "requirements of German commercial law pursuant to § 315a (1) HGB and\n",
      "IFRS as issued by the IASB, and give a true and fair view of the net assets,\n",
      "financial position and results of operations of the Group in accordance\n",
      "with these requirements. The Group management report is consistent with\n",
      "the consolidated financial statements and as a whole provides a suitable\n",
      "view of the Group’s position and suitably presents the opportunities and\n",
      "risks of future development. ... \n",
      "Answer 7:\n",
      "{\"notes\": {\"sentence\": \"The consolidated financial statements of Deutsche Telekom have been\\nprepared in accordance with the International Financial Reporting\\nStandards (IFRS) as adopted by the European Union (EU), as well as with\\nthe regulations under commercial law as set forth in \\u00a7 315a (1) HGB\\n(Handelsgesetzbuch \\u2013 German Commercial Code). All IFRSs issued by\\nthe International Accounting Standards Board (IASB), effective at the\\ntime of preparing the consolidated financial statements and applied by\\nDeutsche Telekom, have been adopted for use in the EU by the European\\nCommission. The consolidated financial statements of Deutsche Telekom\\nthus also comply with IFRS as issued by the IASB\", \"term\": \" International Financial Reporting\\nStandards (IFRS) as adopted by the European Union (EU), regulations under commercial law as set forth in \\u00a7 315a (1) HGB\\n(Handelsgesetzbuch \\u2013 German Commercial Code), IFRS as issued by the IASB\"}, \"audit\": {\"sentence\": \"In our opinion, based on our findings of our audit, the consolidated financial\\nstatements comply with the IFRS as adopted by the EU, the additional\\nrequirements of German commercial law pursuant to \\u00a7 315a (1) HGB and\\nIFRS as issued by the IASB\", \"term\": \"IFRS as adopted by the EU, the additional requirements of German Commercial law  pursuant to \\u00a7 315a (1) HGB and\\nIFRS as issued by the IASB\"}}\n",
      "\n",
      "Example 8:\n",
      "International Financial Reporting Standards\n",
      "As required by the Companies Act 2006 and Article 4 of the European\n",
      "Union IAS Regulation, the consolidated financial statements of the Group are prepared in accordance with International Financial Reporting Standards issued by the International Accounting Standards Board (IASB) and interpretations issued by the IFRS Interpretations Committee of the IASB as adopted by the European Union (together ‘IFRS’). They also comply with IFRS as issued by the IASB. ... Opinion\n",
      "In our opinion:\n",
      "• the financial statements give a true and fair view of the state of the\n",
      "Group's and of the company’s affairs as at 31 December 2011 and\n",
      "of the Group’s loss for the year then ended;the Group financial statements have been properly prepared in accordance with IFRS as adopted by the European Union;\n",
      "• the company financial statements have been properly prepared in\n",
      "accordance with IFRS as adopted by the European Union and as\n",
      "applied in accordance with the provisions of the Companies Act\n",
      "2006; and\n",
      "• the financial statements have been prepared in accordance with the\n",
      "requirements of the Companies Act 2006 and, as regards the Group\n",
      "financial statements, Article 4 of the IAS Regulation.\n",
      "Separate opinion in relation to IFRS as issued by the IASB\n",
      "As explained in the accounting policies, the Group has prepared financial\n",
      "statements that comply with IFRS as adopted by the European Union,\n",
      "and with IFRS as issued by the International Accounting Standards Board\n",
      "(IASB).\n",
      "In our opinion the Group financial statements comply with IFRS as issued by the IASB. ... \n",
      "Answer 8:\n",
      "{\"notes\": {\"sentence\": \" the consolidated financial statements of the Group are prepared in accordance with International Financial Reporting Standards issued by the International Accounting Standards Board (IASB) and interpretations issued by the IFRS Interpretations Committee of the IASB as adopted by the European Union (together \\u2018IFRS\\u2019). They also comply with IFRS as issued by the IASB.\", \"term\": \"International Financial Reporting Standards issued by the International Accounting Standards Board (IASB) and interpretations issued by the IFRS Interpretations Committee of the IASB as adopted by the European Union (together \\u2018IFRS\\u2019), IFRS as issued by the IASB\"}, \"audit\": {\"sentence\": \" the financial statements give a true and fair view of the state of the\\nGroup's and of the company\\u2019s affairs as at 31 December 2011 and\\nof the Group\\u2019s loss for the year then ended;the Group financial statements have been properly prepared in accordance with IFRS as adopted by the European Union, In our opinion the Group financial statements comply with IFRS as issued by the IASB.\", \"term\": \"IFRS as adopted by the European Union;  IFRS as issued by the IASB.\"}}\n",
      "\n"
     ]
    }
   ],
   "source": [
    "print(system)"
   ]
  },
  {
   "cell_type": "markdown",
   "id": "6336b5b2-f84a-4e01-88c9-687737b533ad",
   "metadata": {},
   "source": [
    "## Call API"
   ]
  },
  {
   "cell_type": "code",
   "execution_count": 30,
   "id": "4ace8506-b823-4b4e-83ec-c8514532c846",
   "metadata": {},
   "outputs": [
    {
     "data": {
      "application/vnd.jupyter.widget-view+json": {
       "model_id": "6c3a583609fe46f292768422c765d9a5",
       "version_major": 2,
       "version_minor": 0
      },
      "text/plain": [
       "  0%|          | 0/5 [00:00<?, ?it/s]"
      ]
     },
     "metadata": {},
     "output_type": "display_data"
    },
    {
     "name": "stdout",
     "output_type": "stream",
     "text": [
      "2024-03-06 11:42:11.576465\n",
      "2024-03-06 11:42:25.889104\n",
      "2024-03-06 11:42:40.225862\n",
      "2024-03-06 11:43:21.831912\n",
      "2024-03-06 11:43:56.676223\n"
     ]
    }
   ],
   "source": [
    "df_inputs['output'] = df_inputs.progress_apply(lambda x: util.prompt_gpt(client, system, x.prompt, None, \"gpt-4-0125-preview\"), axis=1)"
   ]
  },
  {
   "cell_type": "markdown",
   "id": "30f71085-0073-4881-9f22-53b021f3f8cb",
   "metadata": {},
   "source": [
    "# Evaluation"
   ]
  },
  {
   "cell_type": "code",
   "execution_count": 37,
   "id": "cf492226-7907-44b9-8256-fcb6947a45ae",
   "metadata": {},
   "outputs": [
    {
     "data": {
      "text/html": [
       "<div>\n",
       "<style scoped>\n",
       "    .dataframe tbody tr th:only-of-type {\n",
       "        vertical-align: middle;\n",
       "    }\n",
       "\n",
       "    .dataframe tbody tr th {\n",
       "        vertical-align: top;\n",
       "    }\n",
       "\n",
       "    .dataframe thead th {\n",
       "        text-align: right;\n",
       "    }\n",
       "</style>\n",
       "<table border=\"1\" class=\"dataframe\">\n",
       "  <thead>\n",
       "    <tr style=\"text-align: right;\">\n",
       "      <th></th>\n",
       "      <th>filepath</th>\n",
       "      <th>filename</th>\n",
       "      <th>cc_iso3</th>\n",
       "      <th>prompt</th>\n",
       "      <th>num_tokens</th>\n",
       "      <th>com_num_tokens</th>\n",
       "      <th>output</th>\n",
       "    </tr>\n",
       "  </thead>\n",
       "  <tbody>\n",
       "    <tr>\n",
       "      <th>8</th>\n",
       "      <td>C:\\Users\\ilias\\Desktop\\UniMaResearch2023\\Extra...</td>\n",
       "      <td>61466756.txt</td>\n",
       "      <td>SGP</td>\n",
       "      <td>CEI Contract Manufacturing Limited Company Reg...</td>\n",
       "      <td>31909</td>\n",
       "      <td>36936</td>\n",
       "      <td>ChatCompletion(id='chatcmpl-8zj0tODVqZ86N29sO7...</td>\n",
       "    </tr>\n",
       "    <tr>\n",
       "      <th>10</th>\n",
       "      <td>C:\\Users\\ilias\\Desktop\\UniMaResearch2023\\Extra...</td>\n",
       "      <td>61511488.txt</td>\n",
       "      <td>SGP</td>\n",
       "      <td>Transcending Boundaries, Growing Opportunities...</td>\n",
       "      <td>38449</td>\n",
       "      <td>43476</td>\n",
       "      <td>ChatCompletion(id='chatcmpl-8zj18MtGl3YCVTKmy2...</td>\n",
       "    </tr>\n",
       "    <tr>\n",
       "      <th>14</th>\n",
       "      <td>C:\\Users\\ilias\\Desktop\\UniMaResearch2023\\Extra...</td>\n",
       "      <td>62609130.txt</td>\n",
       "      <td>TUR</td>\n",
       "      <td>CONTENTS TURCAS IN BRIEF Vision, Mission, Stra...</td>\n",
       "      <td>53216</td>\n",
       "      <td>58243</td>\n",
       "      <td>ChatCompletion(id='chatcmpl-8zj1M6JmhTzeaZaUl5...</td>\n",
       "    </tr>\n",
       "    <tr>\n",
       "      <th>18</th>\n",
       "      <td>C:\\Users\\ilias\\Desktop\\UniMaResearch2023\\Extra...</td>\n",
       "      <td>64866413.txt</td>\n",
       "      <td>IND</td>\n",
       "      <td>SUMMIT SECURITIES LIMITED Corporate Identifica...</td>\n",
       "      <td>54653</td>\n",
       "      <td>59680</td>\n",
       "      <td>ChatCompletion(id='chatcmpl-8zj220hThbGVORDOC3...</td>\n",
       "    </tr>\n",
       "    <tr>\n",
       "      <th>32</th>\n",
       "      <td>C:\\Users\\ilias\\Desktop\\UniMaResearch2023\\Extra...</td>\n",
       "      <td>61015098.txt</td>\n",
       "      <td>GBR</td>\n",
       "      <td>ANNUAL REPORT &amp; ACCOUNTS AVESCO GROUP PLC ANNU...</td>\n",
       "      <td>33859</td>\n",
       "      <td>38886</td>\n",
       "      <td>ChatCompletion(id='chatcmpl-8zj2aYY876dgnaIfcG...</td>\n",
       "    </tr>\n",
       "  </tbody>\n",
       "</table>\n",
       "</div>"
      ],
      "text/plain": [
       "                                             filepath      filename cc_iso3  \\\n",
       "8   C:\\Users\\ilias\\Desktop\\UniMaResearch2023\\Extra...  61466756.txt     SGP   \n",
       "10  C:\\Users\\ilias\\Desktop\\UniMaResearch2023\\Extra...  61511488.txt     SGP   \n",
       "14  C:\\Users\\ilias\\Desktop\\UniMaResearch2023\\Extra...  62609130.txt     TUR   \n",
       "18  C:\\Users\\ilias\\Desktop\\UniMaResearch2023\\Extra...  64866413.txt     IND   \n",
       "32  C:\\Users\\ilias\\Desktop\\UniMaResearch2023\\Extra...  61015098.txt     GBR   \n",
       "\n",
       "                                               prompt  num_tokens  \\\n",
       "8   CEI Contract Manufacturing Limited Company Reg...       31909   \n",
       "10  Transcending Boundaries, Growing Opportunities...       38449   \n",
       "14  CONTENTS TURCAS IN BRIEF Vision, Mission, Stra...       53216   \n",
       "18  SUMMIT SECURITIES LIMITED Corporate Identifica...       54653   \n",
       "32  ANNUAL REPORT & ACCOUNTS AVESCO GROUP PLC ANNU...       33859   \n",
       "\n",
       "    com_num_tokens                                             output  \n",
       "8            36936  ChatCompletion(id='chatcmpl-8zj0tODVqZ86N29sO7...  \n",
       "10           43476  ChatCompletion(id='chatcmpl-8zj18MtGl3YCVTKmy2...  \n",
       "14           58243  ChatCompletion(id='chatcmpl-8zj1M6JmhTzeaZaUl5...  \n",
       "18           59680  ChatCompletion(id='chatcmpl-8zj220hThbGVORDOC3...  \n",
       "32           38886  ChatCompletion(id='chatcmpl-8zj2aYY876dgnaIfcG...  "
      ]
     },
     "execution_count": 37,
     "metadata": {},
     "output_type": "execute_result"
    }
   ],
   "source": [
    "df_inputs"
   ]
  },
  {
   "cell_type": "code",
   "execution_count": 38,
   "id": "c6113bb9-1948-4f85-827d-46cf2529c712",
   "metadata": {},
   "outputs": [],
   "source": [
    "files = df_inputs.filename.values\n",
    "labels = test_df[test_df.filename.isin(files)].copy()\n",
    "labels[['found_sentence', 'found_term']] = \"\""
   ]
  },
  {
   "cell_type": "code",
   "execution_count": 39,
   "id": "99b16252-0949-4874-8572-f0164f40a22e",
   "metadata": {},
   "outputs": [],
   "source": [
    "for row in df_inputs.index:\n",
    "    d = json.loads(df_inputs.loc[row][\"output\"].choices[0].message.content)\n",
    "    id = df_inputs.loc[row].filename\n",
    "    \n",
    "    for k, v in d.items():\n",
    "        mask = (labels['filename'] == id) & (labels['source'] == k)\n",
    "        labels.loc[mask, 'found_sentence'] = v['sentence'] \n",
    "        labels.loc[mask, 'found_term'] = v['term']"
   ]
  },
  {
   "cell_type": "code",
   "execution_count": 40,
   "id": "b229a63f-c3cf-428e-93fa-c2d30c8b0857",
   "metadata": {},
   "outputs": [
    {
     "data": {
      "text/html": [
       "<div>\n",
       "<style scoped>\n",
       "    .dataframe tbody tr th:only-of-type {\n",
       "        vertical-align: middle;\n",
       "    }\n",
       "\n",
       "    .dataframe tbody tr th {\n",
       "        vertical-align: top;\n",
       "    }\n",
       "\n",
       "    .dataframe thead th {\n",
       "        text-align: right;\n",
       "    }\n",
       "</style>\n",
       "<table border=\"1\" class=\"dataframe\">\n",
       "  <thead>\n",
       "    <tr style=\"text-align: right;\">\n",
       "      <th></th>\n",
       "      <th>cc_iso3</th>\n",
       "      <th>filename</th>\n",
       "      <th>sentence</th>\n",
       "      <th>term</th>\n",
       "      <th>source</th>\n",
       "      <th>found_sentence</th>\n",
       "      <th>found_term</th>\n",
       "    </tr>\n",
       "  </thead>\n",
       "  <tbody>\n",
       "    <tr>\n",
       "      <th>8</th>\n",
       "      <td>SGP</td>\n",
       "      <td>61466756.txt</td>\n",
       "      <td>In our opinion, the the consolidated financial...</td>\n",
       "      <td>Singapore Financial Reporting Standards</td>\n",
       "      <td>audit</td>\n",
       "      <td>In our opinion, the consolidated financial sta...</td>\n",
       "      <td>Singapore Financial Reporting Standards</td>\n",
       "    </tr>\n",
       "    <tr>\n",
       "      <th>9</th>\n",
       "      <td>SGP</td>\n",
       "      <td>61466756.txt</td>\n",
       "      <td>The consolidated financial statements of the ...</td>\n",
       "      <td>Singapore Financial Reporting Standards (“FRS”)</td>\n",
       "      <td>notes</td>\n",
       "      <td>The consolidated financial statements of the G...</td>\n",
       "      <td>Singapore Financial Reporting Standards (\"FRS\")</td>\n",
       "    </tr>\n",
       "    <tr>\n",
       "      <th>10</th>\n",
       "      <td>SGP</td>\n",
       "      <td>61511488.txt</td>\n",
       "      <td>In our opinion, the financial statements of t...</td>\n",
       "      <td>Singapore Financial Reporting Standards</td>\n",
       "      <td>audit</td>\n",
       "      <td>In our opinion, the financial statements of th...</td>\n",
       "      <td>Singapore Financial Reporting Standards</td>\n",
       "    </tr>\n",
       "    <tr>\n",
       "      <th>11</th>\n",
       "      <td>SGP</td>\n",
       "      <td>61511488.txt</td>\n",
       "      <td>The consolidated financial statements of the G...</td>\n",
       "      <td>Singapore Financial Reporting Standards (\"FRS\")</td>\n",
       "      <td>notes</td>\n",
       "      <td>The financial statements have been prepared in...</td>\n",
       "      <td>Singapore Financial Reporting Standards (FRS)</td>\n",
       "    </tr>\n",
       "    <tr>\n",
       "      <th>14</th>\n",
       "      <td>TUR</td>\n",
       "      <td>62609130.txt</td>\n",
       "      <td>the consolidated financial statements present ...</td>\n",
       "      <td>Turkish Accounting Standards.</td>\n",
       "      <td>audit</td>\n",
       "      <td>In our opinion, the consolidated financial sta...</td>\n",
       "      <td>Turkish Accounting Standards</td>\n",
       "    </tr>\n",
       "    <tr>\n",
       "      <th>15</th>\n",
       "      <td>TUR</td>\n",
       "      <td>62609130.txt</td>\n",
       "      <td>The accompanying consolidated financial statem...</td>\n",
       "      <td>Turkish Accounting Standards</td>\n",
       "      <td>notes</td>\n",
       "      <td>The consolidated financial statements and disc...</td>\n",
       "      <td>the communiqué numbered II-14.1 “Communiqué on...</td>\n",
       "    </tr>\n",
       "    <tr>\n",
       "      <th>18</th>\n",
       "      <td>IND</td>\n",
       "      <td>64866413.txt</td>\n",
       "      <td>These consolidated financial statements have b...</td>\n",
       "      <td>Generally Accepted Accounting \\nPrinciples in ...</td>\n",
       "      <td>notes</td>\n",
       "      <td>The consolidated financial statements have bee...</td>\n",
       "      <td>the communiqué numbered II-14.1 “Communiqué on...</td>\n",
       "    </tr>\n",
       "    <tr>\n",
       "      <th>19</th>\n",
       "      <td>IND</td>\n",
       "      <td>64866413.txt</td>\n",
       "      <td>the aforesaid \\nstandalone financial statement...</td>\n",
       "      <td>accounting principles generally \\naccepted in ...</td>\n",
       "      <td>audit</td>\n",
       "      <td>the group management is responsible for the pr...</td>\n",
       "      <td>turkish accounting standards</td>\n",
       "    </tr>\n",
       "    <tr>\n",
       "      <th>32</th>\n",
       "      <td>GBR</td>\n",
       "      <td>61015098.txt</td>\n",
       "      <td>These financial statements have been prepared ...</td>\n",
       "      <td>United Kingdom accounting standards</td>\n",
       "      <td>notes</td>\n",
       "      <td>The financial statements have been prepared un...</td>\n",
       "      <td>applicable United Kingdom accounting standards</td>\n",
       "    </tr>\n",
       "    <tr>\n",
       "      <th>33</th>\n",
       "      <td>GBR</td>\n",
       "      <td>61015098.txt</td>\n",
       "      <td>the financial statements give a true and fair ...</td>\n",
       "      <td>United Kingdom Generally Accepted Accounting P...</td>\n",
       "      <td>audit</td>\n",
       "      <td>We conducted our audit in accordance with Inte...</td>\n",
       "      <td>International Standards on Auditing (UK and Ir...</td>\n",
       "    </tr>\n",
       "  </tbody>\n",
       "</table>\n",
       "</div>"
      ],
      "text/plain": [
       "   cc_iso3      filename                                           sentence  \\\n",
       "8      SGP  61466756.txt  In our opinion, the the consolidated financial...   \n",
       "9      SGP  61466756.txt   The consolidated financial statements of the ...   \n",
       "10     SGP  61511488.txt   In our opinion, the financial statements of t...   \n",
       "11     SGP  61511488.txt  The consolidated financial statements of the G...   \n",
       "14     TUR  62609130.txt  the consolidated financial statements present ...   \n",
       "15     TUR  62609130.txt  The accompanying consolidated financial statem...   \n",
       "18     IND  64866413.txt  These consolidated financial statements have b...   \n",
       "19     IND  64866413.txt  the aforesaid \\nstandalone financial statement...   \n",
       "32     GBR  61015098.txt  These financial statements have been prepared ...   \n",
       "33     GBR  61015098.txt  the financial statements give a true and fair ...   \n",
       "\n",
       "                                                 term source  \\\n",
       "8             Singapore Financial Reporting Standards  audit   \n",
       "9     Singapore Financial Reporting Standards (“FRS”)  notes   \n",
       "10            Singapore Financial Reporting Standards  audit   \n",
       "11    Singapore Financial Reporting Standards (\"FRS\")  notes   \n",
       "14                     Turkish Accounting Standards.   audit   \n",
       "15                       Turkish Accounting Standards  notes   \n",
       "18  Generally Accepted Accounting \\nPrinciples in ...  notes   \n",
       "19  accounting principles generally \\naccepted in ...  audit   \n",
       "32                United Kingdom accounting standards  notes   \n",
       "33  United Kingdom Generally Accepted Accounting P...  audit   \n",
       "\n",
       "                                       found_sentence  \\\n",
       "8   In our opinion, the consolidated financial sta...   \n",
       "9   The consolidated financial statements of the G...   \n",
       "10  In our opinion, the financial statements of th...   \n",
       "11  The financial statements have been prepared in...   \n",
       "14  In our opinion, the consolidated financial sta...   \n",
       "15  The consolidated financial statements and disc...   \n",
       "18  The consolidated financial statements have bee...   \n",
       "19  the group management is responsible for the pr...   \n",
       "32  The financial statements have been prepared un...   \n",
       "33  We conducted our audit in accordance with Inte...   \n",
       "\n",
       "                                           found_term  \n",
       "8             Singapore Financial Reporting Standards  \n",
       "9     Singapore Financial Reporting Standards (\"FRS\")  \n",
       "10            Singapore Financial Reporting Standards  \n",
       "11      Singapore Financial Reporting Standards (FRS)  \n",
       "14                       Turkish Accounting Standards  \n",
       "15  the communiqué numbered II-14.1 “Communiqué on...  \n",
       "18  the communiqué numbered II-14.1 “Communiqué on...  \n",
       "19                       turkish accounting standards  \n",
       "32     applicable United Kingdom accounting standards  \n",
       "33  International Standards on Auditing (UK and Ir...  "
      ]
     },
     "execution_count": 40,
     "metadata": {},
     "output_type": "execute_result"
    }
   ],
   "source": [
    "labels['cc_iso3 filename sentence term source found_sentence found_term'.split()]"
   ]
  }
 ],
 "metadata": {
  "kernelspec": {
   "display_name": "venv_gpt_api",
   "language": "python",
   "name": "venv_gpt_api"
  },
  "language_info": {
   "codemirror_mode": {
    "name": "ipython",
    "version": 3
   },
   "file_extension": ".py",
   "mimetype": "text/x-python",
   "name": "python",
   "nbconvert_exporter": "python",
   "pygments_lexer": "ipython3",
   "version": "3.9.5"
  }
 },
 "nbformat": 4,
 "nbformat_minor": 5
}

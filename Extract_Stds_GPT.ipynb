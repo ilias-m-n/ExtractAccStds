{
 "cells": [
  {
   "cell_type": "markdown",
   "id": "ed18f5c3-f965-4ab2-9c8a-e06ac804ba16",
   "metadata": {},
   "source": [
    "# Imports"
   ]
  },
  {
   "cell_type": "code",
   "execution_count": 136,
   "id": "55ca3600-057a-4c30-bde6-24e9ddb3dca6",
   "metadata": {},
   "outputs": [
    {
     "data": {
      "text/html": [
       "<style>.container { width:100% !important; }</style>"
      ],
      "text/plain": [
       "<IPython.core.display.HTML object>"
      ]
     },
     "metadata": {},
     "output_type": "display_data"
    },
    {
     "name": "stdout",
     "output_type": "stream",
     "text": [
      "The autoreload extension is already loaded. To reload it, use:\n",
      "  %reload_ext autoreload\n"
     ]
    }
   ],
   "source": [
    "import os\n",
    "\n",
    "import pandas as pd\n",
    "import matplotlib.pyplot as plt\n",
    "\n",
    "from collections import Counter\n",
    "from dotenv import load_dotenv, find_dotenv\n",
    "from openai import OpenAI\n",
    "\n",
    "import utility.utility as util\n",
    "import utility.prompts as prompts\n",
    "\n",
    "# Progress Bars:\n",
    "from tqdm.notebook import tqdm_notebook\n",
    "tqdm_notebook.pandas()\n",
    "\n",
    "# Below import and instructions simply for display\n",
    "from IPython.display import display, HTML\n",
    "display(HTML(\"<style>.container { width:100% !important; }</style>\"))\n",
    "\n",
    "# resets import once changes have been applied\n",
    "%load_ext autoreload\n",
    "%autoreload 2"
   ]
  },
  {
   "cell_type": "markdown",
   "id": "510e69d9-12dc-4833-b45e-b92e7ee36786",
   "metadata": {},
   "source": [
    "# Directory and File Paths"
   ]
  },
  {
   "cell_type": "code",
   "execution_count": 60,
   "id": "a9a32730-f4aa-4c3d-a2ac-b005f00f1318",
   "metadata": {},
   "outputs": [],
   "source": [
    "path_data = os.path.join(os.getcwd(), \"data\")\n",
    "\n",
    "path_stmts = os.path.join(path_data, \"predict\")\n",
    "\n",
    "file_excel = os.path.join(path_data, \"examples_altered.xlsx\")"
   ]
  },
  {
   "cell_type": "markdown",
   "id": "a1fee99c-d08d-4034-81c8-10325479bc71",
   "metadata": {},
   "source": [
    "# Load Environment Variables"
   ]
  },
  {
   "cell_type": "code",
   "execution_count": 61,
   "id": "650e0255-3997-4fd2-ab7a-3f761e231c93",
   "metadata": {},
   "outputs": [],
   "source": [
    "_ = load_dotenv(find_dotenv())"
   ]
  },
  {
   "cell_type": "markdown",
   "id": "1cd68b02-d5b3-4c20-8fcb-06eaaaec79c1",
   "metadata": {},
   "source": [
    "# Load Data"
   ]
  },
  {
   "cell_type": "code",
   "execution_count": 62,
   "id": "565756c2-41cb-4937-8496-992742f248e9",
   "metadata": {},
   "outputs": [],
   "source": [
    "df_meta = pd.read_excel(file_excel, sheet_name=\"Sheet1\")"
   ]
  },
  {
   "cell_type": "markdown",
   "id": "7bffa26a-a09d-4719-a5c8-895091d8ed07",
   "metadata": {},
   "source": [
    "# Preliminary Adjustments"
   ]
  },
  {
   "cell_type": "code",
   "execution_count": 63,
   "id": "b101e23f-10a9-409b-9d46-b76daa6d7db2",
   "metadata": {},
   "outputs": [],
   "source": [
    "df_meta.dropna(axis=1, inplace=True, thresh = int(df_meta.shape[0]*.1))\n",
    "df_meta.drop(columns=[\"checked by\", \"new\", \"manual\", \"page (txt)\", \"manual\", \"note\"], inplace=True)\n",
    "df_meta[\"filename\"] = df_meta[\"filename\"].astype(\"str\") + \".txt\"\n",
    "df_meta[\"filepath\"] = df_meta[\"filename\"].apply(lambda x: os.path.join(path_stmts, x))"
   ]
  },
  {
   "cell_type": "markdown",
   "id": "f3c10086-9590-4f4b-b529-36327cb227cb",
   "metadata": {},
   "source": [
    "# Split \"Train\" \"Test\""
   ]
  },
  {
   "cell_type": "code",
   "execution_count": 64,
   "id": "26891f2d-4dbc-4a3b-ac58-b9b34767966e",
   "metadata": {},
   "outputs": [],
   "source": [
    "prompt_indeces = [0,1,2,3,4,5,6,7,16,17,20,21,26,27,34,35,36,37]\n",
    "test_indeces = [i for i in df_meta.index if i not in prompt_indeces]"
   ]
  },
  {
   "cell_type": "code",
   "execution_count": 65,
   "id": "2edac6a1-3988-4a72-bc8e-7750084d9e46",
   "metadata": {},
   "outputs": [],
   "source": [
    "prompt_df = df_meta.iloc[prompt_indeces,:].copy()\n",
    "test_df = df_meta.iloc[test_indeces,:].copy()\n",
    "del df_meta"
   ]
  },
  {
   "cell_type": "markdown",
   "id": "f06ca7f7-e721-4195-b6f8-cbe4ca372a06",
   "metadata": {},
   "source": [
    "# Extract most common terms:"
   ]
  },
  {
   "cell_type": "code",
   "execution_count": 66,
   "id": "fd904905-db1c-4595-b949-49e0015ffc1a",
   "metadata": {},
   "outputs": [],
   "source": [
    "min_ratio = .5\n",
    "\n",
    "terms_auditor = util.concat_terms(util.det_commonly_used_terms(prompt_df[\"terms_audit\"], min_ratio=min_ratio), \", \")\n",
    "terms_notes = util.concat_terms(util.det_commonly_used_terms(prompt_df[\"terms_notes\"], min_ratio=min_ratio), \", \")\n",
    "#terms_acc_stds = util.concat_terms(util.det_commonly_used_terms(df_meta[\"term\"], min_ratio=0), \" - \")\n",
    "\n",
    "section_terms_auditor = prompts.common_terms_section_auditor.format(terms_auditor = terms_auditor)\n",
    "section_terms_notes = prompts.common_terms_section_notes.format(terms_notes = terms_notes)\n",
    "#section_terms_acc_stds = prompts.common_terms_accounting_stds.format(acc_std = terms_acc_stds)"
   ]
  },
  {
   "cell_type": "markdown",
   "id": "d41d9e54-1880-42cc-baf2-15b24df0a42c",
   "metadata": {},
   "source": [
    "# Construct Base Prompt"
   ]
  },
  {
   "cell_type": "markdown",
   "id": "0fb8c322-7155-40cc-a674-6a1b3bacc861",
   "metadata": {},
   "source": [
    "## System Context"
   ]
  },
  {
   "cell_type": "code",
   "execution_count": 67,
   "id": "137e1785-7b1a-4001-b623-7c225128d5de",
   "metadata": {},
   "outputs": [],
   "source": [
    "system = prompts.system_context_basic + \\\n",
    "         prompts.task_descr_1 + \\\n",
    "         section_terms_auditor + \\\n",
    "         section_terms_notes + \\\n",
    "         prompts.instruction_1 + \\\n",
    "         prompts.answer_format1"
   ]
  },
  {
   "cell_type": "markdown",
   "id": "6b3d907e-397b-4cc1-8bdd-343ed642a327",
   "metadata": {},
   "source": [
    "### User_Assitant Context - examples in conversations user-assistant"
   ]
  },
  {
   "cell_type": "code",
   "execution_count": 68,
   "id": "727dd3ac-4db1-407b-bd83-e7765ca45c82",
   "metadata": {},
   "outputs": [],
   "source": [
    "user_assistant = util.get_user_assistant_context_format1(prompt_df, \"filename\", \"source\", \"paragraph (context)\", \"sentence\", \"term\")"
   ]
  },
  {
   "cell_type": "markdown",
   "id": "f051f140-f6bd-4965-8028-1d98a83b0d47",
   "metadata": {},
   "source": [
    "# Examples in one prompt"
   ]
  },
  {
   "cell_type": "code",
   "execution_count": 69,
   "id": "ea537699-b5db-4f0d-9533-422324fd4dda",
   "metadata": {},
   "outputs": [],
   "source": [
    "prompt_examples = util.get_examples_prompt(prompts.examples_base1, prompt_df, \"filename\", \"source\", \"paragraph (context)\", \"sentence\", \"term\")\n",
    "system += prompt_examples"
   ]
  },
  {
   "cell_type": "code",
   "execution_count": 75,
   "id": "607f5d13-ffe9-4541-9c98-e3d30eed31fa",
   "metadata": {},
   "outputs": [
    {
     "name": "stdout",
     "output_type": "stream",
     "text": [
      "5022\n",
      "\n",
      "You are a financial accountant.\n",
      "\n",
      "You are tasked to extract information contained within two sections, the auditor section and the notes section,  of a provided financial statement. More specifically, from the notes section you are tasked to extract according to what accounting standard the financial statement has been prepared, and from the auditor section you are tasked to extract what accounting standard the financial statement is in compliance with. It is possible that a financial statement is in compliance with or has been constructed according to multiple standards, in which case you should extract both - note, double standards are most likely in close vicinity to each other. I will provide you with long textual sequences. Make absolutely sure that you only respond with phrases you find within the provided financial statement. Before providing an answer, check whether you can find it within the provided text.\n",
      "\n",
      "\n",
      "For the auditor part you will most likely find some of these terms, delimited by tags (<auditor><\\auditor>) and separated by commas, in the vicinity of the information to be extracted: <auditor>true and fair, in our opinion, fair view, our opinion, we conducted our audit in accordance with<\\auditor>.\n",
      "\n",
      "Within the notes part you will most likely find some of these terms, delimited by tags (<notes><\\notes>) and separated by commas, in the vicinity of the information to be extracted: <notes>consolidated financial statements<\\notes>.\n",
      " \n",
      "Please follow these instructions:\n",
      "1) First read the financial statement.\n",
      "2) Second find the sentence that contains the desired term.\n",
      "3) Extract the desired term.\n",
      "4) Make sure that the term you extract is acutally contained in the provided financial statement.\n",
      "5) List both the term and the sentence from which you extracted the term.\n",
      "\n",
      "Answer in the following format:\n",
      "{\n",
      "'Notes' : {\n",
      "    'sentence' : sentence from which you extracted the standard contained in the notes section,\n",
      "    'standard' : accounting standard you found in the notes section},\n",
      "'Auditor' : {\n",
      "    'sentence' : sentence from which you extracted the standard contained in the auditor section,\n",
      "    'standard' : accounting standard you found in the auditor section}\n",
      "}\n",
      "\n",
      "Here are a few examples:\n",
      "\n",
      "Example 0:\n",
      "2. Summary of significant accounting policies 2.1 Basis of preparation The financial statements have been drawn up in accordance with the provisions of the Singapore Companies Act, Cap. 50 and the Singapore Financial Reporting Standards (“FRS”) including related Interpretations of FRS (“INT FRS”) and are prepared on historical cost basis, except as disclosed in the financial statement. The individual financial statements of each Group entity are measured and presented in the currency of the primary economic environment in which the entity operates (its functional currency). The consolidated financial statements of the Group and the statement of financial position of the Company are presented in Singapore dollar (“$”) which is also the functional currency of the Company, and all values presented are rounded to the nearest thousand (“$’000”), unless otherwise indicated. The preparation of financial statements in conformity with FRS requires management to make judgements, estimates and assumptions that affect the Group’s application of accounting policies and reported amounts of assets, liabilities, revenue and expenses. Although these estimates are based on management’s best knowledge of current events and actions, actual results may differ from those estimates ... opinion in our opinion the financial statements of the group and the statements of financial position and changes in equity of the company are properly drawn up in accordance with the provisions of the act and singapore financial reporting standards so as to give a true and fair view of the state of affairs of the group and of the company as at 31 december 2014 and the results changes in equity and cash flows of the group and changes in equity of the company for the ... \n",
      "Answer 0:\n",
      "{\"notes\": {\"sentence\": \"The financial statements have been drawn up in accordance with the provisions of the Singapore Companies Act, Cap. 50 and the Singapore Financial Reporting Standards (\\u201cFRS\\u201d) including related Interpretations of FRS (\\u201cINT FRS\\u201d) and are prepared on historical cost basis, except as disclosed in the financial statement. \", \"standard\": \"Singapore Financial Reporting Standards (\\u201cFRS\\u201d)\"}, \"audit\": {\"sentence\": \"opinion in our opinion the financial statements of the group and the statements of financial position and changes in equity of the company are properly drawn up in accordance with the provisions of the act and singapore financial reporting standards so as to give a true and fair view of the state of affairs of the group and of the company as at 31 december 2014\", \"standard\": \"singapore financial reporting standards\"}}\n",
      "\n",
      "Example 1:\n",
      "2 SUMMARY OF SIGNIFICANT ACCOUNTING POLICIES\n",
      "2.1 Basis of preparation\n",
      "The financial statements of the Group and of the Company have been prepared in accordance with Financial \n",
      "Reporting Standards and the requirements of the Companies Act, 1965 in Malaysia. \n",
      "The financial statements have been prepared on the historical cost basis except as disclosed in the accounting \n",
      "policies below. \n",
      "The financial statements are presented in Ringgit Malaysia (RM). ... in our opinion the financial statements give a true and fair view of the financial position of the group and of the company as at 31 december 2015 and of their financial performance and cash flows for the year then ended in accordance with financial reporting standards and the requirements of the companies act 1965 in malaysia 038 permaju industries berhad 379057 v independent auditors report to the members of permaju industries berhad incorporated in malaysia report on other legal and regulatory requirements in accordance with the requirements of the companies act 1965 in malaysia ... \n",
      "Answer 1:\n",
      "{\"notes\": {\"sentence\": \"The financial statements of the Group and of the Company have been prepared in accordance with Financial Reporting Standards and the requirements of the Companies Act, 1965 in Malaysia. \", \"standard\": \"Financial  Reporting Standards and the requirements of the Companies Act, 1965 in Malaysia. \"}, \"audit\": {\"sentence\": \"in our opinion the financial statements give a true and fair view of the financial position of the group and of the company as at 31 december 2015 and of their financial performance and cash flows for the year then ended in accordance with financial reporting standards and the requirements of the companies act 1965 in malaysia\", \"standard\": \"financial reporting standards\"}}\n",
      "\n",
      "Example 2:\n",
      "2. Basis of presentation of consolidated financial statements\n",
      "2.1 Basis of presentation\n",
      "The consolidated financial statements and disclosures have been prepared in accordance with the communiqué numbered II-14.1 “Communiqué \n",
      "on the Principles of Financial Reporting in Capital Markets” (“the Communiqué”) announced by the Capital Markets Board (“CMB”) (hereinafter \n",
      "will be referred to as “the CMB Reporting Standards”) on June 13, 2013 which is published on Official Gazette numbered 28676. Companies \n",
      "should apply Turkish Accounting Standards/Turkish Financial Reporting Standards and interpretations regarding these standards as adopted by \n",
      "Public Oversight Accounting and Auditing Standards Authority of Turkey (“POA”).\n",
      "In accordance with article 5th of the CMB Reporting Standards, companies should apply Turkish Accounting Standards/Turkish Financial \n",
      "Reporting Standards and its interpretations issued by the Public Oversight Accounting and Auditing Standards Authority of Turkey (“POA”) ... the group management is responsible for the preparation and fair presentation of consolidated financial statements in accordance with the turkish accounting standards tas and for such internal controls as management determines is necessary to enable the preparation and fair presentation of consolidated financial statements that are free from material misstatement ... \n",
      "Answer 2:\n",
      "{\"notes\": {\"sentence\": \"The consolidated financial statements and disclosures have been prepared in accordance with the communiqu\\u00e9 numbered II-14.1 \\u201cCommuniqu\\u00e9 \\non the Principles of Financial Reporting in Capital Markets\\u201d (\\u201cthe Communiqu\\u00e9\\u201d) announced by the Capital Markets Board (\\u201cCMB\\u201d) (hereinafter \\nwill be referred to as \\u201cthe CMB Reporting Standards\\u201d) on June 13, 2013 which is published on Official Gazette numbered 28676. Companies \\nshould apply Turkish Accounting Standards/Turkish Financial Reporting Standards and interpretations regarding these standards as adopted by \\nPublic Oversight Accounting and Auditing Standards Authority of Turkey (\\u201cPOA\\u201d).\", \"standard\": \"the communiqu\\u00e9 numbered II-14.1 \\u201cCommuniqu\\u00e9 on the Principles of Financial Reporting in Capital Markets\\u201d (\\u201cthe Communiqu\\u00e9\\u201d) announced by the Capital Markets Board (\\u201cCMB\\u201d) (hereinafter \\nwill be referred to as \\u201cthe CMB Reporting Standards\\u201d) ,Turkish Accounting Standards/Turkish Financial Reporting Standards and interpretations regarding these standards as adopted by \\nPublic Oversight Accounting and Auditing Standards Authority of Turkey (\\u201cPOA\\u201d)\"}, \"audit\": {\"sentence\": \"the group management is responsible for the preparation and fair presentation of consolidated financial statements in accordance with the turkish accounting standards tas\", \"standard\": \"turkish accounting standards\"}}\n",
      "\n",
      "Example 3:\n",
      "I. BASIS OF PREPARATION\n",
      "The consolidated financial statements of the Group have been prepared on a historical cost basis, except for derivative financial instruments which are measured at fair value.\n",
      "The consolidated financial statements are presented in Philippine peso, which is the Parent Company's functional currency under Philippine Financial Reporting Standards (PFRS). All values are rounded to the nearest million (P000,000), except when otherwise indicated.\n",
      "Statement of Compliance The consolidated financial statements have been prepared in compliance with PFRS. PFRS includes statements named PFRS and Philippine Accounting Standards (PAS), including Philippine interpretations from International Financial Reporting Interpretation Committee (IFRIC), issued by the Financial Reporting Standards Council (FRSC).\n",
      "\n",
      " ... Opinion\n",
      "In our opinion, the consolidated financial statements present fairly, in all materialrespects, the\n",
      "consolidated financial position of Ginebra San Miguel, Inc. and Subsidiaries as ofDecember 31,\n",
      "2008 and 2007, and its consolidated financial performance and its consolidated cash flows {orthe\n",
      "years then ended in accordance with Philippine Financial Reporting Standards ... \n",
      "Answer 3:\n",
      "{\"notes\": {\"sentence\": \"The consolidated financial statements are presented in Philippine peso, which is the Parent Company's functional currency under Philippine Financial Reporting Standards (PFRS)|The consolidated financial statements have been prepared in compliance with PFRS\", \"standard\": \"Philippine Financial Reporting Standards (PFRS), PFRS\"}, \"audit\": {\"sentence\": \"In our opinion, the consolidated financial statements present fairly, in all materialrespects, the\\nconsolidated financial position of Ginebra San Miguel, Inc. and Subsidiaries as ofDecember 31,\\n2008 and 2007, and its consolidated financial performance and its consolidated cash flows {orthe\\nyears then ended in accordance with Philippine Financial Reporting Standards\", \"standard\": \"Philippine Financial Reporting Standards\"}}\n",
      "\n",
      "Example 4:\n",
      "NOTE 1 \n",
      "Significant Accounting Policies \n",
      "I) Accounting Convention\n",
      "The financial statements are prepared under the historical cost convention in accordance with generally \n",
      "accepted accounting principles in India, the Accounting Standards issued by The Institute of Chartered \n",
      "Accountants of India and the provisions of the Companies Act, 2013 ('the Act'). ... \n",
      "OPINION Without qualifying our report, we state that in respect of revenue recognized from the reality business, we have relied solely on the certification received from a registered architect. Subject to the above, in our opinion and to the best of our information and according to the explanations given to us, the said accounts read with notes thereon, the aforesaid financial statements give the information required by the Act in the manner so required and give a true and fair view in conformity with the accounting principles generally accepted in India:\n",
      "i) in the case of the Balance Sheet, of the state of affairs of the Company as at 31 March 2017; ii) in the case of the Statement of Profit and Loss, of the loss for the year ended on that date; and iii) in the case of the Statement of Cash flow, for the cash flows for the year ended on that date. REPORT ON OTHER LEGAL AND REGULATORY REQUIREMENTS 1. As required by the Companies (Auditor's Report) Order, 2016 issued by the Central Government of India in terms of sub section (11) of section 143 of the Act, we give in the Annexure A, a statement on the matters specified in paragraphs 3 and 4 of the Order, to the extent applicable. 2. As required by section 143(3) of the Act, we report that: i) we have sought and obtained all information and explanations, as mentioned in the foregoing\n",
      "paragraphs, which to the best of our knowledge and belief were necessary for the purposes of our audit; ii) in our opinion, proper books of account as required by law have been kept by the Company so far as it\n",
      "appears from our examination of those books; iii) the Balance Sheet, the Statement of Profit and Loss and the Cash Flow Statement dealt with by this\n",
      "Report are in agreement with the books of account; iv) in our opinion, the aforesaid financial statements comply with the Accounting Standards specified under\n",
      "Section 133 of the Act, read with relevant rule issued thereunder; v) relying solely on the basis of written representations received from the directors as on 31 March 2017\n",
      "and taken on record by the Board of Directors, none of the directors are disqualified as on 31 March 2017 from being appointed as a director in terms of section 164(2) of the Act;\n",
      "\n",
      "64 ... \n",
      "Answer 4:\n",
      "{\"notes\": {\"sentence\": \"The financial statements are prepared under the historical cost convention in accordance with generally  accepted accounting principles in India, the Accounting Standards issued by The Institute of Chartered Accountants of India and the provisions of the Companies Act, 2013 ('the Act')\", \"standard\": \"generally accepted accounting principles in India\"}, \"audit\": {\"sentence\": \"in our opinion and to the best of our information and according to the explanations given to us, the said accounts read with notes thereon, the aforesaid financial statements give the information required by the Act in the manner so required and give a true and fair view in conformity with the accounting principles generally accepted in India \", \"standard\": \"accounting principles generally accepted in India \"}}\n",
      "\n",
      "Example 5:\n",
      "Management is responsible for the preparation and fair presentation of these consolidated financial statements in accordance with International Financial Reporting Standards as\n",
      "issued by the International Accounting Standards Board, and for such internal control as management determines is necessary to enable the preparation of consolidated financial\n",
      "statements that are free from material misstatement, whether due to fraud or error. ... These audited consolidated financial statements have been prepared on a historical cost basis except for financial instruments classified as fair value through profit or loss\n",
      "which are stated at their fair value. These audited consolidated financial statements are presented in Canadian dollars and have been prepared on the basis of IFRS\n",
      "standards that are effective on December 31, 2016. The accounting policies adopted by the Company have been applied consistently to all periods presented. These audited\n",
      "consolidated financial statements are presented in the Company’s, and its subsidiaries, functional currency of Canadian dollars. ... \n",
      "Answer 5:\n",
      "{\"audit\": {\"sentence\": \"Management is responsible for the preparation and fair presentation of these consolidated financial statements in accordance with International Financial Reporting Standards as\\nissued by the International Accounting Standards Board, \", \"standard\": \" International Financial Reporting Standards as\\nissued by the International Accounting Standards Board\"}, \"notes\": {\"sentence\": \"nan\", \"standard\": \"nan\"}}\n",
      "\n",
      "Example 6:\n",
      "The financial report is a general purpose financial report which has been prepared in accordance with Australian\n",
      "Accounting Standards (“AASBs”) adopted by the Australian Accounting Standards Board (“AASB”) and the\n",
      "Corporations Act 2001. International Financial Reporting Standards (“IFRSs”) form the basis of Australian Accounting\n",
      "Standards (“AASBs”) adopted by the AASB, and for the purpose of this report are called Australian equivalents to IFRS\n",
      "(“AIFRS”) to distinguish from previous Australian GAAP. ... Audit opinion\n",
      "1. In our opinion, the financial report of Campbell Brothers Limited is in accordance with:\n",
      "(a) the Corporations Act 2001, including:\n",
      "(i) giving a true and fair view of the Company’s and consolidated entity’s financial position as at 31 March 2006\n",
      "and of their performance for the financial year ended on that date; and\n",
      "(ii) complying with Australian Accounting Standards and the Corporations Regulations 2001; and\n",
      "(b) other mandatory financial reporting requirements in Australia. ... \n",
      "Answer 6:\n",
      "{\"notes\": {\"sentence\": \"The financial report is a general purpose financial report which has been prepared in accordance with Australian\\nAccounting Standards (\\u201cAASBs\\u201d) adopted by the Australian Accounting Standards Board (\\u201cAASB\\u201d) and the\\nCorporations Act 2001. International Financial Reporting Standards (\\u201cIFRSs\\u201d) form the basis of Australian Accounting\\nStandards (\\u201cAASBs\\u201d) adopted by the AASB, and for the purpose of this report are called Australian equivalents to IFRS\\n(\\u201cAIFRS\\u201d) to distinguish from previous Australian GAAP.\", \"standard\": \"Australian Accounting Standards (\\u201cAASBs\\u201d) adopted by the Australian Accounting Standards Board (\\u201cAASB\\u201d) and the\\nCorporations Act 2001\"}, \"audit\": {\"sentence\": \"complying with Australian Accounting Standards and the Corporations Regulations 2001; and\", \"standard\": \"Australian Accounting Standards and the Corporations Regulations 2001\"}}\n",
      "\n",
      "Example 7:\n",
      "Basis of preparation.\n",
      "The consolidated financial statements of Deutsche Telekom have been\n",
      "prepared in accordance with the International Financial Reporting\n",
      "Standards (IFRS) as adopted by the European Union (EU), as well as with\n",
      "the regulations under commercial law as set forth in § 315a (1) HGB\n",
      "(Handelsgesetzbuch – German Commercial Code). All IFRSs issued by\n",
      "the International Accounting Standards Board (IASB), effective at the\n",
      "time of preparing the consolidated financial statements and applied by\n",
      "Deutsche Telekom, have been adopted for use in the EU by the European\n",
      "Commission. The consolidated financial statements of Deutsche Telekom\n",
      "thus also comply with IFRS as issued by the IASB. Therefore the term IFRS\n",
      "is used in the following. ... In our opinion, based on our findings of our audit, the consolidated financial\n",
      "statements comply with the IFRS as adopted by the EU, the additional\n",
      "requirements of German commercial law pursuant to § 315a (1) HGB and\n",
      "IFRS as issued by the IASB, and give a true and fair view of the net assets,\n",
      "financial position and results of operations of the Group in accordance\n",
      "with these requirements. The Group management report is consistent with\n",
      "the consolidated financial statements and as a whole provides a suitable\n",
      "view of the Group’s position and suitably presents the opportunities and\n",
      "risks of future development. ... \n",
      "Answer 7:\n",
      "{\"notes\": {\"sentence\": \"The consolidated financial statements of Deutsche Telekom have been\\nprepared in accordance with the International Financial Reporting\\nStandards (IFRS) as adopted by the European Union (EU), as well as with\\nthe regulations under commercial law as set forth in \\u00a7 315a (1) HGB\\n(Handelsgesetzbuch \\u2013 German Commercial Code). All IFRSs issued by\\nthe International Accounting Standards Board (IASB), effective at the\\ntime of preparing the consolidated financial statements and applied by\\nDeutsche Telekom, have been adopted for use in the EU by the European\\nCommission. The consolidated financial statements of Deutsche Telekom\\nthus also comply with IFRS as issued by the IASB\", \"standard\": \" International Financial Reporting\\nStandards (IFRS) as adopted by the European Union (EU), regulations under commercial law as set forth in \\u00a7 315a (1) HGB\\n(Handelsgesetzbuch \\u2013 German Commercial Code), IFRS as issued by the IASB\"}, \"audit\": {\"sentence\": \"In our opinion, based on our findings of our audit, the consolidated financial\\nstatements comply with the IFRS as adopted by the EU, the additional\\nrequirements of German commercial law pursuant to \\u00a7 315a (1) HGB and\\nIFRS as issued by the IASB\", \"standard\": \"IFRS as adopted by the EU, the additional requirements of German Commercial law  pursuant to \\u00a7 315a (1) HGB and\\nIFRS as issued by the IASB\"}}\n",
      "\n",
      "Example 8:\n",
      "International Financial Reporting Standards\n",
      "As required by the Companies Act 2006 and Article 4 of the European\n",
      "Union IAS Regulation, the consolidated financial statements of the Group are prepared in accordance with International Financial Reporting Standards issued by the International Accounting Standards Board (IASB) and interpretations issued by the IFRS Interpretations Committee of the IASB as adopted by the European Union (together ‘IFRS’). They also comply with IFRS as issued by the IASB. ... Opinion\n",
      "In our opinion:\n",
      "• the financial statements give a true and fair view of the state of the\n",
      "Group's and of the company’s affairs as at 31 December 2011 and\n",
      "of the Group’s loss for the year then ended;the Group financial statements have been properly prepared in accordance with IFRS as adopted by the European Union;\n",
      "• the company financial statements have been properly prepared in\n",
      "accordance with IFRS as adopted by the European Union and as\n",
      "applied in accordance with the provisions of the Companies Act\n",
      "2006; and\n",
      "• the financial statements have been prepared in accordance with the\n",
      "requirements of the Companies Act 2006 and, as regards the Group\n",
      "financial statements, Article 4 of the IAS Regulation.\n",
      "Separate opinion in relation to IFRS as issued by the IASB\n",
      "As explained in the accounting policies, the Group has prepared financial\n",
      "statements that comply with IFRS as adopted by the European Union,\n",
      "and with IFRS as issued by the International Accounting Standards Board\n",
      "(IASB).\n",
      "In our opinion the Group financial statements comply with IFRS as issued by the IASB. ... \n",
      "Answer 8:\n",
      "{\"notes\": {\"sentence\": \" the consolidated financial statements of the Group are prepared in accordance with International Financial Reporting Standards issued by the International Accounting Standards Board (IASB) and interpretations issued by the IFRS Interpretations Committee of the IASB as adopted by the European Union (together \\u2018IFRS\\u2019). They also comply with IFRS as issued by the IASB.\", \"standard\": \"International Financial Reporting Standards issued by the International Accounting Standards Board (IASB) and interpretations issued by the IFRS Interpretations Committee of the IASB as adopted by the European Union (together \\u2018IFRS\\u2019), IFRS as issued by the IASB\"}, \"audit\": {\"sentence\": \" the financial statements give a true and fair view of the state of the\\nGroup's and of the company\\u2019s affairs as at 31 December 2011 and\\nof the Group\\u2019s loss for the year then ended;the Group financial statements have been properly prepared in accordance with IFRS as adopted by the European Union, In our opinion the Group financial statements comply with IFRS as issued by the IASB.\", \"standard\": \"IFRS as adopted by the European Union;  IFRS as issued by the IASB.\"}}\n",
      "\n"
     ]
    }
   ],
   "source": [
    "print(util.count_tokens(system))\n",
    "print(system)"
   ]
  },
  {
   "cell_type": "markdown",
   "id": "c63f1cd5-a777-4593-a9fc-6852fbf55e33",
   "metadata": {},
   "source": [
    "# Extract Text Prompt"
   ]
  },
  {
   "cell_type": "code",
   "execution_count": 149,
   "id": "58d08e03-c340-4adf-b937-3ce7fccb07f0",
   "metadata": {},
   "outputs": [
    {
     "data": {
      "text/html": [
       "<div>\n",
       "<style scoped>\n",
       "    .dataframe tbody tr th:only-of-type {\n",
       "        vertical-align: middle;\n",
       "    }\n",
       "\n",
       "    .dataframe tbody tr th {\n",
       "        vertical-align: top;\n",
       "    }\n",
       "\n",
       "    .dataframe thead th {\n",
       "        text-align: right;\n",
       "    }\n",
       "</style>\n",
       "<table border=\"1\" class=\"dataframe\">\n",
       "  <thead>\n",
       "    <tr style=\"text-align: right;\">\n",
       "      <th></th>\n",
       "      <th>filepath</th>\n",
       "      <th>filename</th>\n",
       "      <th>cc_iso3</th>\n",
       "      <th>prompt</th>\n",
       "      <th>num_tokens</th>\n",
       "      <th>com_num_tokens</th>\n",
       "      <th>segment</th>\n",
       "    </tr>\n",
       "  </thead>\n",
       "  <tbody>\n",
       "    <tr>\n",
       "      <th>0</th>\n",
       "      <td>C:\\Users\\ilias\\Desktop\\UniMaResearch2023\\Extra...</td>\n",
       "      <td>61466756.txt</td>\n",
       "      <td>SGP</td>\n",
       "      <td>CEI Contract Manufacturing Limited Company Reg...</td>\n",
       "      <td>12000</td>\n",
       "      <td>36931</td>\n",
       "      <td>0</td>\n",
       "    </tr>\n",
       "    <tr>\n",
       "      <th>1</th>\n",
       "      <td>C:\\Users\\ilias\\Desktop\\UniMaResearch2023\\Extra...</td>\n",
       "      <td>61466756.txt</td>\n",
       "      <td>SGP</td>\n",
       "      <td>is not be remeasured until it is finally sett...</td>\n",
       "      <td>12000</td>\n",
       "      <td>36931</td>\n",
       "      <td>1</td>\n",
       "    </tr>\n",
       "    <tr>\n",
       "      <th>2</th>\n",
       "      <td>C:\\Users\\ilias\\Desktop\\UniMaResearch2023\\Extra...</td>\n",
       "      <td>61466756.txt</td>\n",
       "      <td>SGP</td>\n",
       "      <td>in force (unless such compliance has been wai...</td>\n",
       "      <td>8309</td>\n",
       "      <td>36931</td>\n",
       "      <td>2</td>\n",
       "    </tr>\n",
       "    <tr>\n",
       "      <th>3</th>\n",
       "      <td>C:\\Users\\ilias\\Desktop\\UniMaResearch2023\\Extra...</td>\n",
       "      <td>61511488.txt</td>\n",
       "      <td>SGP</td>\n",
       "      <td>Transcending Boundaries, Growing Opportunities...</td>\n",
       "      <td>12000</td>\n",
       "      <td>43471</td>\n",
       "      <td>0</td>\n",
       "    </tr>\n",
       "    <tr>\n",
       "      <th>4</th>\n",
       "      <td>C:\\Users\\ilias\\Desktop\\UniMaResearch2023\\Extra...</td>\n",
       "      <td>61511488.txt</td>\n",
       "      <td>SGP</td>\n",
       "      <td>individual performance while the remuneration...</td>\n",
       "      <td>12000</td>\n",
       "      <td>43471</td>\n",
       "      <td>1</td>\n",
       "    </tr>\n",
       "    <tr>\n",
       "      <th>...</th>\n",
       "      <td>...</td>\n",
       "      <td>...</td>\n",
       "      <td>...</td>\n",
       "      <td>...</td>\n",
       "      <td>...</td>\n",
       "      <td>...</td>\n",
       "      <td>...</td>\n",
       "    </tr>\n",
       "    <tr>\n",
       "      <th>58</th>\n",
       "      <td>C:\\Users\\ilias\\Desktop\\UniMaResearch2023\\Extra...</td>\n",
       "      <td>60783048.txt</td>\n",
       "      <td>FRA</td>\n",
       "      <td>Group Terms and conditions: The taxable incom...</td>\n",
       "      <td>12000</td>\n",
       "      <td>87780</td>\n",
       "      <td>5</td>\n",
       "    </tr>\n",
       "    <tr>\n",
       "      <th>59</th>\n",
       "      <td>C:\\Users\\ilias\\Desktop\\UniMaResearch2023\\Extra...</td>\n",
       "      <td>60783048.txt</td>\n",
       "      <td>FRA</td>\n",
       "      <td>approves the consolidated financial statement...</td>\n",
       "      <td>11958</td>\n",
       "      <td>87780</td>\n",
       "      <td>6</td>\n",
       "    </tr>\n",
       "    <tr>\n",
       "      <th>60</th>\n",
       "      <td>C:\\Users\\ilias\\Desktop\\UniMaResearch2023\\Extra...</td>\n",
       "      <td>61015098.txt</td>\n",
       "      <td>GBR</td>\n",
       "      <td>ANNUAL REPORT &amp; ACCOUNTS AVESCO GROUP PLC ANNU...</td>\n",
       "      <td>12000</td>\n",
       "      <td>38881</td>\n",
       "      <td>0</td>\n",
       "    </tr>\n",
       "    <tr>\n",
       "      <th>61</th>\n",
       "      <td>C:\\Users\\ilias\\Desktop\\UniMaResearch2023\\Extra...</td>\n",
       "      <td>61015098.txt</td>\n",
       "      <td>GBR</td>\n",
       "      <td>and Mr Nicholson, who were appointed to the B...</td>\n",
       "      <td>12000</td>\n",
       "      <td>38881</td>\n",
       "      <td>1</td>\n",
       "    </tr>\n",
       "    <tr>\n",
       "      <th>62</th>\n",
       "      <td>C:\\Users\\ilias\\Desktop\\UniMaResearch2023\\Extra...</td>\n",
       "      <td>61015098.txt</td>\n",
       "      <td>GBR</td>\n",
       "      <td>consumables Work in progress Finished goods a...</td>\n",
       "      <td>10259</td>\n",
       "      <td>38881</td>\n",
       "      <td>2</td>\n",
       "    </tr>\n",
       "  </tbody>\n",
       "</table>\n",
       "<p>63 rows × 7 columns</p>\n",
       "</div>"
      ],
      "text/plain": [
       "                                             filepath      filename cc_iso3  \\\n",
       "0   C:\\Users\\ilias\\Desktop\\UniMaResearch2023\\Extra...  61466756.txt     SGP   \n",
       "1   C:\\Users\\ilias\\Desktop\\UniMaResearch2023\\Extra...  61466756.txt     SGP   \n",
       "2   C:\\Users\\ilias\\Desktop\\UniMaResearch2023\\Extra...  61466756.txt     SGP   \n",
       "3   C:\\Users\\ilias\\Desktop\\UniMaResearch2023\\Extra...  61511488.txt     SGP   \n",
       "4   C:\\Users\\ilias\\Desktop\\UniMaResearch2023\\Extra...  61511488.txt     SGP   \n",
       "..                                                ...           ...     ...   \n",
       "58  C:\\Users\\ilias\\Desktop\\UniMaResearch2023\\Extra...  60783048.txt     FRA   \n",
       "59  C:\\Users\\ilias\\Desktop\\UniMaResearch2023\\Extra...  60783048.txt     FRA   \n",
       "60  C:\\Users\\ilias\\Desktop\\UniMaResearch2023\\Extra...  61015098.txt     GBR   \n",
       "61  C:\\Users\\ilias\\Desktop\\UniMaResearch2023\\Extra...  61015098.txt     GBR   \n",
       "62  C:\\Users\\ilias\\Desktop\\UniMaResearch2023\\Extra...  61015098.txt     GBR   \n",
       "\n",
       "                                               prompt  num_tokens  \\\n",
       "0   CEI Contract Manufacturing Limited Company Reg...       12000   \n",
       "1    is not be remeasured until it is finally sett...       12000   \n",
       "2    in force (unless such compliance has been wai...        8309   \n",
       "3   Transcending Boundaries, Growing Opportunities...       12000   \n",
       "4    individual performance while the remuneration...       12000   \n",
       "..                                                ...         ...   \n",
       "58   Group Terms and conditions: The taxable incom...       12000   \n",
       "59   approves the consolidated financial statement...       11958   \n",
       "60  ANNUAL REPORT & ACCOUNTS AVESCO GROUP PLC ANNU...       12000   \n",
       "61   and Mr Nicholson, who were appointed to the B...       12000   \n",
       "62   consumables Work in progress Finished goods a...       10259   \n",
       "\n",
       "    com_num_tokens segment  \n",
       "0            36931       0  \n",
       "1            36931       1  \n",
       "2            36931       2  \n",
       "3            43471       0  \n",
       "4            43471       1  \n",
       "..             ...     ...  \n",
       "58           87780       5  \n",
       "59           87780       6  \n",
       "60           38881       0  \n",
       "61           38881       1  \n",
       "62           38881       2  \n",
       "\n",
       "[63 rows x 7 columns]"
      ]
     },
     "execution_count": 149,
     "metadata": {},
     "output_type": "execute_result"
    }
   ],
   "source": [
    "util.segment_text_column(df_inputs, \"filename\", \"prompt\", 12000, 200)"
   ]
  },
  {
   "cell_type": "code",
   "execution_count": 81,
   "id": "b3a83499-a47d-40dd-9770-ef289fb7c7b4",
   "metadata": {},
   "outputs": [
    {
     "data": {
      "text/html": [
       "<div>\n",
       "<style scoped>\n",
       "    .dataframe tbody tr th:only-of-type {\n",
       "        vertical-align: middle;\n",
       "    }\n",
       "\n",
       "    .dataframe tbody tr th {\n",
       "        vertical-align: top;\n",
       "    }\n",
       "\n",
       "    .dataframe thead th {\n",
       "        text-align: right;\n",
       "    }\n",
       "</style>\n",
       "<table border=\"1\" class=\"dataframe\">\n",
       "  <thead>\n",
       "    <tr style=\"text-align: right;\">\n",
       "      <th></th>\n",
       "      <th>filepath</th>\n",
       "      <th>filename</th>\n",
       "      <th>cc_iso3</th>\n",
       "      <th>prompt</th>\n",
       "      <th>num_tokens</th>\n",
       "      <th>com_num_tokens</th>\n",
       "    </tr>\n",
       "  </thead>\n",
       "  <tbody>\n",
       "    <tr>\n",
       "      <th>8</th>\n",
       "      <td>C:\\Users\\ilias\\Desktop\\UniMaResearch2023\\Extra...</td>\n",
       "      <td>61466756.txt</td>\n",
       "      <td>SGP</td>\n",
       "      <td>CEI Contract Manufacturing Limited Company Reg...</td>\n",
       "      <td>31909</td>\n",
       "      <td>36931</td>\n",
       "    </tr>\n",
       "    <tr>\n",
       "      <th>10</th>\n",
       "      <td>C:\\Users\\ilias\\Desktop\\UniMaResearch2023\\Extra...</td>\n",
       "      <td>61511488.txt</td>\n",
       "      <td>SGP</td>\n",
       "      <td>Transcending Boundaries, Growing Opportunities...</td>\n",
       "      <td>38449</td>\n",
       "      <td>43471</td>\n",
       "    </tr>\n",
       "    <tr>\n",
       "      <th>12</th>\n",
       "      <td>C:\\Users\\ilias\\Desktop\\UniMaResearch2023\\Extra...</td>\n",
       "      <td>62075442.txt</td>\n",
       "      <td>PHL</td>\n",
       "      <td>I I I I I SEC Rogi·tration Numbu I AIcI EIs I ...</td>\n",
       "      <td>69601</td>\n",
       "      <td>74623</td>\n",
       "    </tr>\n",
       "    <tr>\n",
       "      <th>14</th>\n",
       "      <td>C:\\Users\\ilias\\Desktop\\UniMaResearch2023\\Extra...</td>\n",
       "      <td>62609130.txt</td>\n",
       "      <td>TUR</td>\n",
       "      <td>CONTENTS TURCAS IN BRIEF Vision, Mission, Stra...</td>\n",
       "      <td>53216</td>\n",
       "      <td>58238</td>\n",
       "    </tr>\n",
       "    <tr>\n",
       "      <th>18</th>\n",
       "      <td>C:\\Users\\ilias\\Desktop\\UniMaResearch2023\\Extra...</td>\n",
       "      <td>64866413.txt</td>\n",
       "      <td>IND</td>\n",
       "      <td>SUMMIT SECURITIES LIMITED Corporate Identifica...</td>\n",
       "      <td>54653</td>\n",
       "      <td>59675</td>\n",
       "    </tr>\n",
       "    <tr>\n",
       "      <th>22</th>\n",
       "      <td>C:\\Users\\ilias\\Desktop\\UniMaResearch2023\\Extra...</td>\n",
       "      <td>172416837.txt</td>\n",
       "      <td>CAN</td>\n",
       "      <td>RITCHIE BROS AUCTIONEERS INC Form -K Filed on ...</td>\n",
       "      <td>163019</td>\n",
       "      <td>168041</td>\n",
       "    </tr>\n",
       "    <tr>\n",
       "      <th>24</th>\n",
       "      <td>C:\\Users\\ilias\\Desktop\\UniMaResearch2023\\Extra...</td>\n",
       "      <td>60665866.txt</td>\n",
       "      <td>CHL</td>\n",
       "      <td>Endesa Chile annual report cifras de negocios ...</td>\n",
       "      <td>94232</td>\n",
       "      <td>99254</td>\n",
       "    </tr>\n",
       "    <tr>\n",
       "      <th>28</th>\n",
       "      <td>C:\\Users\\ilias\\Desktop\\UniMaResearch2023\\Extra...</td>\n",
       "      <td>60816306.txt</td>\n",
       "      <td>AUS</td>\n",
       "      <td>Annual Report Brambles Brambles Annual Report ...</td>\n",
       "      <td>87561</td>\n",
       "      <td>92583</td>\n",
       "    </tr>\n",
       "    <tr>\n",
       "      <th>30</th>\n",
       "      <td>C:\\Users\\ilias\\Desktop\\UniMaResearch2023\\Extra...</td>\n",
       "      <td>60783048.txt</td>\n",
       "      <td>FRA</td>\n",
       "      <td>Reference Document Financial year ending This ...</td>\n",
       "      <td>82758</td>\n",
       "      <td>87780</td>\n",
       "    </tr>\n",
       "    <tr>\n",
       "      <th>32</th>\n",
       "      <td>C:\\Users\\ilias\\Desktop\\UniMaResearch2023\\Extra...</td>\n",
       "      <td>61015098.txt</td>\n",
       "      <td>GBR</td>\n",
       "      <td>ANNUAL REPORT &amp; ACCOUNTS AVESCO GROUP PLC ANNU...</td>\n",
       "      <td>33859</td>\n",
       "      <td>38881</td>\n",
       "    </tr>\n",
       "  </tbody>\n",
       "</table>\n",
       "</div>"
      ],
      "text/plain": [
       "                                             filepath       filename cc_iso3  \\\n",
       "8   C:\\Users\\ilias\\Desktop\\UniMaResearch2023\\Extra...   61466756.txt     SGP   \n",
       "10  C:\\Users\\ilias\\Desktop\\UniMaResearch2023\\Extra...   61511488.txt     SGP   \n",
       "12  C:\\Users\\ilias\\Desktop\\UniMaResearch2023\\Extra...   62075442.txt     PHL   \n",
       "14  C:\\Users\\ilias\\Desktop\\UniMaResearch2023\\Extra...   62609130.txt     TUR   \n",
       "18  C:\\Users\\ilias\\Desktop\\UniMaResearch2023\\Extra...   64866413.txt     IND   \n",
       "22  C:\\Users\\ilias\\Desktop\\UniMaResearch2023\\Extra...  172416837.txt     CAN   \n",
       "24  C:\\Users\\ilias\\Desktop\\UniMaResearch2023\\Extra...   60665866.txt     CHL   \n",
       "28  C:\\Users\\ilias\\Desktop\\UniMaResearch2023\\Extra...   60816306.txt     AUS   \n",
       "30  C:\\Users\\ilias\\Desktop\\UniMaResearch2023\\Extra...   60783048.txt     FRA   \n",
       "32  C:\\Users\\ilias\\Desktop\\UniMaResearch2023\\Extra...   61015098.txt     GBR   \n",
       "\n",
       "                                               prompt  num_tokens  \\\n",
       "8   CEI Contract Manufacturing Limited Company Reg...       31909   \n",
       "10  Transcending Boundaries, Growing Opportunities...       38449   \n",
       "12  I I I I I SEC Rogi·tration Numbu I AIcI EIs I ...       69601   \n",
       "14  CONTENTS TURCAS IN BRIEF Vision, Mission, Stra...       53216   \n",
       "18  SUMMIT SECURITIES LIMITED Corporate Identifica...       54653   \n",
       "22  RITCHIE BROS AUCTIONEERS INC Form -K Filed on ...      163019   \n",
       "24  Endesa Chile annual report cifras de negocios ...       94232   \n",
       "28  Annual Report Brambles Brambles Annual Report ...       87561   \n",
       "30  Reference Document Financial year ending This ...       82758   \n",
       "32  ANNUAL REPORT & ACCOUNTS AVESCO GROUP PLC ANNU...       33859   \n",
       "\n",
       "    com_num_tokens  \n",
       "8            36931  \n",
       "10           43471  \n",
       "12           74623  \n",
       "14           58238  \n",
       "18           59675  \n",
       "22          168041  \n",
       "24           99254  \n",
       "28           92583  \n",
       "30           87780  \n",
       "32           38881  "
      ]
     },
     "execution_count": 81,
     "metadata": {},
     "output_type": "execute_result"
    }
   ],
   "source": [
    "df_inputs"
   ]
  },
  {
   "cell_type": "code",
   "execution_count": 71,
   "id": "4c3e85e6-7aa5-4961-973f-9ccdb353b11d",
   "metadata": {},
   "outputs": [],
   "source": [
    "df_inputs = test_df[['filepath', 'filename','cc_iso3']].copy().drop_duplicates()\n",
    "df_inputs['prompt'] = df_inputs['filepath'].apply(util.parse_txt).apply(util.clean_text)"
   ]
  },
  {
   "cell_type": "code",
   "execution_count": 72,
   "id": "5f33f3ab-3f9c-4c23-a756-4b9fd81cf68b",
   "metadata": {},
   "outputs": [],
   "source": [
    "df_inputs['num_tokens'] = df_inputs['prompt'].apply(util.count_tokens)\n",
    "base_prompt_length = util.count_tokens(system)\n",
    "df_inputs['com_num_tokens'] = df_inputs['num_tokens'] + base_prompt_length"
   ]
  },
  {
   "cell_type": "code",
   "execution_count": 73,
   "id": "fff02b6e-8fa4-4f20-b9ff-f7feb6e0dbc8",
   "metadata": {},
   "outputs": [
    {
     "data": {
      "text/plain": [
       "<matplotlib.lines.Line2D at 0x20dd26745e0>"
      ]
     },
     "execution_count": 73,
     "metadata": {},
     "output_type": "execute_result"
    },
    {
     "data": {
      "image/png": "[encoded data removed]",
      "text/plain": [
       "<Figure size 640x480 with 1 Axes>"
      ]
     },
     "metadata": {},
     "output_type": "display_data"
    }
   ],
   "source": [
    "df_inputs['num_tokens'].hist(bins=30)\n",
    "plt.axvline(x=df_inputs['com_num_tokens'].median(), color = \"r\")"
   ]
  },
  {
   "cell_type": "markdown",
   "id": "f2a0bbe9-2f8b-463b-b3b7-769cb4d42af8",
   "metadata": {},
   "source": [
    "# reduce to below 60k tokens"
   ]
  },
  {
   "cell_type": "code",
   "execution_count": 28,
   "id": "cb65d849-0088-48b7-815a-7806f53c4e7c",
   "metadata": {},
   "outputs": [],
   "source": [
    "df_inputs = df_inputs[df_inputs.num_tokens <= 60000]"
   ]
  },
  {
   "cell_type": "code",
   "execution_count": 29,
   "id": "13200adb-2016-4326-8fc6-ad0594bcba4a",
   "metadata": {},
   "outputs": [
    {
     "data": {
      "text/plain": [
       "8     36931\n",
       "10    43471\n",
       "14    58238\n",
       "18    59675\n",
       "32    38881\n",
       "Name: com_num_tokens, dtype: int64"
      ]
     },
     "execution_count": 29,
     "metadata": {},
     "output_type": "execute_result"
    }
   ],
   "source": [
    "df_inputs['com_num_tokens']"
   ]
  },
  {
   "cell_type": "code",
   "execution_count": 30,
   "id": "ccb4da97-257c-4838-bad5-78583f134022",
   "metadata": {},
   "outputs": [
    {
     "data": {
      "text/plain": [
       "8      36931\n",
       "10     80402\n",
       "14    138640\n",
       "18    198315\n",
       "32    237196\n",
       "Name: com_num_tokens, dtype: int64"
      ]
     },
     "execution_count": 30,
     "metadata": {},
     "output_type": "execute_result"
    }
   ],
   "source": [
    "df_inputs['com_num_tokens'].cumsum()"
   ]
  },
  {
   "cell_type": "markdown",
   "id": "5390e844-d6c7-43f0-8922-8d7d74e9707b",
   "metadata": {},
   "source": [
    "# Calculate Cost"
   ]
  },
  {
   "cell_type": "code",
   "execution_count": 31,
   "id": "7bec6119-d280-446f-a89c-b33a21287806",
   "metadata": {},
   "outputs": [
    {
     "data": {
      "text/plain": [
       "2.37196"
      ]
     },
     "execution_count": 31,
     "metadata": {},
     "output_type": "execute_result"
    }
   ],
   "source": [
    "util.calc_price_gpt(df_inputs.shape[0], df_inputs.com_num_tokens.mean(), 1, .01, 1000)"
   ]
  },
  {
   "cell_type": "code",
   "execution_count": 58,
   "id": "a9fa373c-498f-4a46-88ee-a6e6979201eb",
   "metadata": {},
   "outputs": [
    {
     "data": {
      "text/plain": [
       "{'$ (excl. VAT)': 2400.0}"
      ]
     },
     "execution_count": 58,
     "metadata": {},
     "output_type": "execute_result"
    }
   ],
   "source": [
    "util.calc_price_gpt(100_000, 16_000, 3, .0005, 1_000)"
   ]
  },
  {
   "cell_type": "code",
   "execution_count": 57,
   "id": "30b2e236-67f5-4bf6-b5fd-b281e233788f",
   "metadata": {},
   "outputs": [
    {
     "data": {
      "text/plain": [
       "{'days': 20.0, 'hours': 20.0, 'min': 0.0, 'raw min': 30000.0}"
      ]
     },
     "execution_count": 57,
     "metadata": {},
     "output_type": "execute_result"
    }
   ],
   "source": [
    "util.calc_compute_time(100_000, 16000, 3, 160_000)"
   ]
  },
  {
   "cell_type": "markdown",
   "id": "e1f29ad9-f47d-40a3-9fd2-4539030791f6",
   "metadata": {},
   "source": [
    "# Prompt GPT"
   ]
  },
  {
   "cell_type": "markdown",
   "id": "74a3eece-0ee1-4e89-bf0b-0aec04729a28",
   "metadata": {},
   "source": [
    "## Initialize Client"
   ]
  },
  {
   "cell_type": "code",
   "execution_count": 33,
   "id": "e735c0cc-0080-4be4-84bb-77829ac76e8f",
   "metadata": {},
   "outputs": [],
   "source": [
    "client = OpenAI()"
   ]
  },
  {
   "cell_type": "markdown",
   "id": "6336b5b2-f84a-4e01-88c9-687737b533ad",
   "metadata": {},
   "source": [
    "## Call API"
   ]
  },
  {
   "cell_type": "code",
   "execution_count": 34,
   "id": "4ace8506-b823-4b4e-83ec-c8514532c846",
   "metadata": {},
   "outputs": [
    {
     "data": {
      "application/vnd.jupyter.widget-view+json": {
       "model_id": "7e076989938745f7ae4a28c0df9ae323",
       "version_major": 2,
       "version_minor": 0
      },
      "text/plain": [
       "  0%|          | 0/5 [00:00<?, ?it/s]"
      ]
     },
     "metadata": {},
     "output_type": "display_data"
    },
    {
     "name": "stdout",
     "output_type": "stream",
     "text": [
      "2024-03-05 23:22:59.255360\n",
      "2024-03-05 23:23:08.327833\n",
      "2024-03-05 23:23:51.294144\n",
      "2024-03-05 23:24:15.871878\n",
      "2024-03-05 23:24:47.794655\n"
     ]
    }
   ],
   "source": [
    "df_inputs['output'] = df_inputs.progress_apply(lambda x: util.prompt_gpt(client, system, x.prompt, user_assistant, \"gpt-4-0125-preview\"), axis=1)"
   ]
  },
  {
   "cell_type": "markdown",
   "id": "30f71085-0073-4881-9f22-53b021f3f8cb",
   "metadata": {},
   "source": [
    "# Evaluation"
   ]
  },
  {
   "cell_type": "code",
   "execution_count": 35,
   "id": "cf492226-7907-44b9-8256-fcb6947a45ae",
   "metadata": {},
   "outputs": [
    {
     "data": {
      "text/html": [
       "<div>\n",
       "<style scoped>\n",
       "    .dataframe tbody tr th:only-of-type {\n",
       "        vertical-align: middle;\n",
       "    }\n",
       "\n",
       "    .dataframe tbody tr th {\n",
       "        vertical-align: top;\n",
       "    }\n",
       "\n",
       "    .dataframe thead th {\n",
       "        text-align: right;\n",
       "    }\n",
       "</style>\n",
       "<table border=\"1\" class=\"dataframe\">\n",
       "  <thead>\n",
       "    <tr style=\"text-align: right;\">\n",
       "      <th></th>\n",
       "      <th>filepath</th>\n",
       "      <th>filename</th>\n",
       "      <th>cc_iso3</th>\n",
       "      <th>prompt</th>\n",
       "      <th>num_tokens</th>\n",
       "      <th>com_num_tokens</th>\n",
       "      <th>output</th>\n",
       "    </tr>\n",
       "  </thead>\n",
       "  <tbody>\n",
       "    <tr>\n",
       "      <th>8</th>\n",
       "      <td>C:\\Users\\ilias\\Desktop\\UniMaResearch2023\\Extra...</td>\n",
       "      <td>61466756.txt</td>\n",
       "      <td>SGP</td>\n",
       "      <td>CEI Contract Manufacturing Limited Company Reg...</td>\n",
       "      <td>31909</td>\n",
       "      <td>36931</td>\n",
       "      <td>ChatCompletion(id='chatcmpl-8zXTYxcEDFKwZ1mK72...</td>\n",
       "    </tr>\n",
       "    <tr>\n",
       "      <th>10</th>\n",
       "      <td>C:\\Users\\ilias\\Desktop\\UniMaResearch2023\\Extra...</td>\n",
       "      <td>61511488.txt</td>\n",
       "      <td>SGP</td>\n",
       "      <td>Transcending Boundaries, Growing Opportunities...</td>\n",
       "      <td>38449</td>\n",
       "      <td>43471</td>\n",
       "      <td>ChatCompletion(id='chatcmpl-8zXThvxa4tpz7KeiFz...</td>\n",
       "    </tr>\n",
       "    <tr>\n",
       "      <th>14</th>\n",
       "      <td>C:\\Users\\ilias\\Desktop\\UniMaResearch2023\\Extra...</td>\n",
       "      <td>62609130.txt</td>\n",
       "      <td>TUR</td>\n",
       "      <td>CONTENTS TURCAS IN BRIEF Vision, Mission, Stra...</td>\n",
       "      <td>53216</td>\n",
       "      <td>58238</td>\n",
       "      <td>ChatCompletion(id='chatcmpl-8zXUOsQtpDseealpdl...</td>\n",
       "    </tr>\n",
       "    <tr>\n",
       "      <th>18</th>\n",
       "      <td>C:\\Users\\ilias\\Desktop\\UniMaResearch2023\\Extra...</td>\n",
       "      <td>64866413.txt</td>\n",
       "      <td>IND</td>\n",
       "      <td>SUMMIT SECURITIES LIMITED Corporate Identifica...</td>\n",
       "      <td>54653</td>\n",
       "      <td>59675</td>\n",
       "      <td>ChatCompletion(id='chatcmpl-8zXUnVGu6GAXf64uhS...</td>\n",
       "    </tr>\n",
       "    <tr>\n",
       "      <th>32</th>\n",
       "      <td>C:\\Users\\ilias\\Desktop\\UniMaResearch2023\\Extra...</td>\n",
       "      <td>61015098.txt</td>\n",
       "      <td>GBR</td>\n",
       "      <td>ANNUAL REPORT &amp; ACCOUNTS AVESCO GROUP PLC ANNU...</td>\n",
       "      <td>33859</td>\n",
       "      <td>38881</td>\n",
       "      <td>ChatCompletion(id='chatcmpl-8zXVJZfxFZK5urc4OR...</td>\n",
       "    </tr>\n",
       "  </tbody>\n",
       "</table>\n",
       "</div>"
      ],
      "text/plain": [
       "                                             filepath      filename cc_iso3  \\\n",
       "8   C:\\Users\\ilias\\Desktop\\UniMaResearch2023\\Extra...  61466756.txt     SGP   \n",
       "10  C:\\Users\\ilias\\Desktop\\UniMaResearch2023\\Extra...  61511488.txt     SGP   \n",
       "14  C:\\Users\\ilias\\Desktop\\UniMaResearch2023\\Extra...  62609130.txt     TUR   \n",
       "18  C:\\Users\\ilias\\Desktop\\UniMaResearch2023\\Extra...  64866413.txt     IND   \n",
       "32  C:\\Users\\ilias\\Desktop\\UniMaResearch2023\\Extra...  61015098.txt     GBR   \n",
       "\n",
       "                                               prompt  num_tokens  \\\n",
       "8   CEI Contract Manufacturing Limited Company Reg...       31909   \n",
       "10  Transcending Boundaries, Growing Opportunities...       38449   \n",
       "14  CONTENTS TURCAS IN BRIEF Vision, Mission, Stra...       53216   \n",
       "18  SUMMIT SECURITIES LIMITED Corporate Identifica...       54653   \n",
       "32  ANNUAL REPORT & ACCOUNTS AVESCO GROUP PLC ANNU...       33859   \n",
       "\n",
       "    com_num_tokens                                             output  \n",
       "8            36931  ChatCompletion(id='chatcmpl-8zXTYxcEDFKwZ1mK72...  \n",
       "10           43471  ChatCompletion(id='chatcmpl-8zXThvxa4tpz7KeiFz...  \n",
       "14           58238  ChatCompletion(id='chatcmpl-8zXUOsQtpDseealpdl...  \n",
       "18           59675  ChatCompletion(id='chatcmpl-8zXUnVGu6GAXf64uhS...  \n",
       "32           38881  ChatCompletion(id='chatcmpl-8zXVJZfxFZK5urc4OR...  "
      ]
     },
     "execution_count": 35,
     "metadata": {},
     "output_type": "execute_result"
    }
   ],
   "source": [
    "df_inputs"
   ]
  },
  {
   "cell_type": "code",
   "execution_count": 41,
   "id": "a77e60c1-05f1-420d-8335-d27a483dfcd4",
   "metadata": {},
   "outputs": [
    {
     "data": {
      "text/plain": [
       "'ANNUAL REPORT & ACCOUNTS AVESCO GROUP PLC ANNUAL REPORT CONTENTS PROFILE HIGHLIGHTS CHAIRMAN\\'S STATEMENT REVIEW OF OPERATIONS FINANCIAL REVIEW BOARD OF DIRECTORS ADVISORS DIRECTORS\\' REPORT DIRECTORS\\' REMUNERATION REPORT CORPORATE GOVERNANCE REPORT STATEMENT OF DIRECTORS\\' RESPONSIBILITIES INDEPENDENT AUDITORS\\' REPORT ACCOUNTS AND NOTES NOTICE OF MEETING FORM OF PROXY PRINCIPAL OFFICES IBC THE AVESCO GROUP UK MAINLAND EUROPE NORTH AMERICA MIDDLE EAST ASIA CREATIVE TECHNOLOGY Major events & award ceremonies CT London CT Germany CT North America CT Dubai CT Shanghai FULL SERVICE From dry hire to large events MCL Action JVR BROADCAST SERVICES Broadcast equipment, systems & services to the broadcast market Presteigne Fountain Studios Presteigne AVESCO GROUP PLC ANNUAL REPORT PROFILE MAKING EVERYDAY EVENTS WORLD CLASS Avesco Group plc is the parent company of an international media services group providing services to the corporate presentation, entertainment and broadcast markets by bringing together audio visual, staging and production expertise and studio facilities. We have built a reputation for excellence and are relied upon by our clients to ensure events happen. Many of the world\\'s leading companies choose us to be their preferred partner. We help our clients raise brand profile, launch products, stage live events and entertain audiences. The Industrial Resolution event at the Manchester International Festival featured the largest screen produced in Europe for which CT London supplied the projectors. JVR supplied screens and video for the dazzling Symphonica in Rosso held in Holland. Photo © The Entertainment Group CT London provided MiTRIX technology to create this extraordinary effect on the floor at the KEF Speaker launch in Milan. 4 Held in Helsinki for its 52nd year, the Eurovision Song Contest was the perfect forum to showcase the stunning imagery offered by high definition television. This year, host broadcaster YLE, used five Gigawave HD D-Cam Digital Wireless Camera Systems supplied by Presteigne, giving them full coverage of the stage area and artists\\' green room for the showpiece event. 5 The ever popular, successful and multi-award winning talkbackTHAMES/Syco collaborations of the UK\\'s The X Factor have always had their TV home at Fountain and make full use of all of the facilities the studios have to offer. 6 The International Consumer Electronics Show (CES) held in Las Vegas, Nevada is considered one of the major technology-related trade shows. CT North America provide audio visual solutions to many press events surrounding the Show. AVESCO GROUP PLC ANNUAL REPORT OVERVIEW INTERNATIONAL BUSINESS The Avesco Group has become a leading international media services business with operations in Europe, North America, the Middle East and Asia, over employees and is truly local, national and international in its capability. TURNOVER BY REGION M UK TURNOVER > BIRMINGHAM > BIRMINGHAM NEC > EDINBURGH > GLASGOW > LONDON > MANCHESTER NORTH AMERICA TURNOVER > ATLANTA > BOSTON > CHICAGO > LAS VEGAS > LOS ANGELES > SAN FRANCISCO MIDDLE EAST & ASIA TURNOVER > DUBAI > SHANGHAI MAINLAND EUROPE TURNOVER > AMSTERDAM > CANNES > COLOGNE > DUSSELDORF > HILVERSUM > MONACO > MUNICH > ROOSENDAAL > ROTTERDAM > STUTTGART AVESCO GROUP PLC ANNUAL REPORT Within the Avesco Group our clients have access to companies with all the necessary skills and experience in staging and supporting events and in providing broadcast services and facilities. Fountain Studios has recently purchased Sony HDC1500 high definition cameras together with a ProBel Sirius x high definition router as part of an ongoing investment plan underpinning Fountain Studios commitment to providing the most flexible, cost effective studios to its clients. 2 CT North America provided audio visual solutions at the X-Box Press Event at E Santa Monica, California. 3 JVR created the stunning stage and production for several concerts held in Gelredome stadium, Arnhem, Holland for the Symphonica in Rosso, which featured Paul de Leeuw. Photo © The Entertainment Group CT London provided sound (utilising EV XLC Line array range) and seven LED screens of varying sizes, at the Kids Choice Awards for Nickleodeon held in London. TURNOVER DERIVATION CREATIVE TECHNOLOGY > CT LONDON > CT GERMANY > CT NORTH AMERICA > CT DUBAI > CT SHANGHAI FULL SERVICE > MCL > ACTION > JVR BROADCAST SERVICES > PRESTEIGNE > FOUNTAIN STUDIOS AVESCO GROUP PLC ANNUAL REPORT CHAIRMAN\\'S STATEMENT MICHAEL GIBBINS It has been a year both of transformation and of investment in the future. The market looks as challenging and full of opportunity as ever and we have put in place the management and operations to achieve our ambitions as a premier player in the media services industry. DEAR SHAREHOLDER This is the first annual report of the Avesco Group since we disposed of our investment in Complete Communications Corporation Limited (\"Complete\") and then acquired Avesco plc. As a result of these transactions, your Company today bears little resemblance to that of twelve months ago and has been transformed into a specialist media services business with substantial global reach. At the end of the financial year to we acquired Fountain Studios, the UK\\'s largest independent dedicated television studio and home to a number of the country\\'s top entertainment shows. In December we completed the planned disposal of our shareholding in Complete to 2waytraffic N.V. for which we received in cash, of deferred consideration and shares in 2waytraffic. At the end of September the Company disposed of its entire holding in 2waytraffic at a share, raising proceeds of In May we completed the acquisition of Avesco plc for a total consideration (including costs) of through a combination of cash and the issue of new ordinary shares of the Company. The primary business of Avesco plc and its subsidiary companies is the rental of video and audio equipment and the provision of services to the events and broadcast industry. With the addition of the Avesco companies to the Fountain Studios business, the Group has become a leading international media services business with operations in Europe, North America, the Middle East and Asia and some employees. RESULTS As a consequence of the various transactions outlined above, the results for the months to include the results of Fountain Studios for the full year, which produced an operating profit of and the results of the businesses of Avesco plc and its subsidiaries from the date of acquisition on until being an operating profit of The Group\\'s share of Complete\\'s results between and its disposal on was an operating profit of prior to operating exceptional costs of A gain of was made on our share of the profit on the disposal of certain subsidiaries of Complete and on the disposal of Complete itself. The Group\\'s share of the results of Medal Entertainment & Media plc (\"MEM\") between and when MEM ceased trading, was an operating profit of before operating exceptional costs of together with a further exceptional loss of relating to the write-off of the Group\\'s investment in MEM. AVESCO GROUP PLC ANNUAL REPORT Turnover for the year was : ), excluding the Group\\'s share of Associates\\' turnover of : ), producing an operating profit before exceptional items and goodwill amortisation of : ). Non-operating exceptional items produced a net gain : nil) and goodwill amortisation amounted to a credit of : nil). After taking account of net interest income of : ), the profit on ordinary activities before taxation was : ). Basic earnings per share were : ), and : ) on a diluted basis. DIVIDEND The Board is proposing a final dividend of per share : ) subject to shareholders\\' approval, making a total dividend of per share for the year : ). Our intention is to pursue a policy of steady dividend growth while having regard to the needs of the business and maintaining a sensible earnings cover. SHARE CAPITAL Since the year end, the Company used 1m from the proceeds of the sale of its 2waytraffic shares for the purchase of its own shares by buying shares at each. These shares are held in treasury. The Directors intend to use up to the remaining from the sale of the 2waytraffic shares to undertake additional market purchases of the Company\\'s own shares although they only propose to do so if satisfied that such purchases would result in an increase in earnings per share and would be in the best interests of the shareholders generally. The Company currently has authority to purchase up to an additional shares and is seeking authority at the forthcoming AGM to renew this authority in respect of shares. OUTLOOK The disposal of our interest in Complete has allowed the Company to fund the acquisition of an exciting international media services group. The investments we have made will drive the organic growth and development of the Group in the future although we may also consider further suitable acquisition opportunities as they arise. It has been a year both of transformation and of investment in the future. The market looks as challenging and full of opportunity as ever and we have put in place the management and operations to achieve our ambitions as a premier player in the media services industry. MICHAEL GIBBINS CHAIRMAN TRANSACTIONS > At the end of the financial year to we acquired Fountain Studios, the UK\\'s largest independent dedicated television studio. > In December we completed the planned disposal of our shareholding in Complete to 2waytraffic N.V. for which we received in cash, of deferred consideration and shares in 2waytraffic. > At the end of September the Company disposed of its entire holding in 2waytraffic at a share, raising proceeds of > In May we completed the acquisition of Avesco plc for a total consideration (including costs) of through a combination of cash and the issue of new ordinary shares of the Company. AVESCO GROUP PLC ANNUAL REPORT CHIEF EXECUTIVE\\'S REVIEW OF OPERATIONS IAN MARTIN Avesco Group\\'s strategy is clear and straightforward to continue to grow our share of the events and broadcast market while maximising the value derived from each client relationship to the mutual benefit of the client and us. I have no doubt that we shall look back in a few years and see the last year as not only one of transformation but also as one of the emergence of the Avesco Group as a world class business within its sector. Perhaps a great deal remains to be done to maximise the potential but that is also the opportunity. WHAT WE DO For those looking at the accounts for the first time, the primary business of the Avesco Group is the supply of specialist equipment, facilities and services to the events and broadcast markets. Within the Avesco Group our clients have access to companies with all the necessary skills and experience in staging and supporting events and in providing broadcast services and facilities, companies with strong and distinctive cultures of their own and all highly respected. Today we employ around people in locations and are truly local, national and international in our capability. The largest business is Creative Technology (\"CT\"), which has operations in the US, UK, Mainland Europe, Asia and the Middle East. It is one of the premier staging companies in the world, offering highly specialised video and audio solutions to its clients. CT\\'s reputation is built on a track record established over years for delivering quality, innovation and technically challenging solutions in many countries round the globe. Alongside CT, we offer a number of regionally strong full service businesses providing a \"one stop shop\" for everything a client would need for its next event, whether a desktop projector for a boardroom meeting or a complete vision, sound and light solution for a major international event. Our third area of activity is Broadcast Services where we have two distinct businesses, Presteigne Broadcast Hire and Fountain Studios. Presteigne is a leading provider of broadcast television equipment and systems solutions to the television studio, outside broadcast and production sectors. Fountain Studios, based in Wembley, London, is the UK\\'s largest independent dedicated television studio. STRATEGY OVERVIEW Avesco Group\\'s strategy is clear and straightforward to continue to grow our share of the events and broadcast market while maximising the value derived from each client relationship to the mutual benefit of the client and us. We aim to develop the quality and range of our services and products and to exploit and build upon the substantial knowledge, skills and resources available within the Group. REVIEW OF BUSINESS The financial information, which follows for each business, covers the period since its acquisition on except in respect of Fountain Studios which has been part of the Group for the full year. The summer period has historically been the quietest part of the financial year and therefore the bare numbers alone do not adequately reflect the true underlying performance of the newer companies within the Group. AVESCO GROUP PLC ANNUAL REPORT CREATIVE TECHNOLOGY Creative Technology (\"CT\") is a professional full service audio visual staging company providing turnkey solutions for corporate and special events, tradeshows and exhibits, conferences and general sessions, product launches and award ceremonies. CT has offices in North America (Los Angeles, San Francisco, Chicago and Las Vegas), Europe (London and Stuttgart), Middle East (Dubai) and Asia (Shanghai). CT\\'s planned geographic diversification has continued with the new offices opening in Dubai and, after the year end, in Shanghai. We consolidated our position in CT Germany by buying the minority interest in the business previously owned by management. The acquisition not only gives us full ownership and control but also provides us with a solid platform from which to drive the development of that business in the very important German market. In the ½ month period for which it was part of the Group, CT achieved global revenues of and an operating loss of although it should be noted that these results take in the summer season, which is traditionally CT\\'s weaker trading period, and are after the initial trading loss in the new Dubai office of Efficient operations are a cornerstone for the CT business. We have begun an investment process to upgrade and standardise our core equipment management systems across CT. This should produce better utilisation of our equipment and thus, in turn, lead to improvements in our margins. The North American operations are scheduled to be the first to go live with the new systems during the first half of CT has continued to invest in the development of its audio capability, which generates an increasing percentage of our revenues. We have steadily grown one of the most respected audio operations in the industry in a matter of a few years. Since the end of the financial year we have entered into a strategic alliance in the music touring market with CT Touring. CT Touring will be positioned as a high-end video services company, providing concert touring video systems to some of the world\\'s most talented entertainers. CT has been trading successfully for over years and is one of the few truly international staging companies. It is run by professional management and has many talented individuals. The services offered are being broadened and geographic expansion into the Middle East and China gives us exposure to enormously important new markets. FULL SERVICE In the ½ month period for which they were part of the Group, Avesco\\'s Full Service companies, which comprise three regionally strong businesses, had combined revenue of and recorded a small operating profit. OUR BUSINESSES > Creative Technology (\"CT\"), has operations in the US, UK, Mainland Europe, Asia and the Middle East. It is one of the premier staging companies in the world, offering highly specialised video and audio solutions to its clients. > Regionally strong full service businesses provide a \"one stop shop\" for everything a client would need for its event, whether a boardroom meeting or major international event. > Two distinct businesses, Presteigne Broadcast Hire and Fountain Studios make up our Broadcast Services sector. Presteigne is a leading provider of broadcast television equipment and systems solutions to the television studio, outside broadcast and production sectors, and Fountain Studios, based in Wembley, London, is the UK\\'s largest independent dedicated television studio. AVESCO GROUP PLC ANNUAL REPORT CHIEF EXECUTIVE\\'S STATEMENT REVIEW OF OPERATIONS CONTINUED Over the past twelve months the Avesco Group has changed from a business primarily focused on the management of its investments to a specialist media services business with substantial global reach. JVR, based in the Netherlands, provides comprehensive technical support for conventions, sports and music events, company presentations, television shows and fairs. JVR had an outstanding performance during the period both in financial terms and in the development of the operation. It increased market share, built upon its strong reputation in video and made significant additions to its audio services. Action, based in Monaco and Cannes, has long been established as a market leader on the Côte D\\'Azur in video and audio. The region is a favoured destination for conferences and exhibitions, which provide a healthy demand for Action\\'s services. Action has recently introduced an IT services capability which integrates especially well into the exhibition market. MCL, which has offices across the UK, is one of the UK\\'s leading suppliers of vision, sound, lighting and staging, providing a \"one stop shop\" for everything the client needs for its next event, whether it is a desktop projector for a boardroom meeting or a complete vision, sound and lighting solution for a major international event. MCL is emerging from a point of change. The business, in financial terms, has failed to meet internal targets over the last several months and so to regenerate the company we have implemented a number of senior management changes. Underperforming branches have been restructured and repositioned and MCL is now a more cohesive unit moving forward. The main Birmingham office has recently been relocated to brand new premises, which are more appropriate to the size of the operation and should lead to some cost savings and improvements in operational efficiency. Through these actions we expect to see an upturn in MCL\\'s performance as the business regains its momentum. BROADCAST SERVICES Within Broadcast Services we have two businesses, Presteigne Broadcast Hire and Fountain Studios. In the months ended which includes the results of Fountain Studios for the full year and Presteigne since May Broadcast Services achieved a combined operating profit of on revenue of Presteigne Broadcast Hire rents High Definition and Standard Definition camera equipment, Video Tape Recorders, EVS hard disk recorders, lenses, RF links and de-rig systems to its clients across Europe and the rest of the World. The strategy for Presteigne remains to consolidate its position as one of the market leaders in the rental of High Definition technology as the industry migrates to that format. During the last twelve months Presteigne has opened an office in Holland, a second office in Germany and, since the year end, a second UK office in Manchester. The increase in Presteigne\\'s geographical presence in these important local markets should open up new business opportunities as well as providing the stability that comes from a broader base of operation. Presteigne has continued the development of its services and products to support a larger customer base. The fastest growing segments of the business are our RF capability and the recently introduced audio service. In parallel to CT, Presteigne has begun an investment process to replace its core IT systems with one central system allowing for improvements in equipment management around what has developed into a larger and more complex business. AVESCO GROUP PLC ANNUAL REPORT Fountain Studios provides the UK\\'s largest fully equipped dedicated independent television studio, combined with an outstanding operational team and first class support services. Many leading shows are produced at Fountain Studios including during the year The X Factor, Britain\\'s Got Talent, Grease and Little Miss Jocelyn. Fountain produced a record financial performance in the period, with utilisation of the studio at high levels. It continued to benefit from the industry trends in programme making. The management executed their plans efficiently and did a fantastic job in managing the increased level of demand. Investment was made to refurbish the building, which has been well received. We also began to build a high definition capability with the replacement of the whole camera stock which should benefit margins and reinforce the reputation of Fountain as the studio of choice. The fourth series of the The X Factor is currently being filmed at Fountain and should provide a solid start to what we hope will be another good year. PEOPLE Key to both the success of the Group and our strategy going forward is the people we employ. We have excellent people around the Group, I wish to thank them for their contribution and this Group is a reflection of their passion, talent and efforts. It is a joy to work with them. OUTLOOK As I write there is some uncertainty regarding the global economic outlook, with the full ramifications of the \"credit crunch\" yet to be seen. Although there is little evidence of any adverse impact on our business, we remain alert and will take a cautious view on major capital expenditure until a clearer picture emerges. Avesco has a strong balance sheet with gearing of only as at and we continue to generate a healthy cash flow. We are well placed to weather any downturn should it arise and to prosper in more positive markets. The financial year should benefit from the Beijing Olympics and the European Football Championships, the combination of which has the potential to produce a strong demand for the Group\\'s services during the summer and to mitigate any downturn elsewhere in the year. CONCLUSION Over the past twelve months the Avesco Group has changed from a business primarily focused on the management of its investments to a specialist media services business with substantial global reach. As the Group expands, we are identifying many exciting and challenging new opportunities around the world, all of which gives us confidence for the future. IAN MARTIN CHIEF EXECUTIVE OUTLOOK Avesco has a strong balance sheet with gearing of only as at and we continue to generate a healthy cash flow. We are well placed to weather any downturn should it arise and to prosper in more positive markets. The financial year should benefit from the Beijing Olympics and the European Football Championships, the combination of which has the potential to produce a strong demand for the Group\\'s services during the summer and to mitigate any downturn elsewhere in the year. AVESCO GROUP PLC ANNUAL REPORT , 4. SUPPORTING ACTS We provide audio visual solutions to some of the world\\'s most talented entertainers. Years of leadership in the live event and production industry have built our reputation for delivering pioneering display technologies on any scale, on time and on budget. AVESCO GROUP PLC ANNUAL REPORT We see live music as a significant part of our business and we aim to increase our presence in this important market over the coming years. CT London supported the Led Zeppelin reunion concert held at the Arena in London by supplying a Stealth translucent LED screen wide x high) for the main backdrop, and two O Lite LED screens for image magnification. The main backdrop screen was the largest ever used in the arena. 5 Photograph © K Mazur/Getty Images Entertainment/Getty Images Frans Bauer, one of Holland\\'s most prolific artists, enlisted the help of JVR for the production of his run of concerts held in Ahoy\\' in Rotterdam. JVR supplied of Barco MiTrix, two FLM DLP\\'s projected onto a special gauze screen of x 3 Live Earth was a monumental music event that brought together a global audience to combat the climate crisis. Presteigne supplied both video and audio to support this live broadcast. 4 Elton John\\'s Red Piano spectacular premiered in the Arena in London with CT London providing the MiTrix screen and all video production. 5 MiTrix featured again at the opening of Rod Stewart\\'s European tour this time as a screen. The MiTrix offers a semi transparent solution enabling products or performers to be revealed through the screen. One other advantage of this design is that it is extremely light weight. The screen used here weighs around four tonnes whereas a conventional LED screen of similar dimensions would be around tonnes in weight. AVESCO GROUP PLC ANNUAL REPORT READY, STEADY, GO. COMPETING AROUND THE WORLD Many sporting events around the globe are supported by our companies. We have supplied services at a number of prestigious events including the Rugby World Cup and the Tour de France. AVESCO GROUP PLC ANNUAL REPORT Investments in time, people and equipment in the last year have made a substantial impact to both our companies and their clients alike. New branches opening and the expansion of our global reach have enabled the Group to grow its international market share, enabling us to provide regional, national and international support to a variety of sporting events. An LED scoreboard screen was used for the first time this year at the British Masters. CT London used a Mitsubishi OD10 screen to display the leader board. 2 CT Dubai provided multiple screens around the track, including Barco and Unitek LED Screens at the Supercar Championship Series held at the Bahrain International Circuit. 3 Action\\'s huge quantities of LCD and plasma displays showing car demonstrations and presentations, took pole position at the McLarenMercedes launch of the Formula One Grand Prix season car. Almost fans and double world champion Fernando Alonso were at the event held in Valencia, Spain. 4 Presteigne supplied high definition RF systems and a selection of cameras for London\\'s debut in the Tour de France. 5 and CT London created a bespoke rugby ball to act as the focus for the hospitality area during the Rugby World Cup at the Stade de France in Paris. The ball was formed utilising Olite tiles. As guests move past the rugby ball, they enter a tunnel that has x rear projection screens on either side. Four projectors per screen are soft edged together to make one composite picture displaying iconic rugby images such as the Hacka. AVESCO GROUP PLC ANNUAL REPORT POLE POSITION STEERING THE SPECTACULAR Innovative solutions are constantly required for the automobile show sector, where Creative Technology leads the way. Consistently high standards are sought to highlight our clients\\' latest concepts in automobile architecture and technology. AVESCO GROUP PLC ANNUAL REPORT With new CT offices in the Middle East and Asia, the Avesco Group is able to provide solutions, equipment and personnel to a truly international client base. and The NAIAS (North American International Auto Show) held in Detroit, Michigan is a busy period for CT North America. CTNA work for a variety of clients and events at the Show, such as the Ford Press Event. 3 CT Shanghai also provided audio visual solutions for the Mazda stand at the Guangzhou motorshow in China. 4 and CT Germany\\'s relationship with Saab took them to the IAA in Frankfurt. Successful use of Stealth screens enables Saab and CT Germany to provide one of the most visually outstanding stands at motor shows held throughout the world. 6 The Honda stand at the Guangzhou motorshow was provided with two screens utilising panels of Barco Ilite Watchout & Spyder, courtesy of CT Shanghai. AVESCO GROUP PLC ANNUAL REPORT LIGHTS, CAMERA, ACTION. LIVE BROADCAST Broadcast services is one of the fastest developing areas of the Avesco Group. Presteigne, being a market leading provider of broadcast television equipment and services, has established itself at the forefront of the industry supplying its clients with cutting edge technology. We understand that live broadcast means no second chances and both Presteigne and Fountain Studios use that philosophy to match the appropriate personnel and technology to our clients\\' needs. AVESCO GROUP PLC ANNUAL REPORT Whether we are on location or in studios, we maintain our consistent approach to ensure our clients\\' production runs smoothly. Value comes from investment in technology, in our people on the ground and in our management teams which can only strengthen and reinforce our position as one of the market leaders in our business. and Held in Helsinki for its 52nd year, the Eurovision Song Contest was the perfect forum to showcase the stunning imagery offered by high definition television. This year, host broadcaster YLE, used five Gigawave HD D-Cam Digital Wireless Camera Systems supplied by Presteigne, giving them full coverage of the stage area and artists\\' green room for the showpiece event. 3 Presteigne play an essential role in the Red Bull Air Race, which competes around the world in eight countries, providing their flyaway high definition broadcast systems. From the Mojave Desert in the USA to Barcelona in Spain, the Air Race provides interesting broadcasting challenges in stunning international locations. 4 Presteigne supported many live acts in both audio and visual capacities at the Live Earth Concert held in Wembley Stadium, London. 5 Fountain Studios provides the UK\\'s largest, fully equipped, television studio, combined with an outstanding operational team and first class support services. Millions of people watch programmes produced and broadcast from Fountain Studios, where programme makers are offered a personal and professional environment to create their shows. 6 Presteigne provided a fully managed service with full technical engineering and all equipment for high definition picture capture for the series Live at Abbey Road. The part series of one hour shows featured artists performing live in the Abbey Road Studios. AVESCO GROUP PLC ANNUAL REPORT EXHIBITING INFLUENCE CORPORATE SECTOR Our consistent level of achievement in the corporate presentation and exhibition markets has brought about our reputation to deliver. We aim to meet and exceed our clients\\' every expectation. AVESCO GROUP PLC ANNUAL REPORT We can provide the latest equipment and technology, help and support to ensure our clients\\' events are both memorable and successful, whether it is a desktop projector for a boardroom meeting or a complete vision, sound and lighting solution for a major international event. The Annual Entrepreneurial Exchange Awards & Dinner held in Glasgow was hailed as the best black tie gathering of the Scottish corporate calender when the team at MCL Edinburgh delivered a stunning widescreen backdrop for this event. 2 CT North America have a huge presence at the International Consumer Electronics Show (CES) in Las Vegas, Nevada providing stands for electronic majors such as Casio. 3 New innovation `NOVA\\' is the very first `real 3D\\' LED design animated by user-defined video or graphics sequences that can be presented at an angle of °. CT Germany has teamed up with the inventers of the product for the production and exclusive distribution for worldwide rental of NOVA. 4 CTNA is currently contracted as the audio visual staging provider for all of Herbalife\\'s international events. CTNA have recently worked on events in Lisbon, Korea, Mexico City, Athens, Shanghai and Singapore. 5 The BBC\\'s Ruby Awards, a celebration of news and current affairs throughout the BBC\\'s Nations and Regions, called upon MCL Manchester to help stage the ceremony. MCL used the Vista Spyder system to produce a stunning x projected image, running from three seamlessly blended Panasonic PTD ,000s to create a stunning result. 6 The Media and Business Summit is an annual trade show for the computer and video games industry presented by the Entertainment Software Association. CT North America provided audio visual solutions for the Nintendo Press Event held in California. AVESCO GROUP PLC ANNUAL REPORT FINANCIAL REVIEW JOHN CHRISTMAS The year has been one of significant change, containing events and transactions that have notably shaped the Company and directly affected results. The year ended was one of the most important in the Company\\'s history, containing a number of events that have significantly affected the Group\\'s results. These events, which are considered further below, were as follows; > On the Company, then known as InvestinMedia plc, sold its shareholding in Complete Communications Corporation Ltd (\"Complete\") to 2waytraffic N.V. (\"2WT\"); > On the Company completed its acquisition of Avesco plc, changed its name from InvestinMedia plc to Avesco Group plc and made significant changes to the Board; > On Medal Entertainment & Media plc (\"MEM\"), in which the Company owned a interest, announced that its shares were being suspended from trading on AIM and the appointment of administrators was being sought. DISPOSAL OF COMPLETE The key terms of the disposal of Complete in December were as follows: > Initial cash consideration of was received from 2WT, of which was used to repay borrowings; > of consideration was in accordance with the terms of the sale agreement used to subscribe for new shares in 2WT; > A further of consideration is held in an escrow account as security against potential warranty and indemnity claims by 2WT in respect of the transaction. Subject to deduction in respect of any such claims, these funds are due to be released in equal tranches on April and ; > An additional payment of in respect of the net assets of Complete as at completion, which amount was agreed and paid in September ; and > An entitlement to further payments from 2WT, comprising a share of the net receipts, if any and after costs, from the litigation commenced by a subsidiary company of Complete against The Walt Disney Company and certain related companies in the courts of California. The trial is expected to commence in The Company has received advice that if a substantial part of the proceeds from the disposal of Complete were used for the acquisition of a trading business, such as the acquisition of Avesco plc, the Company will continue to be treated as a holding company of a trading group, in which case it is likely that the gain arising on the disposal of Complete should not be subject to corporation tax, which would otherwise be chargeable at per cent. It has therefore been assumed that no tax will be payable on this gain. Since the completion of the disposal of Complete, a few matters have been identified which will result in deductions from the escrow funds although in total these are not considered to be material. However, there can be no guarantee that there will not be other deductions, either because new claims may arise or existing estimates of claims may prove to be inadequate. Nevertheless, based on the existing estimates, we have been able to record a profit in these accounts of in respect of the Complete disposal, as well as a further being the Group\\'s share of the profit made by Complete when it sold some of its own subsidiaries just prior to its own sale to 2WT. AVESCO GROUP PLC ANNUAL REPORT The shares in 2WT, which the Company had acquired pursuant to the terms of the sale of Complete, were subject to a contractual lock-in, which expired at the end of September The Company decided to realise the investment at the first opportunity and the shares were sold for in September producing a loss on investment of ACQUISITION OF AVESCO PLC The acquisition of Avesco plc on resulted in the issue of new ordinary shares of each (making a total of in issue) and a total cash consideration of Fees and other payments in connection with the transaction brought total costs up to Based on the Company\\'s share price at the time of the total consideration for the acquisition was including costs. The net assets of Avesco plc on were resulting in the creation of negative goodwill of m. This sum has been left on the balance sheet as a credit balance, to be amortised over years. It is expected that the acquisition of Avesco plc and its subsidiary companies will enable the Company to continue to be treated as a holding company of a trading group so that the gain arising on the disposal of Complete should not be subject to corporation tax and these accounts have been prepared on this basis. The Avesco plc companies, together with Fountain Studios which was acquired in September now form the Group\\'s trading core. It was for this reason that the name of the Company was changed to Avesco Group plc. Now that the balance sheet of the Group, strengthened by the Complete disposal, has been allied to some exciting audio visual services businesses, the Group should be well placed for significant growth over the coming years. MEM Within weeks of the Avesco plc merger MEM experienced cash flow difficulties and subsequently went into administration. The Group\\'s interest in MEM was in the books at and this investment has been written off in its entirety. RESULTS OVERVIEW As a consequence of the various transactions outlined above, the results for the months to include: > The results of Fountain Studios for the full year, which produced an operating profit of ; > The Group\\'s share of Complete\\'s results between and its disposal on (an operating profit before exceptional items of prior to an operating exceptional loss of m, the latter due mainly to litigation expenses); > A gain of was made on our share of the profit on the disposal of certain subsidiaries of Complete and on the disposal of Complete itself ; > The Group\\'s share of MEM\\'s results between and when MEM ceased trading, comprising an operating profit before exceptional items of an operating exceptional loss (mainly in respect of reorganisation expenses) of m, together with a further exceptional loss of m relating to the write off of the Group\\'s investment in MEM; and > The results of the businesses of Avesco plc and its subsidiaries from the date of acquisition on May until being an operating profit of Both Complete and MEM were treated as Associate Undertakings for accounting purposes. PERFORMANCE > CT saw a growth in revenue compared to the same period in the previous year. Margins grew slightly to benefiting operating results, which since acquisition amounted to a loss of m, although this is after the initial trading loss in the new Dubai office of m. > Full Service saw steady margins in the June to September period of around and revenue growth of %. AVESCO GROUP PLC ANNUAL REPORT FINANCIAL REVIEW CONTINUED Now the balance sheet of the Group has been allied to some exciting audio visual services businesses, the Group should be well placed for significant growth over the coming years. RESULTS Turnover for the year was : ), excluding the Group\\'s share of Associate\\'s turnover of : ), producing an operating profit before operating exceptional items and goodwill amortisation of : ). Exceptional costs/gains amounted to : nil) and goodwill amortisation amounted to a credit of : nil). After taking account of interest income of : ), the profit on ordinary activities before taxation was : ). Basic earnings per share were : ), and : ) on a diluted basis. DEVELOPMENT AND PERFORMANCE The operating results (i.e. excluding exceptional costs/gains and goodwill amortisation), are considered to provide a more accurate reflection of the way in which the underlying businesses are performing and are, therefore, one of the main areas of focus for the Board. However, due to the significant changes that have occurred in the composition of the Group during the year ended these results contain very little that can be effectively compared year on year. Fountain Studios is the only business that has been owned throughout the year but even that was only acquired in September so the published comparative is unrepresentative. The summer is traditionally a quieter part of the year for audio visual service businesses. With the Avesco businesses only being acquired in May, this fact is reflected in the Group\\'s results. Over the four full calendar months since the completion of the Avesco transaction, CT saw a growth in revenue compared to the same period in the previous year. Margins grew slightly to benefiting operating results, which since acquisition amounted to a loss of m, although this is after the initial trading loss in the new Dubai office of m. The Full Service Division on the other hand saw steady margins in the June to September period of around and revenue growth of but operating results were left in line with those for the same period last year due to the increased costs associated with opening of the MCL London operation and the introduction of the new IT service in the south of France. Operating profits since acquisition amounted to a little above breakeven. In the Broadcast Services Division, Fountain Studios had a strong year with high levels of activity, including The X Factor, Britain\\'s Got Talent, Grease and Little Miss Jocelyn, which helped drive a increase in revenue compared to the previous months. The absence of the major events, which tend to occur in even years, has seen a slight reduction in revenue for Presteigne this summer which has impacted the four full calendar months since the acquisition. The start up costs of Presteigne\\'s new operation in Holland have also affected its results. Overall operating profits for the year in the Broadcast Services Division were The pre-exceptional operating profits of of Complete for the month period until its disposal in December ( for months) and of of MEM for the months until it went into administration in July ( ( m loss for months) were satisfactory in the circumstances, although the subsequent administrative receivership of MEM rendered their operating results somewhat academic. The Group\\'s continued investment in improved IT systems will enable the further development of other non-financial metrics. AVESCO GROUP PLC ANNUAL REPORT CAPITAL EXPENDITURE It remains important to invest in new equipment and technology in order to maintain the development of the Group and to meet the rapidly evolving needs of our clients. During the year the Group invested in upgraded facilities at Fountain and during the ½ months that the Avesco plc companies have been part of the Group a further has been paid in respect of other audio visual related equipment. The Board\\'s underlying philosophy is that in normal years capital expenditure should be at such a level as to leave the Group cash positive. However, part of the rationale for the acquisition of Avesco plc was to utilise the pre-acquisition balance sheet strength of the Company to allow the Avesco plc businesses to develop more quickly than they would have been able to achieve on their own. Consequently, unless market conditions dictate otherwise, capital expenditure may exceed cash generation in the initial period following the acquisition. FINANCIAL POSITION AT THE YEAR END AND SHARE BUY BACK The Group remains in a healthy financial position going into As at gearing was %. Whilst this ratio will increase as we seek to accelerate the growth of our businesses, it will remain an area of close focus for the Board and will be tightly controlled. The Group remains comfortably within its banking facilities, with a new year loan facility put in place in October Since the year end the Board decided to use some of the funds realised from the sale of the shares in 2WT to buy back ordinary shares of each in Avesco Group plc, and to hold them in treasury. These were purchased on at per share. There are now shares held in treasury, leaving the total number of voting rights in the Company currently at TAXATION Having taken advice, the Board believes that the acquisition of Avesco plc allows us not to record a tax liability in the year ended in connection with the sale of Complete. We also have the benefit of past trading losses in some territories and continue to invest in new equipment such that capital allowances enable taxes on trading results to be kept low. The continuing profitability and reliability of the results of our trading businesses allow us to record a deferred tax asset on the balance sheet at the year end amounting to This has been derived from the expected utilisation of tax losses in the future. We have also recognised a deferred tax liability of in respect of accelerated capital allowances in the Broadcast Services Division. GOODWILL The acquisition of Avesco plc gave rise to negative goodwill of m. This situation may have arisen principally due to the Company\\'s share price at the time of the acquisition probably factoring in a substantial tax payment due on the sale of Complete, whereas it is expected that this payment has now been obviated by the Avesco transaction. We have also taken the opportunity to revisit the goodwill in respect of the Fountain Studios\\' acquisition that was completed in September immediately prior to the previous balance sheet date. An independent valuation of the assets there has now been completed resulting in a adjustment to the fair value of Fountain Studios\\' fixed assets, leaving a final goodwill on acquisition balance of PERFORMANCE AND DEVELOPMENT > In the Broadcast Services Division, Fountain Studios had a strong year with high levels of activity, including The X Factor, Britain\\'s Got Talent, Grease and Little Miss Jocelyn, which helped drive a increase in revenue compared to the previous months. > The Group\\'s continued investment in improved IT systems will enable the further development of other non-financial metrics. AVESCO GROUP PLC ANNUAL REPORT FINANCIAL REVIEW CONTINUED Avesco\\'s reputation, in terms of the service we provide, the way in which we conduct our business and the financial results which we achieve, is central to our future success The acquisition of the remaining minority stake in CT Germany, which was effective as of has also resulted in goodwill of BUSINESS RISKS Avesco\\'s business is subject to many different risk factors, which will have varying degrees of significance at any particular time. Although not an exhaustive list, management consider the most important risks and uncertainties to the business to be as follows: Economic and business cycle: The Group\\'s customers are principally corporates whose expenditure on services provided by the Group may be discretionary in nature and may therefore be affected by changes in the economic and business cycle. Avesco has sought to minimise the effect of any future economic slowdown by seeking, wherever practicable, to match major items of capital expenditure to the requirements of our largest clients, and by limiting infrastructure obligations and other capital commitments to a level appropriate to the foreseeable needs of the business, after taking account of market trends and developments. Reputation: Avesco\\'s reputation, in terms of the service we provide, the way in which we conduct our business and the financial results which we achieve, is central to our future success. Failure to meet the expectations of our clients, suppliers, employees, shareholders and other business partners may have a material adverse effect on the Group. We therefore place a strong emphasis on the quality of our service, we invest in staff training, especially in the area of health and safety, and we operate systems of risk management and internal control. Dependence on key personnel: The Group\\'s future success will be dependent on key employees and their on-going relationships with clients and suppliers. It is believed that the Group is of a size that no one individual represents a significant risk to the Group. The Group also encourages client or supplier contacts to be maintained by more than one individual. Key staff are incentivised through a mixture of sales commission, profit related bonuses and participation in the Group LTIP scheme. Main Board Directors are incentivised as detailed in the Directors\\' Remuneration Report. Technological changes: Advances in technology may bring about a significant reduction in demand for certain equipment, which will eventually become obsolete. However, the Group has an on-going hire stock replacement programme, regularly buying new equipment and selling old equipment. In addition, the range of markets in which Avesco operates allows certain equipment to be recycled for use elsewhere in the Group. Competition: Competition in the provision of services to the corporate presentation, entertainment and broadcast markets may increase significantly and this may limit the ability of the Group to maintain market share or revenue levels. Some competitors may have greater access to financial resources than the Avesco Group. Although Avesco does aim to be competitive in its pricing, the Group may decline work where it is unable to make an adequate margin or where the services or equipment required are not appropriate to the Group\\'s available resources. Reliance on third party technology: Hardware and software acquired by the Group for its key activities may not operate in accordance with its specification. However, the Group generally purchases only from approved suppliers and with the benefit of relevant warranties. AVESCO GROUP PLC ANNUAL REPORT Equipment failure or loss: The Group\\'s hire stock comprises complex, high value equipment which is subject to the risks of electronic or mechanical failure as well as physical loss, damage or theft. The Group endeavours to minimise these risks through rigorous quality control measures, security precautions and insurance cover. The geographical spread of the Group\\'s businesses further reduces the potential risk which might arise from any one loss or failure. Future funding: Avesco\\'s capital requirements will depend on numerous factors, including its ability to operate successfully to its business model. If capital requirements vary materially from its plans, Avesco may require further financing in addition to its existing bank facilities sooner than anticipated. However, in order to minimise this risk, Avesco endeavours to build in contingencies to its financial forecasting. In addition, the Group will often have the ability to re-direct cash inflow intended for capital expenditure to other uses. Exposure to counterparty credit risk: It is believed that no one client represents a material risk to Avesco. However, where there may be a credit concern or where significant up front costs will be incurred in relation to a client\\'s event, the Group will endeavour to obtain a deposit or other security for payment. Counterparty risk with financial institutions: The Group\\'s policy is to maintain a range of types of borrowing facilities from a number of major financial institutions. Effect of foreign currency: In respect of foreign currency transactions, the Group in general does not hedge the foreign currency risk arising from sales by an operation denominated in a currency other than its functional currency. In the majority of cases, substantial deposits on such sales are received at the time of the order and the remaining balances are, to a large extent, matched by overseas costs. The exceptions to this policy are generally related to the purchase of tangible assets or other large one-off transactions where the currency risk is usually hedged using forward foreign exchange contracts. In respect of the translation of foreign currency assets, the Group endeavours to match the majority of the foreign currency asset value by funding overseas operations through borrowings or loans denominated in the overseas currency. INTERNATIONAL FINANCIAL REPORTING STANDARDS Our next set of financial statements (the interims due next summer) will be prepared under International Financial Reporting Standards and will include a reconciliation to the UK GAAP statements. Whilst work in this area is still continuing, our current expectation is that there will be no major adjustments to the trading results. Similarly, although the treatment of acquisitions, goodwill and intangibles will be somewhat different, the net effect on the profit and loss account is not expected to be significant. REPUTATION > Avesco\\'s reputation, in terms of the service we provide, the way in which we conduct our business and the financial results which we achieve, is central to our future success. > We therefore place a strong emphasis on the quality of our service, we invest in staff training, especially in the area of health and safety, and we operate systems of risk management and internal control. JOHN CHRISTMAS FINANCE DIRECTOR AVESCO GROUP PLC ANNUAL REPORT BOARD OF DIRECTORS FOCUSED Investment at a significant level in equipment, technology and people maintains the development of the Avesco Group and meets the rapidly evolving needs of our clients. AVESCO GROUP PLC ANNUAL REPORT ADVISORS MICHAEL GIBBINS LVO FCA JP NON-EXECUTIVE CHAIRMAN (A, R) 1 Aged Joined Avesco plc as a non-executive Director in and the Board in As Chairman, he is responsible for the functioning of the Board and its committees. Previously he worked for KPMG for years. From to he was Comptroller to Diana, Princess of Wales. From until December he was Finance Director, then Chief Operating Officer of Singer & Friedlander Group PLC. RICHARD MURRAY NON-EXECUTIVE DEPUTY CHAIRMAN 2 Aged Founded Avesco Group and floated it in prior to its introduction to the Official List of the London Stock Exchange in He is Chairman of Charlton Athletic plc and a Director of The Welsh Industrial Investment Trust plc. IAN MARTIN CHIEF EXECUTIVE Aged Joined the Board of Avesco in as a non-executive Director, transferred to Avesco plc in as executive Chairman and re-joined the Board in as Chief Executive. He has overall executive responsibility for the Group and its stategic development. He is a non-executive Director of Forest Support Services plc, Chelverton Asset Management Limited and Ascot Underwriting Ltd and was previously Managing Director of Brockbank Group Plc, an insurance company operating in the Lloyds market. JOHN CHRISTMAS ACA FINANCE DIRECTOR Aged Joined Avesco plc in March as Finance Director and the Board in He was Group Finance Director at Boosey & Hawkes plc and previously held positions as Group Finance Director at MediaKey plc and Video Arts Limited. GRAHAM ANDREWS EXECUTIVE DIRECTOR Aged Joined Avesco in and was appointed to the Board in He transferred to the Board of Avesco plc in and re-joined the Board in He has primary responsibility for Creative Technology which he established in He has years\\' experience in the live events industry. DAVID NICHOLSON EXECUTIVE DIRECTOR Aged Joined the Board of Avesco Group in transferred to the board of Avesco plc in as Chief Executive and re-joined the Board in He has primary responsibility for the Group\\'s broadcast hire and full services businesses. He previously held senior management positions at Rentokil Group plc and Aspen Communications plc. LAURENCE BLACKALL NON-EXECUTIVE DIRECTOR (A, R) 7 Aged Joined Avesco plc as a non-executive Director in and the Board in He is a non-executive Director of Pipex Communications plc and was CEO of Internet Technology Group plc from its flotation in until its sale, which he oversaw in Previously, he spent years in publishing, holding senior positions with Frost & Sullivan and McGraw-Hill. He is a former Chairman of the Internet Service Providers Association. CAMERON MAXWELL, FCA NON-EXECUTIVE DIRECTOR (A, R) 8 Aged Joined the Board in and was non-executive Director of Complete Communications Corporation Limited until December He was Finance Director of Avesco until and then a non-executive Director until He became Chief Executive on the demerger of Avesco plc in and then reverted to a non-executive role on completion of the Avesco plc acqisition in He is a member of the Council of the Institute of Chartered Accountants in England and Wales. A Audit Committee R Remuneration Committee COMPANY SECRETARY AND REGISTERED OFFICE NICHOLAS CONN LLB Unit Sussex Manor Business Park Gatwick Road Crawley West Sussex RH10 9NH Tel + Fax + Email  Web Registered number REGISTRARS AND TRANSFER OFFICE CAPITA REGISTRARS Northern House Woodsome Park Fenay Bridge Huddersfield West Yorkshire HD8 0LA Tel + (from outside the UK) Email  Web FINANCIAL ADVISORS AND JOINT STOCKBROKERS J.M.FINN CAPITAL MARKETS LTD. 4 Coleman Street London EC2R 5TA Tel + Web JOINT STOCKBROKERS KBC PEEL HUNT LIMITED Old Broad Street London EC2N 1PH Tel + Web FINANCIAL PRESS RELATIONS WEBER SHANDWICK FINANCIAL Fox Court Gray\\'s Inn Road London WC1X 8WS Tel + Web AUDITORS PRICEWATERHOUSECOOPERS LLP First Point Buckingham Gate Gatwick West Sussex RH6 0PP SOLICITORS NORTON ROSE LLP More London Riverside London SE1 2AQ PRINCIPAL BANKER HSBC BANK AVESCO GROUP PLC ANNUAL REPORT DIRECTORS\\' REPORT The Directors have pleasure in presenting their report and the financial statements for the year ended Change of Name On the Company changed its name from InvestinMedia plc to Avesco Group plc. Principal activities, review of the business and future developments The Group\\'s principal activity during the year was the provision of services to the corporate presentation, entertainment and broadcast markets and the management of investments. On the Company completed the sale of its investment in the share capital of Complete Communications Corporation Limited. On the Company acquired the entire issued share capital of Avesco plc through a recommended merger in consideration of the issue of ordinary shares of each of the Company and payment of an aggregate cash sum to shareholders of Avesco plc of The Chairman\\'s statement on pages to the Review of Operations on pages to and the Financial Review on pages to give further information regarding the performance and prospects of the business and the business risks therein. Dividends The Directors recommend payment of a final dividend for the year ended of pence per ordinary share to be paid on to shareholders on the Register on making a total dividend for the year of pence per ordinary share : pence per ordinary share). The shares will be quoted ex dividend from Excluding goodwill amortisation, the total proposed dividend for the year is covered times by earnings. Share issues On the authorised share capital of the Company was increased to divided into ordinary shares of each by the creation of ordinary shares of each. On the Company issued ordinary shares of each at a price of per share in connection with the acquisition of Avesco plc. No other shares were issued during the year. On the Company purchased ordinary shares of Avesco Group plc at a price of per share pursuant to the authority, given at the Extraordinary General Meeting of the Company held on These shares are held in treasury and in total, as at the Company holds ordinary shares in treasury, representing of the issued share capital. The existing authority for the Company to make purchases of its own shares is due to expire on the date of the forthcoming Annual General Meeting, when a resolution for its renewal will be proposed to shareholders. Directors Details of the current Directors are given on page Mr Murray\\'s full surname is Murray-Obodynski but he is referred to in the annual report by the name under which he is generally known in the industry. Alfred Stirling, who was a non-executive director, resigned from the Board on on completion of the acquisition of Avesco plc. In accordance with the Articles of Association of the Company, Mr Murray retires by rotation and offers himself for re-election at the Annual General Meeting. The Articles of Association of the Company also require that any new Director appointed to the Board shall retire at the next Annual General Meeting when that Director becomes eligible for re-election by the shareholders. Each of Mr Andrews, Mr Blackall, Mr Christmas, Mr Gibbins, Mr Martin and Mr Nicholson, who were appointed to the Board during the year, will retire at the forthcoming Annual General Meeting of the Company and will offer himself for re-election. Substantial interests At the Company had been notified or was aware of the following holdings of or more of the total voting rights of the Company: Shareholder Ordinary shares Percentage of voting rights RA Murray JP Morgan Asset Management (UK) Ltd Unicorn Asset Management J O Hambro Capital Management Ltd P. Smith and S. Keen Chelverton Asset Management Ltd Ingalis & Snyder LLC % % % The holding of Unicorn Asset Management includes the shareholding of Eaglet Investment Trust PLC of ordinary shares, representing of the total voting rights of the Company. Going concern The Directors believe, after making appropriate enquiries, that the Group has adequate resources to continue in operation for the foreseeable future. For this reason they continue to adopt the going concern basis in preparing the financial statements. Payment policy to suppliers The Group does not follow a published code on payment practice but has standard terms and conditions of purchase based on which it agrees terms and conditions for its business transactions with suppliers. It is our policy that, subject to the terms and conditions being met by the supplier, payment is made on those terms. The Company did not have any outstanding trade creditors at AVESCO GROUP PLC ANNUAL REPORT Employee involvement The Board recognises the crucial role which quality, motivated employees play in the success of the Group. Employee involvement at all levels is encouraged. Employees receive a regular staff newsletter and are kept informed of financial and other developments around the Group through a series of presentations by senior management. Certain employees are able to share in the success of the Group through participation in the Company\\'s Long Term Incentive Plan and other incentive arrangements. It is the policy of the Group to recruit, develop and promote people on merit and to treat everyone equally regardless of their race, colour, ethnic origin or nationality, age, gender, marital status, sexual orientation, disability, religion or belief. The Group gives full consideration to the possibility of employing disabled persons wherever such opportunities exist. Those employees who become disabled are given the opportunity and assistance to continue in their employment or to be trained for other, more suitable positions. Environmental Although the Group does not have a formal environmental policy, the Group does recognise the importance of environmental responsibility. The Group believes that its activities have a low impact on the environment. Political and charitable contributions No contributions for charitable or political purposes were made during the year : nil) by the Group. Annual General Meeting Notice of the Annual General Meeting, together with explanatory notes, is set out on pages to Auditors Baker Tilly UK Audit LLP resigned as auditors of the Company with effect from and PricewaterhouseCoopers LLP were appointed to fill the casual vacancy. Shareholders\\' consent is sought to Resolutions and set out in the Notice of Annual General Meeting which propose the reappointment of PricewaterhouseCoopers LLP as independent auditors of the Company and to authorise the Directors to determine the auditors\\' remuneration. By order of the Board Nicholas Conn Company Secretary AVESCO GROUP PLC ANNUAL REPORT DIRECTORS\\' REMUNERATION REPORT As an AIM listed company, the Company is not required to comply with the Directors\\' Remuneration Report Regulations Nevertheless, the Board prefers to follow best practice and has therefore prepared the following report, which meets the majority of these regulations and which will be put to shareholders for approval at the Annual General Meeting. This part of the Directors\\' remuneration report is unaudited. Remuneration committee Prior to the Company did not have a separate remuneration committee in view of the then small size of the Board. On the date on which the Company acquired Avesco plc, Mr Gibbins, Mr Murray, Mr Blackall and Mr Maxwell, who are all non executive Directors, were appointed to the remuneration committee and have served throughout the remainder of the year. The remuneration committee has not sought professional advice from external consultants during the year. However, the remuneration committee consults with the Chief Executive, as it considers appropriate, in relation to its proposals relating to the remuneration of the executive Directors. Remuneration policy The remuneration committee makes recommendations to the Board on the executive remuneration policy and determines specific remuneration packages for each of the executive Directors. The aim of the remuneration committee is to provide total remuneration packages which attract, retain and motivate executive Directors of the appropriate calibre. The remuneration policy is to reward excellent performance, to be commercially competitive and to align the interests of employees with those of shareholders to create value. This report sets out the Company\\'s policy on executive remuneration, its operation in the year and (although the remuneration committee is unable to confirm that the policy will continue without amendment in future years) how it is intended to be operated going forwards. It is considered that a successful policy should retain sufficient flexibility to allow account to be taken of future changes in the business environment and remuneration practice. The policy should also allow for any special arrangements which may be necessary in the future in order to recruit a director of sufficient calibre. However, any changes in the policy for future years will be described in future reports, which will be subject to shareholder approval. The principal elements of the remuneration package are as follows: Basic salary and benefits The salary of each executive Director is reviewed annually having regard to his individual responsibilities and contribution and to ensure that it is competitive with salaries of persons in equivalent positions in comparable companies. All executive Directors receive a Company car and fuel benefit (or an allowance in lieu) and are entitled to pension contributions, medical insurance cover, life assurance cover and permanent health insurance cover. Annual bonus Each of the executive Directors is entitled to a non-pensionable annual bonus which is dependent upon the achievement of short-term corporate and personal performance targets approved by the remuneration committee. The annual bonus may not exceed of basic salary. In respect of each of the year ended and the year ending the annual bonus is based on a range of personal, divisional or Group performance targets, which will differ between Directors according to their respective responsibilities and which will be measured against and conditional upon achievement of the Company\\'s internal budgets for the year. Long term incentives The Company operates an executive share option scheme (\"Option Scheme\"), which was established in and a long term incentive plan (\"LTIP\"), which was established following the acquisition of Avesco plc in (see Note in these Accounts for further details). Under the Option Scheme, which is a HM Revenue and Customs unapproved scheme, the Company granted options to its then directors in respect of a total of ordinary shares. The options are exercisable at a price of per share between and The right to exercise these options was subject to a performance condition that has now been satisfied. No further grants of options may be made under the Option Scheme. Under the LTIP, awards are made to employees under which they can receive Avesco shares at no cost to themselves based on the achievement of a pre-determined and stretching performance condition. It is intended that vested allocations will be satisfied in due course by delivery through an employee trust. No individual may receive awards in any financial year with an aggregate value at the time of grant in excess of of the employee\\'s annual basic salary although this limit may increase to of the employee\\'s basic annual salary if the remuneration committee decides that exceptional circumstances exist. No awards may be made under the LTIP more than years after its adoption. The rules of the LTIP provide that in any year period no more than of Avesco\\'s issued share capital from time to time may be issued or subject to an award or option to be issued for the purposes of the LTIP or any other employees\\' share scheme. The limit takes account of the fact that options have been granted under the Option Scheme in respect of of the issued share capital to persons who no longer perform an executive role in the Company. Accordingly, less than of the issued share capital is available for the issue of awards to executives under the LTIP. The performance condition applicable to the first awards of rights to shares made under the LTIP is that a cumulative adjusted earnings per share of at least is achieved over the three years ending The remuneration committee has discretion to adjust the earnings per share in relation to exceptional and/or non-recurring events. Subject to the rules of the LTIP and the fulfilment of the performance condition, of the shares will be released after the preliminary announcement of the results of the Company for the year ending and, subject to continuing service of the award holder, the remaining of the shares will be released on the first anniversary of that announcement date or, if later, the date of announcement by the Company of its results for the period ending It is intended that further awards will be made under the LTIP in the next months subject to the rules of the LTIP and the fulfilment of similar performance and vesting conditions as for the previous awards. Pensions Pension contributions relating to the executive Directors of the Company are paid to defined contribution arrangements and are calculated by reference to basic salary only. Annual bonuses and other benefits are not pensionable. Contracts Except as noted below, the service contracts of the executive Directors are subject to a twelve months\\' notice period by either party. It is the policy of the remuneration committee that the Company should not enter into contracts for any executive Director with rolling notice periods exceeding one year for any executive Director. The contracts of the executive Directors provide that, in the event of their termination in certain circumstances in the months following a change of control of the Company, the Director shall be entitled to a severance payment not exceeding the sum of months\\' emoluments less emoluments received since the change of control. The severance payment is triggered only in the event of termination of the Director (other than for gross misconduct) by the Company or in the event of the Company committing a material breach or making a material change to the Director\\'s detriment in the terms and conditions of the Director\\'s employment or assigning to him duties inconsistent with the position held prior to the change of control. The remuneration committee consider such a provision appropriate in order to retain the services of key executives in the event of a change of control occurring and in order to ensure an orderly transfer to an acquirer. AVESCO GROUP PLC ANNUAL REPORT Non executive Directors The remuneration of the non executive Directors is subject to a maximum aggregate limit agreed by the shareholders and set out in the articles of association. Within this limit, the remuneration of the non executive Directors is determined by the Board as a whole although no non executive Director is present when his own fees are under discussion. Mr Maxwell and Mr Murray each hold options under the Option Scheme granted to them at a time when they held executive office with the Company. Subject to those grants, the non executive Directors do not participate in the share option schemes and do not receive any pension contributions or other benefits. Each of the non executive Directors has a service contract with the Company, which is capable of termination on not less than three months\\' notice. Audited information Directors\\' emoluments The emoluments of the Directors of the Company were: Fees / Salary Bonus Other Benefits Subtotal Subtotal Pension Pension Total Total Executive Directors IP Martin GP Andrews JL Christmas DJ Nicholson - - 8 - - - - Non-executive Directors LCN Blackall MES Gibbins CA Maxwell RA Murray 9 - 9 - 9 - - - - - - - Former Director AP Stirling 6 - - Total Note: 1 Appointed on 2 The fees of Mr Maxwell, Mr Murray and Mr Stirling were each paid to a company connected with that director. 3 Mr Maxwell was Chief Executive until when he reverted to a non-executive role. The Company made contributions to defined contribution pension arrangements in respect of four : nil) Directors. Directors\\' interests The number of shares in which the Directors had a beneficial interest as defined by the Companies Act including awards made under the LTIP and executive share option scheme, was as follows: At At Ordinary shares Options over ordinary shares LTIP awards over ordinary shares Ordinary shares Options over LTIP awards over ordinary shares ordinary shares Executive Directors IP Martin GP Andrews JL Christmas DJ Nicholson Non-executive Directors LNC Blackall MES Gibbins CA Maxwell RA Murray Former Director AP Stirling - - - - - - - - - - - - - - - - Note: 1 Since Mr Gibbins has purchased an additional ordinary shares giving him a total holding of ordinary shares. There have been no other changes in Directors\\' shareholdings since that date. 2 Mr Stirling holds options in respect of ordinary shares, which were granted under the Option Scheme and are capable of exercise at any time on or before None of the Directors had any non-beneficial interest in the Company\\'s shares. No awards to any Director under the LTIP vested or lapsed during the year. No options under the Option Scheme were granted to or exercised by any Director during the year. The closing share price on was and the high and low prices during the period from to inclusive were and respectively. By order of the Board Michael Gibbins Chairman of the Remuneration Committee AVESCO GROUP PLC ANNUAL REPORT CORPORATE GOVERNANCE REPORT This corporate governance report sets out how the principles identified in the Combined Code have been applied by the Company in the period. Although, as an AIM listed company, the Company is not required to comply with the Combined Code, the Directors regard compliance as a benchmark of best practice, which they wish to follow wherever relevant and not disproportionate having regard to the size of the Group. Statement of compliance The Board considers that the Company has complied substantially with the provisions of the Combined Code during the period and subsequently until the date of this report. The Board The Board comprises the Directors listed on page On Mr Andrews, Mr Blackall, Mr Christmas, Mr Gibbins, Mr Martin and Mr Nicholson, who were each directors of Avesco plc, were appointed to the Board and Mr Stirling resigned as a Director. On the same date, Mr Conn was appointed as Company Secretary in place of Watlington Securities Limited. There is a non-executive Chairman, a Chief Executive Officer and a senior independent Director. Mr Gibbins, who is the Chairman, and Mr Blackall, who is the senior independent Director, are both considered to be independent of management. Mr Murray and Mr Maxwell, who are also non-executive Directors, are not considered to be independent in view of their previous involvement in an executive capacity with the Group. The Board is scheduled to meet at least four times each year, in addition to which meetings will also be convened on an ad hoc basis if there is urgent or delegated business which cannot wait until the next scheduled meeting of the full Board. The following table sets out details of the number of meetings of the Board (excluding ad hoc meetings) and of the audit and remuneration committees during the year and the attendance at those meetings: Director Total Number of meetings IP Martin GP Andrews JL Christmas DJ Nicholson MES Gibbins LNC Blackall CA Maxwell RA Murray Since appointment on Board Audit Remuneration The Board considers the overall strategic direction, development and control of the Group and reviews the financial and operational performance. Various major decisions require Board approval, including the approval of the annual budget, larger capital expenditure proposals, acquisitions and disposals. Board papers, which are sent out in advance of each meeting, include a set agenda although further subjects are added for discussion as the need arises. The executive Directors meet formally as a management team, usually on a monthly basis. These executive management meetings consider and review the operational and financial management and performance of the Group, receive reports from the key managers in respect of their respective areas of responsibility, discuss significant issues and determine any appropriate action to be taken. The Chairman and the Chief Executive have clearly established responsibilities although these have not been defined in writing. In addition to chairing the Board and the audit and remuneration committees, the Chairman is responsible for ensuring that the Board is kept properly informed and is consulted on all issues reserved to it. The Chairman consults with the non executive Directors on corporate governance issues, communicates the views of the shareholders to the Board and ensures a constructive relationship between the executive and non-executive members of the Board. The Chief Executive has final executive responsibility to the Board for the success of the Group. The Board has access to the advice and services of the Company Secretary and there is a written procedure for obtaining independent legal advice at the Company\\'s expense. The non-executive directors review the performance of the executive Directors, including the Chairman. No formal performance evaluation of the non-executive Directors or of the Board committees has been conducted. On appointment, new Directors take part in an induction programme when they receive information about the Group, the role of the Board and the Board committees, the Company\\'s corporate governance practices and procedures, and the latest financial information about the Group. They are also advised of their legal duties as a director of a public company. Visits are arranged to Group locations together with meetings with senior executives. The articles of association of the Company require Directors to submit themselves for re-election at the first Annual General Meeting following appointment and then every three years. Audit committee The audit committee was appointed on and now comprises Mr Gibbins, Mr Blackall and Mr Maxwell. Mr Gibbins is the current chairman of the audit committee. Mr Murray was a member of the audit committee from to when he stepped down. The audit committee reviews the Group\\'s annual report, financial statements, interim statement and preliminary announcements before recommending their approval to the Board. This process involves meeting with the external auditors to discuss issues relating to the audit and financial control of the Group. The audit committee also reviews the Company\\'s internal financial controls and risk management systems, the scope of the audit and the independence and objectivity of the auditors. The auditors have direct access, should they so require, to the chairman of the audit committee. AVESCO GROUP PLC ANNUAL REPORT Nomination committee The Company does not have a nomination committee. Any appointments to the Board would be considered by the Board as a whole. In considering the appointment of a new Director, the Board considers and defines the characteristics, qualities, skills and experience that it considers would complement the overall balance and composition of the Board. The committee may appoint an external consultant to help in the identification and recruitment of an individual who satisfies the committee\\'s criteria, unless the Board is already able to identify an appropriate individual. Directors\\' indemnities The Company has purchased insurance to cover its Directors and officers against the costs of defending themselves in legal proceedings taken against them in that capacity and in respect of any damages resulting from those proceedings. The insurance does not provide cover where the Director has acted fraudulently or dishonestly. The Company has executed a deed providing a limited indemnity to the Directors of the Company in respect of the costs of defending claims against them and third party liabilities. A copy of the deed of indemnity is available for inspection at the Company\\'s registered office during normal working hours and will also be available for inspection at the Company\\'s Annual General Meeting. Internal control The Directors have overall responsibility for internal control within the Group. The effectiveness of the Group\\'s internal control system has been reviewed by the Directors. The internal control system provides an ongoing process for identifying, evaluating and managing significant risks faced by the Company. The internal control system, which has been in place throughout the year and up to the date of this report, is designed to manage rather than eliminate the risk of failure to achieve business objectives and can provide only reasonable and not absolute assurance against material misstatement or loss. The controls in place include Group policies and procedures, which are operated in all subsidiaries and which define levels of authority and procedures for regular control and management reporting. The Group has a comprehensive system of financial reporting and forecasting covering profits, assets, liabilities, cash flow and capital expenditure. The systems include regular monitoring of cash, monthly reporting of financial results, reviews of forecasts and comparisons with budgets. Budgets and business plans are prepared annually by all operations and reviewed by management and the Board. Regular management meetings are held to monitor performance against budgets, progress in implementing planned changes and the operational efficiency of the businesses. Operational risks are identified and assessed by management with the identification and monitoring of significant risks being reported to the Board. In addition to those financial and commercial risks associated with the Group\\'s services, the nature of the services businesses dictates that particular emphasis is given to health and safety. The Group employs a full-time health and safety manager and regular training programmes are provided for operational staff. The Directors have considered the need for an internal audit function but believe that the size of the Group at present does not justify a dedicated internal audit function. However, Avesco Group finance staff make regular visits to all the operations and perform many of those risk management tasks normally associated with an internal audit function. The Directors review the decision not to have an internal audit function from time to time, in particular, having regard to material changes in circumstances. Relations with shareholders The Board makes considerable efforts to establish relationships with institutions and shareholders and to meet and communicate with them on a regular basis. Directors make institutional presentations at the time that the interim and full year results are announced. If so requested, the non-executive Directors (including the senior independent non-executive Director) are available to attend meetings with major shareholders. The Board is keen to communicate with private investors and welcomes the opportunity to meet with them at the Annual General Meeting. The Company counts all proxy votes lodged at general meetings of the Company and indicates the number of proxy votes on each resolution, after it has been dealt with by a show of hands. Information regarding the Group may be viewed on the Company\\'s website at By order of the Board Nicholas Conn Company Secretary AVESCO GROUP PLC ANNUAL REPORT STATEMENT OF DIRECTORS\\' RESPONSIBILITIES Company law requires the Directors to prepare financial statements for each financial year which give a true and fair view of the state of affairs of the Company and the Group and of the profit or loss of the Group for that period. In preparing those financial statements, the Directors are required to: > select suitable accounting policies and then apply them consistently; > make judgements and estimates that are reasonable and prudent; > state whether applicable accounting standards have been followed, subject to any material departures disclosed and explained in the financial statements; and > prepare the financial statements on the going concern basis unless it is inappropriate to presume that the Group will continue in business. The Directors confirm that they have complied with the above requirements in preparing the financial statements. The Directors are responsible for maintaining proper accounting records, which disclose with reasonable accuracy at any time the financial position of the Company and the Group and to enable them to ensure that the financial statements comply with the Companies Act They are also responsible for safeguarding the assets of the Company and the Group and hence for taking reasonable steps for the prevention and detection of fraud and other irregularities. The Directors confirm, so far as each Director is aware, there is no relevant audit information of which the Company\\'s auditors are unaware. Each Director has taken all the steps that he ought to have taken in his duty as a Director in order to make himself aware of any relevant audit information and to establish that the Company\\'s auditors are aware of that information. The Group\\'s report and accounts will be published on the Group\\'s web site and in this regard the Directors accept responsibility for the maintenance and integrity of the web site, and any uncertainty arising as a result of the accounts being available via the web in different legal and accounting jurisdictions. AVESCO GROUP PLC ANNUAL REPORT INDEPENDENT AUDITORS\\' REPORT TO THE MEMBERS OF AVESCO GROUP PLC We have audited the Group and parent Company financial statements (the ``financial statements\\'\\') of Avesco Group plc for the year ended which comprise the Consolidated Profit and Loss Account, the Group and Company Balance Sheets, the Consolidated Cash Flow Statement, the Consolidated Statement of Total Recognised Gains and Losses, the Consolidated Reconciliation of Movements in Equity Shareholders\\' Funds and the related notes. These financial statements have been prepared under the accounting policies set out therein. Respective responsibilities of Directors and Auditors The Directors\\' responsibilities for preparing the Annual Report and the financial statements in accordance with applicable law and United Kingdom Accounting Standards (United Kingdom Generally Accepted Accounting Practice) are set out in the Statement of Directors\\' Responsibilities. Our responsibility is to audit the financial statements in accordance with relevant legal and regulatory requirements and International Standards on Auditing (UK and Ireland). This report, including the opinion, has been prepared for and only for the Company\\'s members as a body in accordance with Section of the Companies Act and for no other purpose. We do not, in giving this opinion, accept or assume responsibility for any other purpose or to any other person to whom this report is shown or into whose hands it may come save where expressly agreed by our prior consent in writing. We report to you our opinion as to whether the financial statements give a true and fair view and are properly prepared in accordance with the Companies Act We also report to you whether in our opinion the information given in the Directors\\' Report is consistent with the financial statements. In addition we report to you if, in our opinion, the Company has not kept proper accounting records, if we have not received all the information and explanations we require for our audit, or if information specified by law regarding directors\\' remuneration and other transactions is not disclosed. We read other information contained in the Annual Report, and consider whether it is consistent with the audited financial statements. This other information comprises only the Directors\\' Report, the Chairman\\'s Statement, the Review of Operations, the Financial Review, The Directors\\' Remuneration Report and the Corporate Governance Report. We consider the implications for our report if we become aware of any apparent misstatements or material inconsistencies with the financial statements. Our responsibilities do not extend to any other information. Basis of audit opinion We conducted our audit in accordance with International Standards on Auditing (UK and Ireland) issued by the Auditing Practices Board. An audit includes examination, on a test basis, of evidence relevant to the amounts and disclosures in the financial statements. It also includes an assessment of the significant estimates and judgments made by the directors in the preparation of the financial statements, and of whether the accounting policies are appropriate to the Group\\'s and Company\\'s circumstances, consistently applied and adequately disclosed. We planned and performed our audit so as to obtain all the information and explanations which we considered necessary in order to provide us with sufficient evidence to give reasonable assurance that the financial statements are free from material misstatement, whether caused by fraud or other irregularity or error. In forming our opinion we also evaluated the overall adequacy of the presentation of information in the financial statements. Opinion In our opinion: > the financial statements give a true and fair view, in accordance with United Kingdom Generally Accepted Accounting Practice, of the state of the Group\\'s and the parent Company\\'s affairs as at and of the Group\\'s profit and cash flows for the year then ended; > the financial statements have been properly prepared in accordance with the Companies Act ; and > the information given in the Directors\\' Report is consistent with the financial statements. PricewaterhouseCoopers LLP Chartered Accountants and Registered Auditors Gatwick AVESCO GROUP PLC ANNUAL REPORT CONSOLIDATED PROFIT AND LOSS ACCOUNT FOR THE YEAR ENDED (restated*) Note \\' Turnover Continuing operations Acquisitions Group Turnover Cost of sales Gross profit Operating expenses before goodwill amortisation Goodwill amortisation Total operating expenses Group operating profit/(loss) Share of associates\\' operating profit before exceptional items Share of associates\\' operating exceptional items Share of associates\\' operating (loss)/profit Continuing operations Continuing operations Acquisitions Total continuing operations Discontinued operations Group and share of associates\\' operating (loss)/profit Share of associates\\' non-operating exceptional items Gain on disposal of associate Impairment of associate Loss on disposal of investment - 5 5 Group and share of associates\\' profit on ordinary activities before interest and taxation Group net interest receivable Share of associates\\' net interest Net interest receivable and similar items Profit on ordinary activities before taxation Taxation on profit on ordinary activities Profit for the financial year Earnings per share Basic Diluted Earnings/(losses) per share from continuing operations Basic Diluted p p There is no difference between the results stated above and their historical cost equivalents. The year ended has been restated following the adoption of FRS20 \"Share-based payment\" (see Note for further details). AVESCO GROUP PLC ANNUAL REPORT CONSOLIDATED STATEMENT OF TOTAL RECOGNISED GAINS AND LOSSES FOR THE YEAR ENDED Profit for the financial year Currency translation differences Total recognised gains and losses relating to the year Prior year adjustment (see Note ) Total recognised gains and losses since last annual report ) (restated*) - BALANCE SHEETS AS AT Group Group Company Company (restated*) (restated*) Note \\' \\' Intangible assets Tangible assets Investments in associates Other investments - Fixed assets Stocks Debtors: amounts falling due within one year Debtors: amounts falling due after more than one year Cash at bank and in hand - Current assets Creditors: amounts falling due within one year Net current assets/(liabilities) Total assets less current liabilities Creditors: amounts falling due after more than one year - Provisions for liabilities and charges - Net assets Share capital Share premium Profit and loss account Equity shareholders\\' funds The balance sheets at have been restated following the adoption of FRS20 \"Share-based payment\" and a reclassification of treasury shares as a deduction against the profit and loss account (see Note for further details). The financial statements which comprise the consolidated profit and loss account, Group and Company balance sheets, consolidated cash flow statement, consolidated statement of total recognised gains and losses, consolidated reconciliation of movements in equity shareholders\\' funds and the related notes were approved by the Board of Directors on and were signed on its behalf by: Ian Martin John Christmas Directors AVESCO GROUP PLC ANNUAL REPORT CONSOLIDATED RECONCILIATION OF MOVEMENTS IN EQUITY SHAREHOLDERS\\' FUNDS FOR THE YEAR ENDED (restated) Profit for the financial year Dividends (Note )* Retained profit/(loss) for the financial year Currency translation differences Nominal value of ordinary shares issued for the acquisition of Avesco plc Premium (net of expenses) on ordinary shares issued for the acquisition of Avesco plc LTIP & share options - Net change in equity shareholders\\' funds Opening equity shareholders\\' funds as previously reported Restatement FRS20** Restatement FRS21*** Opening equity shareholders\\' funds Closing equity shareholders\\' funds The prior year disclosure of dividends has been amended to reflect accounting for distributions to equity holders directly within equity in accordance with FRS25. This amendment has nil impact on the opening or closing position of the Group. ** The year ended has been restated following the adoption of FRS20 \"Share-based payment\" (see Note for further details). *** The year ended has been restated in accordance with FRS21 \"Events after the balance sheet date\" where interim dividends are recognised when paid and final dividends are recognised on approval at the Annual General Meeting. AVESCO GROUP PLC ANNUAL REPORT CONSOLIDATED CASH FLOW STATEMENT FOR THE YEAR ENDED Net cash inflow from operating activities Dividends from associates Interest received Interest paid Interest element of hire purchase obligations Net cash (outflow)/inflow from returns on investments and servicing of finance Overseas taxation paid Taxation Net cash inflow before capital expenditure Purchase of tangible fixed assets Sale of tangible fixed assets Net cash outflow for capital expenditure Purchase of subsidiary undertakings Investment in associate Disposal of investments and associates Net cash inflow/(outflow) from acquisitions and disposals Equity dividends paid Net cash inflow/(outflow) before use of liquid resources and financing Reduction in short term bank deposits Net cash inflow from management of liquid resources Expenses of share issue to acquire Avesco plc New bank loans Repayment of bank loans New hire purchase obligations Repayment of hire purchase obligations Net cash (outflow)/inflow from financing Increase/(decrease) in cash in the year Net debt Note \\' - - - - - - - AVESCO GROUP PLC ANNUAL REPORT NOTES TO THE FINANCIAL STATEMENTS FOR THE YEAR ENDED 1 Accounting policies These financial statements have been prepared under the historical cost convention and on the going concern basis in accordance with applicable United Kingdom accounting standards. A summary of the more important accounting policies is set out below. These have been applied consistently throughout the year and the preceding year with the following exceptions. Change in accounting policies The adoption of FRS20 \"Share-based payment\" resulted in the September year end numbers being restated to recognise an additional charge to the profit and loss account of in respect of outstanding share options. The charge comprises in respect of the equity value, the other side of which is a credit to reserves, and in respect of the National Insurance accrual on these options. The total recognised gains and losses since the last annual report include an adjustment of in respect of FRS20 which comprises the for the year ended and a further and for the respective equity and National Insurance charges for earlier periods. In the year ended the profit and loss account was charged in respect of the equity value and credited with in respect of the National Insurance accrual due to the Company\\'s lower closing share price. Treasury shares of : ) have been reclassified as a deduction against the profit and loss account as required by FRS25 \"Financial Instruments: Disclosure and presentation\". Basis of consolidation The consolidated financial statements include the financial statements of the Company and all of its subsidiaries made up to September annually. The consolidated financial statements also include the Group\\'s share of the results of associated undertakings in the period to September and share of net assets at that date. The results of new businesses or subsidiary undertakings acquired are included from the date control passes to the Group and the results of businesses or subsidiary undertakings disposed are included up to the date control passes from the Group. All intra Group transactions and balances are eliminated on consolidation. Company profit and loss account The Company has taken advantage of the exemption from presenting its own profit and loss account in accordance with section ) of the Companies Act The retained profit for the year of the Company was : loss ). Deferred taxation Full provision is made for deferred tax liabilities arising from accelerated capital allowances and other timing differences between the recognition of gains and losses in the financial statements and their recognition for tax purposes (except as otherwise required by FRS19: Deferred tax). Assets are also recognised in full subject to them being regarded as more likely than not to be recoverable. Deferred tax balances are not discounted. Foreign currencies Monetary assets and liabilities, and the assets and liabilities of overseas operations, are translated into sterling at the rate of exchange ruling at the balance sheet date. The results of overseas operations are translated into sterling at the average rate of exchange for the year. Foreign currency trading transactions are translated at the rate ruling at the time of the transaction unless covered by a forward foreign exchange contract in which case the contracted rate is used. Those currency translation differences arising on the re-translation of the net assets in respect of overseas operations are shown as movements on reserves. Where these currency translation differences give rise to taxation consequences, these are also shown as movements on reserves. All other currency translation differences are recognised in the profit and loss account. Goodwill Goodwill arising on acquisitions represents the excess of the fair value of the consideration given and associated costs over the fair value of the identifiable assets and liabilities acquired. Goodwill arising has been capitalised and amortised over its useful economic life. Useful economic lives are determined based on factors such as the market in which the business operates, the rate of change in the business environment or market, the reputation of the business, its past performance, and its future prospects. The estimates of useful economic lives are currently between five and ten years. Hire purchase contracts A significant proportion of the Group\\'s financing is provided by hire purchase contracts and finance leases. Throughout the financial statements the term hire purchase refers to hire purchase contracts, finance leases and sale and leaseback arrangements with financial institutions and suppliers. In accordance with FRS5: Reporting the substance of transactions the substance of the sale and leaseback arrangements is a secured loan and as such has been treated as a finance lease. Where these arrangements result in substantially all the risks and rewards of ownership resting with the Group, the assets are included in the balance sheet at cost less depreciation and the present value of future payments is shown as a liability. The interest element of these arrangements is charged to the profit and loss account over the period of the arrangement in proportion to the balance of capital payments outstanding. Impairment of fixed assets and goodwill If a significant indicator of a possible impairment is noted, the need for any fixed asset impairment provision is assessed by comparing the carrying value of the asset against the higher of net realisable value or value in use. The value in use is determined from estimated discounted future cash flows. Discount rates used are based on the circumstances of the individual businesses. Investments Fixed asset investments are recognised at cost less any provision for impairment. Current asset investments are shown at the lower of cost and net realisable value. AVESCO GROUP PLC ANNUAL REPORT Long term incentive plan and employee share option scheme The fair value of the employee services received in exchange for the grant of share options or shares is recognised as an expense. The total amount to be expensed rateably over the vesting period is determined by reference to the fair value of the options or shares determined at the grant date, excluding the impact of any non-market vesting conditions (for example, profitability and sales growth targets). Non-market vesting conditions are included in assumptions about the number of options that are expected to become exercisable or the number of shares that the employee will ultimately receive. This estimate is revised at each balance sheet date and the difference is charged or credited to the profit and loss account, with a corresponding amount to equity. The proceeds received on exercise of the share options net of any directly attributable transaction costs are credited to equity. A charge is also recognised in respect of the employers\\' National Insurance contributions as a result of the Long Term Incentive Plan and share option scheme. The charge is based on the intrinsic value at the balance sheet date and is spread over the performance period. Operating leases Rentals under operating leases are charged on a straight line basis over the lease term. Where significant operating lease incentives (such as a rent free period in respect of properties) are received they are considered as an integral part of the net payment agreed for the use of the leased asset and recognised over the period to the first rent review on a straight line basis. Pension and post retirement benefits Costs in respect of defined contribution type pension arrangements are charged to the profit and loss account on an accruals basis in line with the amounts payable in respect of the accounting period. The Group has no defined benefit pension arrangements other than statutory retirement benefits that accrue to employees of Action SAM. The statutory retirement benefits relating to the employees of Action SAM, in substance, are similar to a defined benefit pension arrangement and an accrual for the full potential liability is made at each reporting date. Action SAM has no pension scheme assets. Restructuring, reorganisation, property lease, dilapidation and onerous contract provisions These provisions cover costs resulting from the strategic reorganisation and relocation of personnel across the Group, headcount reductions, dilapidation costs and onerous contracts. Provisions are recognised when a detailed formal plan has been drawn up and the main features of the plan have been announced to those affected by it. Where the time value of money would give rise to a material difference in the future cash outflows of the Group, the provisions are discounted at a rate to reflect the time value of money and the risks associated with the liability. Start up costs All costs relating to the start up of new operations are recognised in the profit and loss account as incurred. Stocks Stocks and work in progress are valued at the lower of cost and net realisable value. Provision is made for obsolete, slow moving and defective stock. Tangible fixed assets and depreciation The cost of tangible assets includes those costs which are directly attributable to purchasing the assets and bringing them into working condition. The Group does not capitalise interest or internal costs as part of the cost of tangible assets. Depreciation of tangible fixed assets is calculated at rates estimated to write off the cost to nil residual value using the straight line method over the following estimated useful economic lives: Freehold land Freehold and long leasehold buildings Short leasehold buildings Hire stock Other plant and equipment Not depreciated years Remaining period of lease years years The Group reviews its depreciation rates regularly to take account of any changes in circumstances. When setting useful economic lives, the principal factors the Group takes into account are the expected rate of technological developments, expected market requirements for the equipment and the intensity at which the assets are expected to be used. Profits and losses arising from the normal replacement cycle of hire stock are considered to be in effect adjustments to previously charged depreciation and hence are included within operating results. Treasury shares Treasury shares held by the Company are treated as a deduction from equity at an amount equal to the purchase price paid. Treasury shares sold for cash are treated as a realised profit to the amount equal to the purchase price paid with any excess transferred to the share premium account. Treasury shares cancelled are treated as a reduction in issued share capital and a transfer to a capital redemption reserve. Turnover and revenue recognition Turnover represents the value of services and goods supplied to customers excluding Value Added Tax and other sales taxes, and net of customer discounts. Revenue is recognised as follows: Supply of services proportionally over the duration of the service or hire period, provided a right to consideration has been established. Supply of goods when the goods are dispatched to the customer. Revenue recognised in the profit and loss account but not yet invoiced is held on the balance sheet within Prepayments and Accrued Income. Revenue invoiced but not yet recognised in the profit and loss account is held on the balance sheet within Accruals and Deferred Income. Revenue from the disposal of fixed assets is not treated as turnover. Web site costs The Group uses web sites principally for sales and marketing purposes rather than directly for generating turnover. Accordingly all web site costs are recognised in the profit and loss account as incurred. AVESCO GROUP PLC ANNUAL REPORT NOTES TO THE FINANCIAL STATEMENTS FOR THE YEAR ENDED 2 Segmental analysis by geographical location The Group\\'s continuing business is classified by management into three main divisions (Creative Technology, Full Service and Broadcast) which together provide the Group\\'s principal activity of services to the corporate presentation, entertainment and broadcast markets. The control of the Group\\'s investments in its two associated companies, Complete Communications Corporation Limited (\"Complete\") and Medal Entertainment & Media plc (\"MEM\") ceased during the year ended The results of these associated undertakings have been classified as discontinued operations. The investment in Complete was disposed of in December and the investment in MEM was written off when MEM went into administration in July Divisional Analysis Turnover \\' Creative Technology Full Service Broadcast Head Office - Group turnover Profit on ordinary activities before taxation by origin Continuing operations before goodwill amortisation Creative Technology Full Service Broadcast Head Office Goodwill amortisation Creative Technology Full Service Broadcast Head Office Group operating profit/(loss) continuing operations Discontinued operations Share of associates\\' operating profit before exceptional items Share of associates\\' operating exceptional items Group and share of associates\\' operating (loss)/profit Share of associates\\' non-operating exceptional items Gain on disposal of associate Impairment of associate Loss on disposal of investment Net interest receivable and similar items Profit on ordinary activities before taxation - - - Net assets by division Continuing operations before goodwill Creative Technology Full Service Broadcast Head Office Goodwill Creative Technology Full Service Broadcast Head Office Share of associates (discontinued) Capital employed Net debt Provisions for liabilities and charges Net assets - \\' AVESCO GROUP PLC ANNUAL REPORT Geographical Analysis United Kingdom Mainland Europe United States of America Rest of the World Group turnover Profit on ordinary activities before taxation by origin Continuing operations before goodwill amortisation United Kingdom Mainland Europe United States of America Rest of the World Goodwill amortisation United Kingdom Mainland Europe United States of America Rest of the World Group operating profit/(loss) continuing operations Discontinued operations Share of associates\\' operating profit before exceptional items Share of associates\\' operating exceptional items Group and share of associates\\' operating (loss)/profit Share of associates\\' non-operating exceptional items Gain on disposal of associate Impairment of associate Loss on disposal of investment Net interest receivable and similar items Profit on ordinary activities before taxation Net assets by location Continuing operations before goodwill United Kingdom Mainland Europe United States of America Rest of the World Goodwill United Kingdom Mainland Europe United States of America Rest of the World Share of associates (discontinued) Capital employed Net debt Provisions for liabilities and charges Net assets Turnover by origin \\' - Turnover by destination \\' - \\' - - - \\' - - AVESCO GROUP PLC ANNUAL REPORT NOTES TO THE FINANCIAL STATEMENTS FOR THE YEAR ENDED 3 Earnings before interest, taxation, depreciation and amortisation (`EBITDA\\') EBITDA on continuing operations Operating profit before exceptional items and goodwill amortisation Depreciation EBITDA on continuing operations* Group and share of associates\\' operating (loss)/profit Depreciation Goodwill amortisation EBITDA* before non-operating exceptional items. 4 Operating expenses Distribution costs Administrative expenses before goodwill amortisation Goodwill amortisation Total administrative expenses Total operating expenses \\' 8 \\' - 5 Exceptional items Share of associates\\' restructuring costs Share of associates\\' provision for litigation claims (ii) Share of associates\\' operating exceptional items \\' - Share of associates\\' profit on disposal of investments (iii) Gain on disposal of associate (iv) Impairment of associate Loss on disposal of investment (vi) Total non-operating exceptional items - - i) Share of associates\\' restructuring costs is in respect of our associated undertaking Medal Entertainment & Media plc (\"MEM\"). These expenses have been treated as tax deductible. ii) Share of associates\\' provision for litigation claims is in respect of Complete Communications Corporation Limited (\"Complete\") where provision has been made for outstanding litigation claims both by and against Complete (see Note for further detail). These provisions are not deductible for tax until paid. iii) Share of associates\\' profit on disposal of investments is in respect of the profit made by Complete when it sold some of its own subsidiaries just prior to its own sale to 2waytraffic N.V. This item is exempt from tax. iv) Gain on disposal of associate is in respect of the profit made on the sale of the Group\\'s holding in Complete to 2waytraffic N.V. (see Note for further detail). This item is exempt from tax. v) Impairment of associate is in respect of MEM which went into administration during July our investment was deemed impaired and was written off in full (see Note for further detail). This item is not deductible for tax purposes. vi) Loss on disposal of investment is in respect of the loss made on the disposal of our investment in 2waytraffic N.V. (see Note for further detail). The tax impact of this item in the year is nil and the loss will be carried forward to offset against future capital gains. AVESCO GROUP PLC ANNUAL REPORT Net interest receivable Bank loans and overdrafts Hire purchase obligations Other Group interest payable Share of associates interest payable Total interest payable Group interest receivable Share of associates\\' investment income Total interest and similar items receivable Net interest and similar items receivable Operating Profit Operating profit is stated after charging/(crediting): Operating lease payments Other Plant and equipment Depreciation charge Owned tangible assets Assets held under hire purchase arrangements Amortisation of goodwill Profit on disposal of tangible fixed assets Currency translation differences Auditors remuneration Fees payable to the Company\\'s auditor for the audit of the parent Company and consolidated accounts Fees payable to the Company\\'s auditor and its associates for other services: The audit of the Company\\'s subsidiaries pursuant to legislation Other services pursuant to legislation Other services relating to taxation All other services Directors\\' remuneration Details of Directors\\' remuneration are set out on pages to These details form part of the financial statements. 9 Employee information The average monthly number of persons employed by the Group including executive directors was: Operations Administration Total employees The total number of employees was as at : ). The aggregate payroll costs of these employees was: Wages and salaries Social security costs Other pension costs (see Note ) Share based payment (see Note ) Total payroll costs There are no employee costs for Avesco Group plc. \\' \\' - - number number \\' AVESCO GROUP PLC ANNUAL REPORT NOTES TO THE FINANCIAL STATEMENTS FOR THE YEAR ENDED Post retirement benefits The Group operates defined contribution type pension arrangements for certain of its employees both in the UK and overseas. The assets of these arrangements are held by financial institutions entirely separate from those of the Group. The cost of these pension arrangements was : ) and : ) of contributions were unpaid at the year end. The Group has no defined benefit pension arrangements other than statutory retirement benefits that accrue to employees of Action SAM. The provision in relation to the statutory retirement benefits relating to the employees of Action SAM, which in substance are similar to a defined benefit pension arrangement, amounts to Action SAM has no pension scheme assets. Taxation Analysis of taxation charge for the year United Kingdom taxation Corporation tax Share of associates\\' current taxation Overseas taxation Corporation tax Group and share of associates\\' current taxation Deferred taxation Share of associates\\' deferred taxation Group and share of associates\\' deferred taxation Taxation on profit on ordinary activities \\' Factors affecting the taxation charge The taxation charge for the year is lower : higher) than the standard rate of corporation tax in the UK %). The differences are explained below: Profit on ordinary activities before taxation Profit on ordinary activities before taxation multiplied by the standard rate of UK corporation tax of ( %) Goodwill amortisation disallowed Other non deductible expenses Differences between capital allowances and depreciation Other timing differences Unrelieved losses Results on disposal of operations, associates and investments Other permanent differences Differences in tax rates Group and share of associates\\' current taxation - - Dividends Dividends paid \\' Interim dividend of per share : per share) Final dividend of per share : per share) Total dividend The final dividend of per share proposed in respect of the year ended was paid on An interim dividend for the year ended of per share was paid on A final dividend for the year ended of per share has been proposed and, subject to shareholders\\' approval, will be paid on to shareholders on the register at close of business on AVESCO GROUP PLC ANNUAL REPORT Earnings per share Basic earnings per share have been calculated by dividing profit after taxation by the weighted average number of ordinary shares in issue (excluding treasury shares) during the year. Diluted earnings per share have been calculated by dividing profit after taxation by the weighted average diluted number of ordinary shares in issue (excluding treasury shares) during the year. The Group has two classes of dilutive potential ordinary shares: the share options outstanding under the unapproved executive share option scheme, which do have a dilutive effect, and the contingently issuable shares under the long term incentive plan, none of which give rise to a dilution in the earnings per share because the performance conditions attached to them have not yet been met (see Note ). Adjusted earnings per share have been calculated by dividing profit after taxation and excluding goodwill amortisation and exceptional items, by the weighted average number of ordinary shares in issue during the year. The Directors consider that the adjusted earnings per share figures provide a useful additional indication of performance. Earnings Profit/(loss) from continuing operations Profit from discontinued operations Profit for the year Operating exceptional items Non-operating exceptional items Goodwill amortisation Adjusted earnings Weighted average number of shares For basic earnings per share \\'s) Effect of dilutive share options \\'s) For diluted earnings per share \\'s) Earnings/(losses) per share Basic from continuing operations Basic from discontinued operations Basic Diluted from continuing operations Diluted from discontinued operations Diluted Adjusted basic Adjusted diluted \\' ( ( AVESCO GROUP PLC ANNUAL REPORT NOTES TO THE FINANCIAL STATEMENTS FOR THE YEAR ENDED Intangible fixed assets Group Negative Goodwill Cost At Additions At Amortisation At Credit for the year At Net book value At At There were no intangible fixed assets in the Company : nil). Goodwill comprises positive goodwill on the purchase of Fountain Television Limited (amortised over ten years) and the increase in holding of CT Creative Technology GmbH & Co KG (amortised over five years), and negative goodwill on the purchase of Avesco plc (amortised over five years). The amortisation periods chosen reflect the expected life of the assets purchased. AVESCO GROUP PLC ANNUAL REPORT Tangible fixed assets Group Land and buildings Cost At Additions Acquisitions Disposals Currency translation differences At Depreciation At 5 Charge Disposals Currency translation differences At Net book value At At There were no tangible fixed assets in the Company : nil). The following assets (which principally comprise hire stock) were held under hire purchase contracts: Group Cost Depreciation Net book value The net book value of land and buildings is analysed as follows: Group Freehold land Freehold buildings Long leasehold buildings Short leasehold buildings Hire stock Other plant and equipment - - Total \\' \\' - - AVESCO GROUP PLC ANNUAL REPORT NOTES TO THE FINANCIAL STATEMENTS FOR THE YEAR ENDED Investments Group Investment in associates Group Other Investments Company Shareholding in subsidiaries Cost/share of net assets At Additions Share of associates\\' loss after tax Disposals - At Provisions for impairment At Impairment - At Net book value At At - The impairment in respect of the Group Investment in associates is due to Medal Entertainment and Media plc going into administration as detailed below. The impairment in respect of the Company Shareholding in subsidiaries is the result of a reduction in the net assets position of InvestinMedia Holdings Ltd, a beneficially owned subsidiary, as a result of dividends paid. Principal subsidiaries The Group\\'s principal subsidiary undertakings at all of which are included in the consolidation, were as follows: Legal name Trading name Activity Country of incorporation United Kingdom Creative Technology Limited Media Control (UK) Limited Presteigne Limited Fountain Television Limited InvestinMedia Holdings Limited* InvestinMedia Investments Limited* Avesco plc* Avesco Services Limited Avesco Finance Limited CT London CT Screenco Dimension MCL Birmingham MCL Birmingham NEC MCL Manchester MCL Glasgow MCL Edinburgh MCL London Presteigne Broadcast Hire Fountain Studios InvestinMedia InvestinMedia Avesco Avesco Services Avesco Finance Audio visual services Audio visual services Broadcast equipment hire, repair & maintenance Television studios Investment holding Investment holding Holding company Head office services Finance England & Wales England & Wales England & Wales England & Wales England & Wales England & Wales England & Wales England & Wales England & Wales Mainland Europe Action SAM JVR Audiovisual BV CT Creative Technology GmbH & Co KG Presteigne GmbH Presteigne BV International Action JVR Audiovisual CT Germany Presteigne Presteigne Audio visual services Audio visual services Audio visual services Broadcast equipment hire, repair & maintenance Broadcast equipment hire, repair & maintenance Monaco The Netherlands Germany Germany The Netherlands United States of America Creative Technology North America, Inc CT San Francisco CT Los Angeles CT Las Vegas CT Chicago Audio visual services United States of America Rest of World Creative Technology Emirates LLC CT Dubai Audio visual services Dubai At all classes of share of all these subsidiaries were beneficially owned by the Group. Denotes subsidiaries directly held by Avesco Group plc. AVESCO GROUP PLC ANNUAL REPORT Associate Undertakings The Group\\'s associates were: Complete Communications Corporation Limited (\"Complete\"), a company registered in England and Wales and engaged in television programme production and rights exploitation, and Medal Entertainment & Media plc (\"MEM\"), an AIM quoted media company. Complete As previously announced, the investment in Complete Communications Corporation Ltd (\"Complete\") was sold on to 2waytraffic N.V. The proceeds were ordinary shares of each in 2waytraffic N.V. issued at a total subscription price of million, held in a retention account that is subject to deduction for potential warranty and indemnity claims has been provided against this amount for possible litigation costs), in cash (net of expenses) and in cash based on the final net assets of Complete. Additional consideration may also be receivable depending on the outcome of certain litigation in the United States. A gain on disposal of has been recognised in the results to but is subject to change pending any future adjustments in respect of the final amount due from the retention account and the results of litigation by and against Complete in progress. The Group\\'s share of the results of Complete, which have been disclosed within discontinued operations in the consolidated profit and loss account, for the pre disposal trading in the year ended and for the year ended was as follows: \\' Turnover Profit on ordinary activities before taxation Taxation on profit on ordinary activities Profit on ordinary activities after taxation MEM MEM went into administration during July and so the Group\\'s investment in MEM was deemed impaired and was written off in full at that time creating a loss of million. The Group\\'s share of the results of MEM, which have been disclosed within discontinued operations in the consolidated profit and loss account, for the pre administration trading in the year ended and for the year ended was as follows: \\' Turnover Loss on ordinary activities before taxation Taxation on loss on ordinary activities Loss on ordinary activities after taxation Other investments As reported above, part of the proceeds on the sale of Complete were ordinary shares of each in 2waytraffic N.V. issued at a total subscription price of million. This holding was disposed of on at a price of per share realising funds of before expenses and creating a loss on investment of million. The funds were received on Stocks Group Raw materials and consumables Work in progress Finished goods and goods for resale There were no stocks in the Company : nil). \\' AVESCO GROUP PLC ANNUAL REPORT NOTES TO THE FINANCIAL STATEMENTS FOR THE YEAR ENDED Debtors Amounts falling due within one year Group Group Company \\' Trade debtors Amounts owed by subsidiaries Other debtors Deferred tax asset Prepayments and accrued income - - Amounts receivable are unsecured, interest free and repayable on demand. Amounts owed by other Avesco Group companies are unsecured, repayable on demand and bear interest based on local inter-bank rates. Company Amounts falling due after more than one year Amounts owed by subsidiaries Other debtors Deferred tax asset Group Group Company - Company - Creditors: amounts falling due within one year Group Group Company \\' Bank overdrafts and loans (secured) Hire purchase obligations (secured) Trade creditors Amounts owed to subsidiaries Corporate taxation Other taxation and social security Other creditors Accruals and deferred income - Hire purchase obligations include amounts relating to the present value of the obligation under sale and leaseback arrangements. Amounts owed to other Avesco Group companies are unsecured, repayable on demand and bear interest based on local inter-bank rates. Company - AVESCO GROUP PLC ANNUAL REPORT Creditors: amounts falling due after more than one year Group Group Company \\' Bank loans (secured) Hire purchase obligations (secured) - - - Hire purchase obligations include amounts relating to the present value of the obligation under sale and leaseback arrangements. Company - Maturity of bank loans and hire purchase obligations Group Group Company Company Bank loans and overdrafts \\' \\' In one year or less, or on demand In more than one year but not more than two years - - The overdrafts and bank loan are secured by a fixed and floating charge over the UK assets of the Group. The loan is with HSBC Bank plc and bears interest based on LIBOR. Hire purchase obligations Group Group Company Company In one year or less In more than one year but not more than two years In more than two years but not more than five years - - - - - - The finance companies, to whom the hire purchase obligations exist, hold a charge over the assets that they have financed. AVESCO GROUP PLC ANNUAL REPORT NOTES TO THE FINANCIAL STATEMENTS FOR THE YEAR ENDED Provisions for liabilities and charges Restructuring and reorganisation costs Property leases and dilapidations (ii) Onerous contracts (iii) Deferred taxation (iv) Group Total At On acquisition Charges in the year Utilised in the year - - - At There were no provisions in the Company : nil) Restructuring and reorganisation costs These relate to the provision for costs associated with the redeployment of personnel across the Group and for personnel costs following the relocation of operations within the Avesco plc group of companies. (ii) Property leases and dilapidations Various leasehold properties within the Avesco plc group of companies have been vacated in the past. As a result provisions were made for ongoing rental costs and dilapidations in respect of these properties. The Directors continue to review the levels of provision held, taking into account the expected periods to market and assign the leases, and adjust the provision accordingly. (iii) Onerous contracts In the year ended the Directors of Avesco plc reviewed the supplier contracts of the Group and, given changes in technology and market conditions, considered it appropriate to provide for the ongoing sub-hire costs of certain assets hired from third parties. These commitments have now expired. (iv) Deferred taxation Deferred tax is measured on a non-discounted basis at the tax rates that are expected to apply in the periods in which timing differences reverse, based on tax rates and laws substantively enacted at the balance sheet date. The deferred tax liability, as per the table above, relates solely to accelerated capital allowances. The current position with respect to the Group\\'s deferred tax assets is detailed below: Depreciation in excess of capital allowances Other timing differences Tax losses carried forward Total deferred tax assets Recognised deferred tax assets At On acquisition Movement in the year - - At Unrecognised deferred tax assets At At - At the Company had no recognised deferred tax assets : nil) and unrecognised deferred tax assets in respect of other timing differences of : nil) and tax losses carried forward of : ). An element of the total deferred tax assets is unrecognised due to uncertainties concerning the extent and timing of recoverability, which are dependent upon the generation of certain classes of taxable profits by certain of the Group\\'s operations. AVESCO GROUP PLC ANNUAL REPORT Share capital number number \\' Authorised Ordinary shares of each Allotted, called up and fully paid Ordinary shares of each On the Company increased its authorised share capital to ordinary shares of each. See Note for details of shares allotted in the year. Share-based payment The Company operates an executive share option scheme, established in and a long term incentive plan (\"LTIP\"), established in In any year period no more than percent of Avesco\\'s issued share capital from time to time may be issued or put under option to be issued for the purposes of the LTIP and the share option scheme. No awards may be made under either scheme more than years after its adoption. Share option scheme At there were : ) options under the unapproved executive share option scheme at pence each. These options are exercisable between and The right to exercise these options was subject to a performance condition that has now been satisfied. These options have been valued using the Black-Scholes option-pricing model resulting in a charge to the profit and loss account of : ). The assumptions used in this calculation are as follows: Grant date Share price at grant date Exercise price Expected volatility Expected life Risk free rate Expected dividends expressed as a dividend yield 7 years % Long Term Incentive Plan (\"LTIP\") Under the LTIP, which it is proposed will in due course be operated in conjunction with an employee trust, awards are made to employees under which they can receive Avesco shares at no cost to themselves based on the achievement of a pre-determined and stretching performance condition. No individual may receive awards in any financial year with an aggregate value at the time of grant in excess of of the employee\\'s annual basic salary although this limit may increase to of the employee\\'s basic annual salary if the remuneration committee decides that exceptional circumstances exist. The performance condition applicable to the first awards of rights to shares made under the LTIP is that a cumulative adjusted earnings per share (calculated by dividing the consolidated Group profits of the period after taxation and after deducting minority interests and preference dividends and excluding goodwill amortisation and exceptional items by the weighted average number of ordinary shares in issue during the year) of at least is achieved over the three years ending The remuneration committee has discretion to adjust the earnings per share in relation to exceptional and/or non-recurring events. Subject to the rules of the LTIP and the fulfilment of the performance condition, of the shares will be released on the date of the preliminary announcement of the results of the Company for the year ending and, subject to continuing service of the award holder, of the shares will be released on the first anniversary of that announcement date or, if later, the date of the announcement by the Company of its results for the year ending For shares granted to employees under the LTIP, the fair value of the shares is measured at the market price of the Company\\'s shares, adjusted to take into account the terms and conditions upon which the shares were granted. As the performance conditions attached to the shares are not market performance related, the best estimate of fair value is considered to be market value at date of grant. No changes are subsequently made for changes in the share price after the grant date. The charge is spread over the term to vesting date. The table below presents the awards outstanding with an analysis of the movements in the number of awards during the year and the charge to the profit and loss account. Date of grant Number of instruments granted Share price at date of grant Fair value per granted instrument at date of grant Granted instruments outstanding at Forfeitures during the year Granted instruments outstanding at Charge to the profit and loss account for the year ended \\' - AVESCO GROUP PLC ANNUAL REPORT NOTES TO THE FINANCIAL STATEMENTS FOR THE YEAR ENDED Capital and reserves Group At as previously reported Prior year adjustment re FRS20* Prior year adjustment re FRS25** At as restated Issue of shares Profit for the financial year Dividends Currency translation differences LTIP & share options At Share capital account - Shares held in treasury - - Share premium account - Profit and loss account - Total - Company At as previously reported Prior year adjustment re FRS20* Prior year adjustment re FRS25** - - At as restated Issue of shares Profit for the financial year Dividends LTIP & share options - - - - - At * The adoption of FRS20 \"Share-based payment\" resulted in the September year end numbers being restated to recognise the cumulative accrual for the National Insurance element of outstanding share options (see Note for further details). ** Treasury shares have been reclassified as a deduction against the profit and loss account as required by FRS25 \"Financial Instruments: Disclosure and presentation\". At ordinary shares of the Company were held in treasury representing of the ordinary share capital in issue as at that date. On the the Company purchased a further ordinary shares at a price of pence per share, all of which are held as treasury shares. The acquisition of Avesco plc by InvestinMedia plc completed on On completion of the acquisition, the name of the Company was changed to \"Avesco Group plc\". The acquisition was satisfied by the issue of new Avesco Group ordinary shares of each and a total cash consideration of The shares were issued at a price of creating a increase in the value of share capital and share premium net of expenses of AVESCO GROUP PLC ANNUAL REPORT Net cash inflow from operating activities \\' Group operating profit/(loss) Depreciation of tangible assets Amortisation of intangible assets LTIP and share options charge Profit on sale of tangible assets Change in stocks Change in debtors Change in creditors Net movement in provisions Net cash inflow from operating activities The cash effect of exceptional items is explained in Note Following the acquisition of Avesco plc, certain Head Office operations were merged and so it is not possible to disaggregate the cash flows of the acquired business for the post acquisition period. However, the net cash inflow from operating activities in respect of the main trading entities of Avesco plc amounted to Analysis of net debt At Cash flow Acquisition Cash at bank and in hand Bank overdrafts Net cash Bank loans due in less than one year Bank loans due in more than one year Hire purchase obligations due in less than one year Hire purchase obligations due in more than one year - Net debt Cash balances above include an amount of : nil) which is available for restricted use only. Non-cash changes comprise transfers between categories of bank loans and hire purchase obligations. Other non-cash changes - - Currency translation differences At AVESCO GROUP PLC ANNUAL REPORT NOTES TO THE FINANCIAL STATEMENTS FOR THE YEAR ENDED Reconciliation of net debt Change in cash in the year Movement in liquid resources Repayment of bank loans New bank loans Repayment of hire purchase obligations New hire purchase obligations Changes in net debt arising from cash flows Net effect of acquisitions and disposals Currency translation differences Change in net debt Opening net (debt)/funds Closing net debt - \\' - AVESCO GROUP PLC ANNUAL REPORT Financial instruments Objectives, policies and strategies The Group holds financial instruments principally to finance its operations and manage the foreign currency risks arising from its operations. The Group does not trade in financial instruments. The main risks considered to arise from the Group\\'s use of financial instruments are foreign currency risk, interest rate risk and liquidity risk. Counterparty risk is only considered significant in the case of trade debtors and cash. The Group undertakes appropriate credit control procedures in respect of trade debtors and only makes short term cash deposits with major financial institutions. Foreign currency risk The Group operates extensively in the United States of America and Europe principally through its overseas operations but also through operations based in the United Kingdom. Overseas operations are funded either through local borrowings or loans from Avesco Finance Limited denominated in the overseas currency. Where loans are regarded as part of the Group\\'s net investment in the operation, in a comparable manner to share capital, any exchange gains or losses are recognised as movements on reserves. All other net foreign currency assets of Avesco Finance Limited are hedged using foreign currency overdrafts or forward foreign exchange contracts in the United Kingdom. In general the Group does not hedge the foreign currency risk arising from sales by an operation denominated in a currency other than its functional currency. In the majority of cases, substantial deposits on such sales are received at the time of the order and the remaining balances are, to a large extent, matched by overseas costs. The exceptions to this policy are generally related to the purchase of tangible assets or other large one-off transactions where the currency risk is usually hedged. The currency profile of the financial liabilities is determined by the funding needs of the Group\\'s operations. Interest rate risk It is the Group\\'s policy generally that financial instruments should carry a variable rate of interest. The Group monitors expectations of future interest rates but keeps the majority of its interest bearing financial liabilities carrying a variable rate of interest. This is regarded as providing a partial hedge against the economic business cycle and takes into consideration the strong cash flow from operations. It is the Group\\'s policy to undertake capital expenditures initially using overdraft facilities and then to finance these purchases in arrears using hire purchase facilities. This approach leads to competitive interest rates being secured and administration costs being reduced. Liquidity risk The Group monitors the maturity profile of its financial instruments on an ongoing basis. It is the Group\\'s policy to use bank loans and hire purchase obligations to keep a reasonable proportion of its net debt due after more than one year. Bank overdrafts are used for short term flexibility. At the percentage of net debt due after more than one year was ( 0%). The Group\\'s policy is to maintain a range of types of borrowing facilities from a number of major financial institutions. Financial assets or liabilities in this note exclude short term debtors and creditors. Long term debtors are also excluded. Included within debtors is in respect of the retention monies on the sale of Complete which is denominated in Sterling and earns interest at a variable rate based on the Bank of England base rate. Financial assets \\' Category analysis Cash Financial assets Currency analysis Sterling US dollar Euro Other - Financial assets Variable rate interest receivable on the cash balances is based on the relevant banks\\' base rates. All financial assets are receivable within one year or less, or on demand. AVESCO GROUP PLC ANNUAL REPORT NOTES TO THE FINANCIAL STATEMENTS FOR THE YEAR ENDED Financial liabilities Category analysis Bank overdrafts Bank loans Hire purchase obligations Provisions for liabilities and charges Financial liabilities Currency analysis Sterling US dollar Euro Financial liabilities \\' - Financial liabilities Maturity analysis In one year or less, or on demand In more than one year but not more than two years In more than two years but not more than five years In more than five years Financial liabilities \\' Interest analysis Non interest bearing Variable rate Fixed rate Financial liabilities Non interest bearing liabilities relate to zero-rate hire purchase obligations and to provisions for liabilities and charges which are not subject to external interest. Interest rates on the variable rate financial liabilities are principally determined with reference to the United Kingdom banks\\' base rates, the London Inter Bank Offered Rate (`LIBOR\\'), the European Central Bank base rate and in the United States of America the prime bank rate. Fixed rate financial liabilities \\' Sterling US dollar Euro Fixed rate financial instruments - - The Euro fixed rate financial liabilities carry a weighted average interest rate of ( nil) and have a weighted average period of months : nil months) to maturity. AVESCO GROUP PLC ANNUAL REPORT Fair value of financial instruments There is no material difference between the fair value and the book value of the Group\\'s financial instruments. At and there were no forward foreign exchange contracts being held to hedge forecast future transactions. Currency exposures The tables below show the extent to which Group companies have monetary assets and liabilities in currencies other than their local currency. Exchange differences on these assets and liabilities are recognised in the profit and loss account. Net foreign currency monetary assets / (liabilities) at Sterling US dollar Euro Other currencies Total Functional currency of Group company: Sterling US dollar Euro - - Total The Group had no net foreign currency monetary assets / (liabilities) at Borrowing facilities At September the Group had the following undrawn borrowing facilities. \\' Overdraft facilities Hire purchase facilities - All undrawn committed borrowing facilities fall due for renewal within one year of the balance sheet date. AVESCO GROUP PLC ANNUAL REPORT NOTES TO THE FINANCIAL STATEMENTS FOR THE YEAR ENDED Acquisitions Avesco plc As previously announced, the acquisition of Avesco plc by InvestinMedia plc completed on On the completion of the acquisition, the name of the Company was changed to Avesco Group plc. The acquisition was satisfied by the issue of new Avesco Group ordinary shares of each and a total cash consideration of This purchase has been accounted for as an acquisition. In its last financial year to Avesco plc made a profit after tax and minority interests of For the period since that date to the date of acquisition, Avesco plc management accounts show turnover of operating profit of profit before taxation of taxation of and a profit for the period of After taking account of exchange losses taken directly to reserves of and revaluation surpluses of in respect of asset revaluations, the total recognised gain for the period was Net assets acquired Net book value Fair value adjustments Provisional fair value Tangible fixed assets Intangible fixed assets Stocks Debtors Creditors Net debt Provisions for liabilities and charges Net assets acquired Negative goodwill Consideration Consideration satisfied by: Shares issued (including issue costs) Cash Costs* *Costs comprised of costs accounted for by Avesco plc. The exercise to fair value the assets acquired is ongoing and is due to complete by with further adjustments to the asset and goodwill values possible. The final fair values will be presented in the interim report and accounts for the six months ending CT Creative Technology GmbH & Co KG As announced on the Group acquired the remaining interest, which it did not already own, in CT Creative Technology GmbH & Co KG, a German limited liability partnership, which trades as \"CT Germany\". The transaction was effective from with a total cash consideration of paid plus a further of expenses creating goodwill of At CT Creative Technology GmbH & Co KG had net liabilities at a net book value of which were considered to be the fair value. Fountain Television Limited Following the acquisition of Fountain Television Limited in the year ended the fair value exercise in respect of the assets acquired has now been completed with the effect of reducing the value of these assets and the creation of goodwill. The final fair values are as follows: Net assets acquired Provisional Fair value fair value adjustments \\' Final fair value Tangible fixed assets Intangible fixed assets Stocks Debtors Creditors - Net assets acquired Goodwill Consideration Consideration satisfied by: Cash Costs Loan to Fountain Television Limited AVESCO GROUP PLC ANNUAL REPORT Commitments and contingent liabilities The Group had : nil) of capital commitments for the purchase of tangible fixed assets at the balance sheet date which had not been recognised in the financial statements. As explained in Note there is ongoing litigation by and against Complete, a former associated undertaking, although management have made provisions for their best estimates of any likely costs and are of the view that there is no significant exposure for the Group. The Company is party to the cross guarantee arrangements the Group has in respect of its UK borrowings with HSBC Bank plc. The Group had the following annual commitments under non-cancellable operating leases: Lands & Buildings Lands & Buildings Other Other Operating leases which expire: Within one year Within two and five years After five years - - - Total - The commitments above represent the cash commitment and will differ from the actual charge in the profit and loss account due to rent free period incentives, for which the benefit is spread over the lease term until the break clause, and the receipt of sub-let income against these lease payments which reduce the overall charge to the profit and loss account. The Company has no significant operating lease commitments. Related party disclosures Mr A Murray, the son of Mr R Murray, is employed on standard contract terms by Presteigne Limited, a wholly owned subsidiary of the Company. Mr B Ramsey, stepson of Mr G Andrews, was employed on standard contract terms by Creative Technology Limited, a wholly owned subsidiary of the Company, until and thereafter by Creative Technology North America Inc., another wholly owned subsidiary of the Company. In the period between and Fountain Television Limited, a subsidiary of InvestinMedia plc, hired equipment from Presteigne Limited, a subsidiary of Avesco plc, totalling There were no other transactions with related parties requiring disclosure under FRS8. AVESCO GROUP PLC ANNUAL REPORT NOTICE OF MEETING NOTICE is hereby given that the twenty-fourth Annual General Meeting of Avesco Group plc (the \"Company\") will be held at Unit Sussex Manor Business Park, Gatwick Road, Crawley, West Sussex RH10 9NH on Thursday, at a.m. for the following purposes: Ordinary business To receive the Report of the Directors and the Accounts for the year ended together with the Report of the auditors. 2. To approve the Directors\\' Remuneration Report for the year ended 3. To declare a final dividend on the ordinary shares of the Company of per share. 4. To re-elect R. A. Murray, who retires by rotation pursuant to Article of the Company\\'s Articles of Association and who, being eligible, offers himself for re-election as a Director. 5. To re-elect G.P. Andrews, who was appointed since the last Annual General Meeting and retires in accordance with Article of the Company\\'s Articles of Association and who, being eligible, offers himself for re-election as a Director. 6. To re-elect L.C.N. Blackall, who was appointed since the last Annual General Meeting and retires in accordance with Article of the Company\\'s Articles of Association and who, being eligible, offers himself for re-election as a Director. 7. To re-elect J.L. Christmas, who was appointed since the last Annual General Meeting and retires in accordance with Article of the Company\\'s Articles of Association and who, being eligible, offers himself for re-election as a Director. 8. To re-elect M.E.S. Gibbins, who was appointed since the last Annual General Meeting and retires in accordance with Article of the Company\\'s Articles of Association and who, being eligible, offers himself for re-election as a Director. 9. To re-elect I.P. Martin, who was appointed since the last Annual General Meeting and retires in accordance with Article of the Company\\'s Articles of Association and who, being eligible, offers himself for re-election as a Director. To re-elect D.J. Nicholson, who was appointed since the last Annual General Meeting and retires in accordance with Article of the Company\\'s Articles of Association and who, being eligible, offers himself for re-election as a Director. To re-appoint the auditors, PricewaterhouseCoopers LLP, as auditors of the Company to hold office from the conclusion of the meeting until the conclusion of the next general meeting at which accounts are laid before the meeting. To authorise the Directors to determine the auditors\\' remuneration. Special business To consider and, if thought fit, to pass the following resolutions of which Resolution will be proposed as an ordinary resolution and Resolutions and as special resolutions: THAT the Directors be generally and unconditionally authorised in accordance with section of the Companies Act (the \"Act\") to exercise all powers of the Company to allot relevant securities (within the meaning of Section of the Act) up to an aggregate nominal amount of This authority shall expire on except that after the date when it expires the Directors may use this authority to allot relevant securities in accordance with the terms of any offer or agreement made by the Company before that date. All authorities previously conferred under Section of the Act shall be revoked. References in this Resolution to the Act, or to sections of the Act, shall, where the context requires and where appropriate, include references to the Companies Act and any corresponding or similar sections of the Companies Act it being the intention that, to the extent permitted by law, the authority contained in this Resolution shall continue in full force and effect notwithstanding any repeal of the Act or any relevant part of sections thereof. THAT the Directors be empowered, pursuant to section of the Companies Act (the \"Act\"), subject to the passing of Resolution set out in the notice of this meeting: to allot equity securities (within the meaning of section of the Act) for cash pursuant to the authority given by the said Resolution; and/or to allot equity securities where such allotment constitutes an allotment of securities by virtue of section of the Act; as if section ) of the Act did not apply to any such allotments or transfers, provided that this power shall be limited to the allotment or transfer of equity securities: in connection with or which are the subject of an offer or invitation, open for acceptance for a period fixed by the Directors, to holders of ordinary shares of each and such other equity securities of the Company as the Directors may determine on a fixed record date in proportion (as nearly as may be) to their respective holdings of such securities or in accordance with the rights attached thereto (but subject to such exclusions or other arrangements as the Directors may deem necessary or expedient to deal with fractional entitlements that would otherwise arise or legal or practical problems under the laws or requirements of any regulatory body or any stock exchange in any territory); and (ii) (otherwise than pursuant to sub-paragraph above) up to an aggregate nominal value of ; and shall expire at the conclusion of the next Annual General Meeting of the Company following the date of passing of this Resolution or months from the date this Resolution is passed, whichever is the earlier, except that after the date when it expires the Directors may use this authority to allot such equity securities in accordance with the terms of any offer or agreement made by the Company before that date. All authorities previously conferred under Section of the Act shall be revoked provided that such revocation shall not have retrospective effect. References in this Resolution to the Act, or to sections of the Act, shall, where the context requires and where appropriate, include references to the Companies Act and any corresponding or similar sections of the Companies Act it being the intention that, to the extent permitted by law, the authority contained in this Resolution shall continue in full force and effect notwithstanding any repeal of the Act or any relevant part of sections thereof. THAT the Company be and is generally and unconditionally authorised, pursuant to and in accordance with section of the Companies Act (the \"Act\")) to make market purchases (within the meaning of section ) of the Act) of up to an aggregate of ordinary shares of each in its capital (\"shares\") in such a manner and on such terms as the Directors may from time to time determine and may hold them as treasury shares provided that: the minimum price (exclusive of expenses) which may be paid for each share is ; the maximum price (exclusive of expenses) which may be paid for each share is not more than of the average of the middle market quotations derived from the London Stock Exchange Daily Official List for the five business days immediately preceding the date of purchase of the shares; the authority hereby conferred shall expire at the conclusion of the Annual General Meeting of the Company to be held in or months from the date this Resolution is passed, whichever is the earlier, unless such authority is revoked, varied or renewed by the Company in general meeting prior to such time; and the Company may, prior to the expiry of the authority hereby conferred, enter into a contract to purchase shares which will or may be completed or executed wholly or partly after such expiry, and may purchase shares pursuant to such contract. References in this Resolution to the Act, or to sections of the Act, shall, where the context requires and where appropriate, include references to the Companies Act and any corresponding or similar sections of the Companies Act it being the intention that, to the extent permitted by law, the authority contained in this Resolution shall continue in full force and effect notwithstanding any repeal of the Act or any relevant part of sections thereof. TO TRANSACT ANY OTHER BUSINESS BY ORDER OF THE BOARD Nicholas Conn Secretary Registered Office: Unit Sussex Manor Business Park Gatwick Road Crawley West Sussex RH10 9NH AVESCO GROUP PLC ANNUAL REPORT NOTES: 1. A member entitled to vote at the Meeting is entitled to appoint one or more proxies to exercise all or any of the member\\'s rights to attend, speak and vote at the meeting. The proxy need not be a member of the Company. A form of proxy is enclosed with this Notice for use at the Meeting. If a member appoints more than one proxy to attend the Meeting, each proxy must be appointed to exercise the rights attached to a different share or shares held by the member. 2. To be valid, the form of proxy (together with the power of attorney or other authority, if any, under which it is signed or a notarially certified copy of such power or authority) must be deposited at or posted to or otherwise received by the office of the registrars of the Company, Capita Registrars, The Registry, Beckenham Road, Beckenham, Kent, BR3 4TU to be received not less than hours before the time fixed for the Meeting or any adjournment thereof. Completion and return of the form of proxy will not preclude shareholders from attending or voting at the Meeting in person. 3. CREST members who wish to appoint a proxy or proxies by utilising the CREST electronic proxy appointment service may do so by utilising the procedures described in the CREST Manual. CREST Personal Members or other CREST sponsored members, and those CREST members who have appointed a voting service provider should refer to their CREST sponsor or voting service provider who will be able to take the appropriate action on their behalf. In order for a proxy appointment made by means of CREST to be valid, the appropriate CREST message (a `CREST Proxy Instruction\\') must be properly authenticated in accordance with Euroclear UK & Ireland Limited\\'s specifications and must contain the information required for such instructions, as described in the CREST Manual. The message, regardless of whether it relates to the appointment of a proxy or to an amendment to the instruction given to a previously appointed proxy must, in order to be valid, be transmitted so as to be received by the issuer\\'s agent (ID RA10) by the latest time for receipt of proxy appointments specified above. For this purpose, the time of receipt will be taken to be the time (as determined by the time stamp applied to the message by the CREST Applications Host) from which the issuer\\'s agent is able to retrieve the message by enquiry to CREST in the manner prescribed by CREST. The Company may treat as invalid a CREST Proxy Instruction in the circumstances set out in Regulation ) of the Uncertificated Securities Regulations CREST members and, where applicable, their CREST sponsors or voting service providers should note that CRESTCO does not make available special procedures in CREST for any particular messages. Normal system timings and limitations will therefore apply in relation to the input of CREST Proxy Instructions. It is the responsibility of the CREST member concerned to take or, if the CREST Member is a CREST personal member or sponsored member or has appointed a voting service provider to procure that his CREST sponsor or voting service provider take such action as shall be necessary to ensure that a message is transmitted by means of the CREST system by any particular time. In this connection, CREST members and, where applicable, their CREST sponsors or voting service providers are referred, in particular, to those sections of the CREST Manual concerning practical limitations of the CREST system and timings. 4. The Company specifies, pursuant to Regulation of the Uncertificated Securities Regulations that only those shareholders registered on the register of members of the Company as at .00am on shall be entitled to attend or vote at the Meeting in respect of the number of shares registered in their name at that time. Changes to entries on the register of members after .00am on shall be disregarded in determining the rights of any person to attend and vote at the Meeting. 5. If the Chairman, as a result of any proxy appointments, is given discretion as to how the votes the subject of those proxies are cast and the voting rights in respect of those discretionary proxies, when added to the interests in the Company\\'s securities already held by the Chairman, result in the Chairman holding such number of voting rights that he has a notifiable obligation under the Disclosure and Transparency Rules, the Chairman will make the necessary notifications to the Company and the Financial Services Authority. As a result, any member holding or more of the voting rights in the Company who grants the Chairman a discretionary proxy in respect of some or all of those voting rights and so would otherwise have a notification obligation under the Disclosure and Transparency Rules, need not make a separate notification to the Company and the Financial Services Authority. 6. The following documents are available for inspection by members at the registered office of the Company on weekdays (Saturdays, Sundays and public holidays excluded) during normal business hours, and will be available at the place of the meeting from not less than minutes before the Meeting to its conclusion: the Register of Directors\\' Interests; (ii) copies of the Directors\\' contracts of service; and (iii) copy deed dated relating to the grant of indemnities to Directors of Avesco Group plc. 7. If you have sold or otherwise transferred all of your ordinary shares, please forward this document, together with the accompanying form of proxy, at once to the purchaser or transferee or the bank, stockbroker, or other agent through whom the sale or transfer was effected for transmission to the purchaser or transferee. 8. Important notice to holders of bearer share warrants: You will not be entitled to attend or vote at the Annual General Meeting unless your Share Warrant is converted to registered form by lodging it with the Company Secretary not later than .00am on Information on the resolutions to be proposed at the Annual General Meeting Resolution To receive the report and accounts The Directors will present the report and accounts of the Company for the year ended Resolution To approve the Directors\\' Remuneration Report The Directors will present for approval the Directors\\' Remuneration Report for the year ended which appears on pages to Resolution To declare a final dividend Payment of the final dividend of per ordinary share, as recommended by the Directors, is subject to the approval of shareholders. Resolutions to (inclusive) Re-election of Directors In accordance with the Articles of Association of the Company, at each AGM one third (or the number nearest to one third) of the Directors must retire and stand for re-election. Accordingly, Mr Murray will retire at the AGM and stand for re-election. The Articles of Association also provide that any director appointed during the year shall hold office only until the next following AGM and then shall be eligible for re-election. Each of Mr Andrews, Mr Blackall, Mr Christmas, Mr Gibbins, Mr Martin and Mr Nicholson stands for re-election on this basis. Brief biographical details of the Directors seeking re-election, are set out on page The resolutions for the re-election of each Director will be voted on separately. Each of Messrs Andrews, Christmas, Martin and Nicholson has a contract capable of termination on months\\' notice except that, in the event of his termination in certain circumstances within months following a change of control of the Company, the Director is entitled to a severance payment not exceeding months\\' emoluments less emoluments received since the change of control. Each of Messrs Blackall, Gibbins and Murray has a contract with the Company, which is capable of termination on not less than three months\\' notice. AVESCO GROUP PLC ANNUAL REPORT NOTICE OF MEETING Resolutions and Reappointment and Remuneration of Auditors Resolution is a resolution to reappoint PricewaterhouseCoopers LLP as the Company\\'s auditors. Resolution is to authorise the Directors to determine the auditors\\' remuneration. Resolution Authority to allot shares The authority given to the Directors to allot further shares in the capital of the Company requires the prior authorisation of the shareholders in General Meeting under Section Companies Act Upon the passing of Resolution the Directors will have authority to allot the unissued ordinary share capital being shares of each, which is approximately of the current issued share capital. This authority will expire on The Directors have no present intention of exercising this authority other than as may be required under the Company\\'s employee share schemes. Resolution Disapplication of pre-emption rights The passing of Resolution will give the Directors authority under Section Companies Act to allot, for cash, up to shares of each (being approximately of the current issued share capital) without being required first to offer such securities to existing shareholders in accordance with the statutory pre-emption rights. This authority will expire months from the date of the passing of the Resolution or, if earlier, at the conclusion of the next following Annual General Meeting of the Company. This authority will also extend to any subsequent sale of equity securities which have been held in treasury. The limits, which apply to this authority, will apply as a total to all and any allotments of shares and sales of treasury shares pursuant to this authority. The Resolution will give the Company greater flexibility when considering future opportunities. A disapplication of pre-emption rights in respect of of the issued share capital is approximately the same percentage as was approved at the EGM of the Company held in April A limit of of the issued share capital is considered appropriate having regard to the disproportionate level of costs that may be incurred by the Company in the case of a pre-emptive issue of less than and is consistent with market practice on AIM. However, the interests of existing shareholders will be protected as, except in the case of an issue to shareholders (or sale of treasury shares) in proportion to shareholdings or the allotment of shares under (or transfer of treasury shares pursuant to) the Company\\'s employee share schemes, the proportionate interests of shareholders cannot, without their consent, be reduced by more than by the issue for cash of new shares or sale of treasury shares. Other than as may be required under the Company\\'s employee share schemes, the Directors have no present intention to allot any part of the unissued share capital of the Company or, without the prior approval of the Company in general meeting, to make any issue which would effectively alter the control of the Company or the nature of its business. Resolution Authority to purchase shares The Articles of Association of the Company contain provision, with the authority of the shareholders, for the Company to make market purchases of its own shares. It is proposed that the Company be authorised to purchase up to approximately of its issued share capital subject to the limitations set out in Resolution The Directors intend to use up to the remaining from the sale of the 2waytraffic shares to undertake additional market purchases of the Company\\'s own shares although they only propose to do so if satisfied that such purchases would result in an increase in earnings per share and would be in the best interests of the shareholders generally. Following the introduction of the Company (Acquisition of Own Shares) (Treasury Shares) Regulations certain listed companies can now, subject to certain restrictions, hold up to per cent. of their own shares acquired by way of market purchase in treasury, rather than cancelling them. The Company would consider holding any of its own shares which it purchases pursuant to the authority conferred by this Resolution as treasury shares. This would allow the Company to sell shares out of treasury, providing the Company with the ability to replenish its distributable reserves. No dividends will be paid on any shares held in treasury and no voting rights will attach to such shares. It would also be possible for the Company to transfer shares out of treasury pursuant to an employee share scheme. AVESCO GROUP PLC ANNUAL REPORT AVESCO GROUP PLC FORM OF PROXY FORM OF PROXY FOR USE AT THE ANNUAL GENERAL MEETING TO BE HELD AT Unit Sussex Manor Business Park, Gatwick Road, Crawley, West Sussex RH10 9NH at am on Please read the Notice convening the Meeting and the accompanying notes carefully before completing this Form of Proxy. I/We (Please use block capitals) of being members of Avesco Group plc (the \"Company\") HEREBY APPOINT the Chairman of the Meeting* to act as my/our proxy to attend and to vote for me/us on my/our behalf as indicated below at the Annual General Meeting of the Company to be held on and at any adjournment thereof. Please indicate with an \\'X\\' in the spaces below how you wish your votes to be cast in respect of each of the resolutions which are set out in the Notice convening the Meeting. The \"Withheld\" option is to enable you to instruct your proxy to abstain from voting on a particular resolution. A vote withheld is not a vote in law and will not be counted in the calculation of the proportion of votes \"For\" or \"Against\" a resolution. If no specified direction as to voting is given, the proxy will vote or abstain as he/she thinks fit. Resolutions For Against Withheld To receive the Report and Accounts To approve the Directors\\' Remuneration Report To declare a final dividend To re-elect Mr R.A. Murray as a Director To re-elect Mr G.P. Andrews as a Director To re-elect Mr L.C.N. Blackall as a Director To re-elect Mr J.L. Christmas as a Director To re-elect Mr M.E.S. Gibbins as a Director To re-elect Mr I.P. Martin as a Director To re-elect Mr D.J. Nicholson as a Director. To re-appoint PricewaterhouseCoopers LLP as auditors To authorise the Directors to determine the auditors\\' remuneration To authorise the Directors to allot relevant securities To disapply pre-emption rights To authorise the Company to make market purchases of its own shares I/We authorise my/our proxy to act at his/her discretion in relation to any other business arising at the Meeting (including any resolution to adjourn the Meeting). Dated this day of Signature *If you wish to appoint some other person (who need not be a member) to be your proxy, delete the words \"the Chairman of the Meeting\" and insert the name of the proxy. Notes: To be valid, this form, duly completed and signed, (together with the power of attorney or other authority, if any, under which it is signed or a notarially certified copy of such power or authority) must be deposited at or posted to the office of the Company\\'s registrars, Capita Registrars, The Registry, Beckenham Road, Beckenham, Kent, BR3 4TU to be received not less than hours before the time fixed for the Meeting. CREST members wishing to appoint one or more proxies or to give an instruction to a proxy (whether previously appointed or otherwise) via the CREST system must ensure that, in order for such CREST Proxy Instruction to be effective, it is received by the issuer\\'s agent, (ID number RA10) not less than hours before the time fixed for the Meeting or any adjournment thereof, together with any power of attorney or other authority under which it is sent. For further information relating to the CREST proxy system, please refer to the CREST manual and the notes to the Notice convening the Meeting. Any alteration made in this form must be initialled by the signatory. If the appointor is a corporation, this form must be executed under its common seal or under the hand of an officer or attorney duly authorised on its behalf. In the case of joint holders a vote of the senior joint shareholder who tenders a vote whether in person or by proxy shall be accepted to the exclusion of the votes of the other holder or holders of the share and for this purpose seniority shall be determined by the order in which the names stand in the register of members. Completion and return of this form does not preclude the shareholder from attending the meeting and voting in person. Important notice to holders of bearer share warrants: You will not be entitled to attend or vote at the Annual General Meeting unless your Share Warrant is converted to registered form by lodging it with the Company Secretary not later than .00am on FOLD BUSINESS REPLY SERVICE Licence No. MB122 CAPITA REGISTRARS FOLD (PROXIES) FOLD P.O. BOX BECKENHAM KENT BR3 4BR FOLD AVESCO GROUP PLC ANNUAL REPORT PRINCIPAL OFFICES Avesco Group plc Unit Sussex Manor Business Park Gatwick Road Crawley, West Sussex RH10 9NH Tel: + Fax: + e-mail:  web: Chairman: Michael Gibbins Chief Executive: Ian Martin Finance Director: John Christmas Creative Technology CT London incorporating Dimension & Screenco Unit Sussex Manor Business Park Gatwick Road Crawley, West Sussex RH10 9NH Tel: + Fax: + e-mail:  web: Managing Director: Charles Whittock CT Germany Seilerstrasse Nürtingen, Germany Tel: + Fax: + e-mail:  web: Managing Director: Georg Rössler CT Germany Rudolf-Diesel-Str. 3 D Mettmann, Germany Tel: + Fax: + e-mail:  web: Managing Director: Georg Rössler CT North America Nordhoff Street Chatsworth, CA USA Tel: + Fax: + e-mail:  web: CEO: Graham Andrews CT Los Angeles Nordhoff Street Chatsworth, CA USA Tel: + Fax: + e-mail:  web: CEO: Graham Andrews CT San Francisco Hangar Monarch Street Alameda, CA USA Tel: + Fax: + e-mail:  web: General Manager: David Skaff CT Chicago Delta Parkway Schiller Park, Illinois IL USA Tel: + Fax: + e-mail:  web: General Manager: Jeff Meyer CT Las Vegas Patrick Commerce Center Building E, South Mcleod Drive Las Vegas, NV USA Tel: + e-mail:  web: General Manager: Herb Brandt CT Dubai Unit Building Dubai Investment Park Jebel Ali, PO Box Dubai, UAE Tel: + Fax: + e-mail:  web: General Manager: Damien McGurn CT Shanghai Room Block The Mansion, Shanxi North Road Block Shanghai China Tel + Fax + e-mail:  web: General Manager: Tom Hui Full Service MCL Birmingham Unit Catesby Park Eckersall Road Kings Norton Birmingham 8SE Tel: + Fax: + e-mail:  web: Managing Director: David Nicholson Assistant General Manager: Mark Simkin MCL Birmingham NEC Unit National Exhibition Centre 2nd Exhibition Avenue, Birmingham 1PJ Tel: + Fax: + e-mail:  web: General Manager: Chris Bramwell MCL London Unit Alliance Court Alliance Road, London 0RB Tel: Fax: e-mail:  web: General Manager: Jon Dasent MCL Manchester Lord Byron Square Stowell Technical Park Salford Quays Manchester 2XH Tel: + Fax: + e-mail:  web: General Manager: Jamie McAffer MCL Edinburgh Unit The Clocktower, South Gyle Crescent Flassches Yard Edinburgh EH12 9LB Tel: + Fax: + e-mail:  web: General Managers: Ken Robertson / Darren Coutts MCL Glasgow Unit C, Moorpark Central Broomloan Road, Ibrox Glasgow 2BS Tel: + Fax: + e-mail:  web: General Manager: Gordon Mackinnon Action Gildo Pastor Center rue du Gabian MC Monaco Tel: + Fax: + e-mail:  web: Managing Director: Philippe Paeleman JVR Audiovisual Rucphensebaan /Postbus GC Roosendaal Netherlands Tel: + Fax: + e-mail:  web: Managing Director: Christ Elsten JVR Audiovisual Zeemanstraat XR Barendrecht Netherlands Tel: + Fax: + e-mail:  web: Managing Director: Christ Elsten JVR Audiovisual Madridstraat RK Lijnden Netherlands Tel: + Fax: + e-mail:  web: Managing Director: Christ Elsten JVR Audiovisual Sumatralaan Postbus AE Hilversum Netherlands Tel: + Fax: + e-mail:  web: Managing Director: Christ Elsten Broadcast Services Presteigne Ltd Unit Manor Gate Manor Royal Crawley, West Sussex RH10 9SX Tel: + Fax: + e-mail:  web: Managing Director: Michael Ransome Presteigne Manchester Pavilion Innovation Forum Frederick Road, Salford Manchester 6AR Tel: + Fax: + e-mail:  web: Branch Manager: Paul Munn Presteigne Cologne Hans-Böckler-Strasse D Hürth Germany Tel: + Fax: + e-mail:  web: Managing Director: Thomas Gehring Presteigne Munich Niederlassung München Münchener Strasse D Isamaning Germany Tel: + Fax: + e-mail:  web: Branch Manager: Jan Wackerow Presteigne Netherlands Fransiscusweg SK Hilversum Netherlands Tel: + Fax: + e-mail:  web: General Manager: Geert Paul Slee The Fountain Studios Wembley Park Drive Wembley HA9 8HP Tel: + Fax: + e-mail:  web: Managing Director: Mariana Spater Corporate photography Andrew Shaylor Print Median Print Limited This report is printed onto /350gram ERA SILK. ERA SILK is composed of Post Consumer Waste and FSC Certified Recycled Material. Avesco Group plc Unit Sussex Manor Business Park Gatwick Road Crawley, West Sussex RH10 9NH Tel: + Fax: + e-mail:  web:'"
      ]
     },
     "execution_count": 41,
     "metadata": {},
     "output_type": "execute_result"
    }
   ],
   "source": [
    "df_inputs['prompt'].values[-1]"
   ]
  },
  {
   "cell_type": "code",
   "execution_count": 24,
   "id": "99b16252-0949-4874-8572-f0164f40a22e",
   "metadata": {},
   "outputs": [
    {
     "name": "stdout",
     "output_type": "stream",
     "text": [
      "61466756.txt {\n",
      "'Notes' : {\n",
      "    'sentence' : \"The financial statements have been prepared in accordance with Singapore Financial Reporting Standards (\\\"FRS\\\")\",\n",
      "    'standard' : \"Singapore Financial Reporting Standards (\\\"FRS\\\")\"},\n",
      "'Auditor' : {\n",
      "    'sentence' : \"In our opinion, the consolidated financial statements of the Group and the balance sheet and statement of changes in equity of the Company are properly drawn up in accordance with the provisions of the Act and Singapore Financial Reporting Standards so as to give a true and fair view of the state of affairs of the Group and of the Company as at 31 December 2010 and the results, changes in equity and cash flows of the Group and the changes in equity of the Company for the year ended on that date.\",\n",
      "    'standard' : \"Singapore Financial Reporting Standards\"}\n",
      "}\n",
      "\n",
      "61511488.txt {\n",
      "  \"Notes\": {\n",
      "    \"sentence\": \"The consolidated financial statements of the Group have been prepared in accordance with Singapore Financial Reporting Standards (“FRS”).\",\n",
      "    \"standard\": \"Singapore Financial Reporting Standards (“FRS”)\"\n",
      "  },\n",
      "  \"Auditor\": {\n",
      "    \"sentence\": \"In our opinion, the financial statements of the Group and the balance sheet and statement of changes in equity of the Company are properly drawn up in accordance with the provisions of the Act and Singapore Financial Reporting Standards so as to give a true and fair view of the state of affairs of the Group and of the Company as at 31 March 2023 and the results, changes in equity and cash flows of the Group and the changes in equity of the Company for the year ended on that date.\",\n",
      "    \"standard\": \"Singapore Financial Reporting Standards\"\n",
      "  }\n",
      "}\n",
      "\n",
      "62609130.txt {\n",
      "'Notes' : {\n",
      "    'sentence' : \"The consolidated financial statements and disclosures have been prepared in accordance with the communiqué numbered II-14.1 “Communiqué on the Principles of Financial Reporting in Capital Markets” (“the Communiqué”) announced by the Capital Markets Board (“CMB”) (hereinafter will be referred to as “the CMB Reporting Standards”) on June 13, 2013 which is published on Official Gazette numbered 28676. Companies should apply Turkish Accounting Standards/Turkish Financial Reporting Standards and interpretations regarding these standards as adopted by Public Oversight Accounting and Auditing Standards Authority of Turkey (“POA”).\",\n",
      "    'standard' : \"the communiqué numbered II-14.1 “Communiqué on the Principles of Financial Reporting in Capital Markets” (“the Communiqué”) announced by the Capital Markets Board (“CMB”) (hereinafter will be referred to as “the CMB Reporting Standards”), Turkish Accounting Standards/Turkish Financial Reporting Standards and interpretations regarding these standards as adopted by Public Oversight Accounting and Auditing Standards Authority of Turkey (“POA”)\"},\n",
      "'Auditor' : {\n",
      "    'sentence' : \"Our responsibility is to express an opinion on these consolidated financial statements based on our audit. Our audit was conducted in accordance with standards on auditing issued by the Capital Markets Board of Turkey and Independent Auditing Standards, which is a part of the Turkish Standards on Auditing issued by the Public Oversight Accounting and Auditing Standards Authority.\",\n",
      "    'standard' : \"standards on auditing issued by the Capital Markets Board of Turkey and Independent Auditing Standards, which is a part of the Turkish Standards on Auditing issued by the Public Oversight Accounting and Auditing Standards Authority\"}\n",
      "}\n",
      "\n",
      "64866413.txt {\n",
      "  \"Notes\": {\n",
      "    \"sentence\": \"The consolidated financial statements have been prepared in accordance with the communiqué numbered II-14.1 “Communiqué on the Principles of Financial Reporting in Capital Markets” (“the Communiqué”) announced by the Capital Markets Board (“CMB”) (hereinafter will be referred to as “the CMB Reporting Standards”) on June 13, 2013 which is published on Official Gazette numbered 28676. Companies should apply Turkish Accounting Standards/Turkish Financial Reporting Standards and interpretations regarding these standards as adopted by Public Oversight Accounting and Auditing Standards Authority of Turkey (“POA”).\",\n",
      "    \"standard\": \"the communiqué numbered II-14.1 “Communiqué on the Principles of Financial Reporting in Capital Markets” (“the Communiqué”) announced by the Capital Markets Board (“CMB”) (hereinafter will be referred to as “the CMB Reporting Standards”) on June 13, 2013 which is published on Official Gazette numbered 28676. Companies should apply Turkish Accounting Standards/Turkish Financial Reporting Standards and interpretations regarding these standards as adopted by Public Oversight Accounting and Auditing Standards Authority of Turkey (“POA”)\"\n",
      "  },\n",
      "  \"Auditor\": {\n",
      "    \"sentence\": \"In our opinion, based on our findings of our audit, the consolidated financial statements comply with the IFRS as adopted by the EU, the additional requirements of German commercial law pursuant to § 315a (1) HGB and IFRS as issued by the IASB\",\n",
      "    \"standard\": \"IFRS as adopted by the EU, the additional requirements of German Commercial law pursuant to § 315a (1) HGB and IFRS as issued by the IASB\"\n",
      "  }\n",
      "}\n",
      "\n",
      "61015098.txt {\n",
      "'Notes' : {\n",
      "    'sentence' : \"The financial report is a general purpose financial report which has been prepared in accordance with Australian\\nAccounting Standards (\\u201cAASBs\\u201d) adopted by the Australian Accounting Standards Board (\\u201cAASB\\u201d) and the\\nCorporations Act 2001. International Financial Reporting Standards (\\u201cIFRSs\\u201d) form the basis of Australian Accounting\\nStandards (\\u201cAASBs\\u201d) adopted by the AASB, and for the purpose of this report are called Australian equivalents to IFRS\\n(\\u201cAIFRS\\u201d) to distinguish from previous Australian GAAP.\",\n",
      "    'standard': \"Australian Accounting Standards (\\u201cAASBs\\u201d) adopted by the Australian Accounting Standards Board (\\u201cAASB\\u201d) and the\\nCorporations Act 2001\"},\n",
      "'Auditor' : {\n",
      "    'sentence': \"complying with Australian Accounting Standards and the Corporations Regulations 2001; and\",\n",
      "    'standard': \"Australian Accounting Standards and the Corporations Regulations 2001\"}\n",
      "}\n",
      "\n"
     ]
    }
   ],
   "source": [
    "for row in df_inputs.index:\n",
    "    print(df_inputs.loc[row].filename, df_inputs.loc[row][\"output\"].choices[0].message.content)\n",
    "    print()"
   ]
  },
  {
   "cell_type": "code",
   "execution_count": 36,
   "id": "c6113bb9-1948-4f85-827d-46cf2529c712",
   "metadata": {},
   "outputs": [],
   "source": [
    "files = df_inputs.filename.values\n",
    "labels = test_df[test_df.filename.isin(files)]"
   ]
  },
  {
   "cell_type": "code",
   "execution_count": 37,
   "id": "b229a63f-c3cf-428e-93fa-c2d30c8b0857",
   "metadata": {},
   "outputs": [
    {
     "data": {
      "text/html": [
       "<div>\n",
       "<style scoped>\n",
       "    .dataframe tbody tr th:only-of-type {\n",
       "        vertical-align: middle;\n",
       "    }\n",
       "\n",
       "    .dataframe tbody tr th {\n",
       "        vertical-align: top;\n",
       "    }\n",
       "\n",
       "    .dataframe thead th {\n",
       "        text-align: right;\n",
       "    }\n",
       "</style>\n",
       "<table border=\"1\" class=\"dataframe\">\n",
       "  <thead>\n",
       "    <tr style=\"text-align: right;\">\n",
       "      <th></th>\n",
       "      <th>cc_iso3</th>\n",
       "      <th>filename</th>\n",
       "      <th>sentence</th>\n",
       "      <th>term</th>\n",
       "      <th>source</th>\n",
       "    </tr>\n",
       "  </thead>\n",
       "  <tbody>\n",
       "    <tr>\n",
       "      <th>8</th>\n",
       "      <td>SGP</td>\n",
       "      <td>61466756.txt</td>\n",
       "      <td>In our opinion, the the consolidated financial...</td>\n",
       "      <td>Singapore Financial Reporting Standards</td>\n",
       "      <td>audit</td>\n",
       "    </tr>\n",
       "    <tr>\n",
       "      <th>9</th>\n",
       "      <td>SGP</td>\n",
       "      <td>61466756.txt</td>\n",
       "      <td>The consolidated financial statements of the ...</td>\n",
       "      <td>Singapore Financial Reporting Standards (“FRS”)</td>\n",
       "      <td>notes</td>\n",
       "    </tr>\n",
       "    <tr>\n",
       "      <th>10</th>\n",
       "      <td>SGP</td>\n",
       "      <td>61511488.txt</td>\n",
       "      <td>In our opinion, the financial statements of t...</td>\n",
       "      <td>Singapore Financial Reporting Standards</td>\n",
       "      <td>audit</td>\n",
       "    </tr>\n",
       "    <tr>\n",
       "      <th>11</th>\n",
       "      <td>SGP</td>\n",
       "      <td>61511488.txt</td>\n",
       "      <td>The consolidated financial statements of the G...</td>\n",
       "      <td>Singapore Financial Reporting Standards (\"FRS\")</td>\n",
       "      <td>notes</td>\n",
       "    </tr>\n",
       "    <tr>\n",
       "      <th>14</th>\n",
       "      <td>TUR</td>\n",
       "      <td>62609130.txt</td>\n",
       "      <td>the consolidated financial statements present ...</td>\n",
       "      <td>Turkish Accounting Standards.</td>\n",
       "      <td>audit</td>\n",
       "    </tr>\n",
       "    <tr>\n",
       "      <th>15</th>\n",
       "      <td>TUR</td>\n",
       "      <td>62609130.txt</td>\n",
       "      <td>The accompanying consolidated financial statem...</td>\n",
       "      <td>Turkish Accounting Standards</td>\n",
       "      <td>notes</td>\n",
       "    </tr>\n",
       "    <tr>\n",
       "      <th>18</th>\n",
       "      <td>IND</td>\n",
       "      <td>64866413.txt</td>\n",
       "      <td>These consolidated financial statements have b...</td>\n",
       "      <td>Generally Accepted Accounting \\nPrinciples in ...</td>\n",
       "      <td>notes</td>\n",
       "    </tr>\n",
       "    <tr>\n",
       "      <th>19</th>\n",
       "      <td>IND</td>\n",
       "      <td>64866413.txt</td>\n",
       "      <td>the aforesaid \\nstandalone financial statement...</td>\n",
       "      <td>accounting principles generally \\naccepted in ...</td>\n",
       "      <td>audit</td>\n",
       "    </tr>\n",
       "    <tr>\n",
       "      <th>32</th>\n",
       "      <td>GBR</td>\n",
       "      <td>61015098.txt</td>\n",
       "      <td>These financial statements have been prepared ...</td>\n",
       "      <td>United Kingdom accounting standards</td>\n",
       "      <td>notes</td>\n",
       "    </tr>\n",
       "    <tr>\n",
       "      <th>33</th>\n",
       "      <td>GBR</td>\n",
       "      <td>61015098.txt</td>\n",
       "      <td>the financial statements give a true and fair ...</td>\n",
       "      <td>United Kingdom Generally Accepted Accounting P...</td>\n",
       "      <td>audit</td>\n",
       "    </tr>\n",
       "  </tbody>\n",
       "</table>\n",
       "</div>"
      ],
      "text/plain": [
       "   cc_iso3      filename                                           sentence  \\\n",
       "8      SGP  61466756.txt  In our opinion, the the consolidated financial...   \n",
       "9      SGP  61466756.txt   The consolidated financial statements of the ...   \n",
       "10     SGP  61511488.txt   In our opinion, the financial statements of t...   \n",
       "11     SGP  61511488.txt  The consolidated financial statements of the G...   \n",
       "14     TUR  62609130.txt  the consolidated financial statements present ...   \n",
       "15     TUR  62609130.txt  The accompanying consolidated financial statem...   \n",
       "18     IND  64866413.txt  These consolidated financial statements have b...   \n",
       "19     IND  64866413.txt  the aforesaid \\nstandalone financial statement...   \n",
       "32     GBR  61015098.txt  These financial statements have been prepared ...   \n",
       "33     GBR  61015098.txt  the financial statements give a true and fair ...   \n",
       "\n",
       "                                                 term source  \n",
       "8             Singapore Financial Reporting Standards  audit  \n",
       "9     Singapore Financial Reporting Standards (“FRS”)  notes  \n",
       "10            Singapore Financial Reporting Standards  audit  \n",
       "11    Singapore Financial Reporting Standards (\"FRS\")  notes  \n",
       "14                     Turkish Accounting Standards.   audit  \n",
       "15                       Turkish Accounting Standards  notes  \n",
       "18  Generally Accepted Accounting \\nPrinciples in ...  notes  \n",
       "19  accounting principles generally \\naccepted in ...  audit  \n",
       "32                United Kingdom accounting standards  notes  \n",
       "33  United Kingdom Generally Accepted Accounting P...  audit  "
      ]
     },
     "execution_count": 37,
     "metadata": {},
     "output_type": "execute_result"
    }
   ],
   "source": [
    "labels['cc_iso3 filename sentence term source'.split()]"
   ]
  }
 ],
 "metadata": {
  "kernelspec": {
   "display_name": "venv_gpt_api",
   "language": "python",
   "name": "venv_gpt_api"
  },
  "language_info": {
   "codemirror_mode": {
    "name": "ipython",
    "version": 3
   },
   "file_extension": ".py",
   "mimetype": "text/x-python",
   "name": "python",
   "nbconvert_exporter": "python",
   "pygments_lexer": "ipython3",
   "version": "3.9.5"
  }
 },
 "nbformat": 4,
 "nbformat_minor": 5
}

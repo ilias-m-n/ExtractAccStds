{
 "cells": [
  {
   "cell_type": "markdown",
   "id": "ed18f5c3-f965-4ab2-9c8a-e06ac804ba16",
   "metadata": {},
   "source": [
    "# Imports"
   ]
  },
  {
   "cell_type": "code",
   "execution_count": 84,
   "id": "55ca3600-057a-4c30-bde6-24e9ddb3dca6",
   "metadata": {},
   "outputs": [
    {
     "data": {
      "text/html": [
       "<style>.container { width:100% !important; }</style>"
      ],
      "text/plain": [
       "<IPython.core.display.HTML object>"
      ]
     },
     "metadata": {},
     "output_type": "display_data"
    },
    {
     "name": "stdout",
     "output_type": "stream",
     "text": [
      "The autoreload extension is already loaded. To reload it, use:\n",
      "  %reload_ext autoreload\n"
     ]
    }
   ],
   "source": [
    "import os\n",
    "\n",
    "import pandas as pd\n",
    "import matplotlib.pyplot as plt\n",
    "\n",
    "from collections import Counter\n",
    "from dotenv import load_dotenv, find_dotenv\n",
    "from openai import OpenAI\n",
    "\n",
    "import utility.utility as util\n",
    "import utility.prompts as prompts\n",
    "import utility.text_cleaning as tc\n",
    "\n",
    "import json\n",
    "\n",
    "# Progress Bars:\n",
    "from tqdm.notebook import tqdm_notebook\n",
    "tqdm_notebook.pandas()\n",
    "\n",
    "# Below import and instructions simply for display\n",
    "from IPython.display import display, HTML\n",
    "display(HTML(\"<style>.container { width:100% !important; }</style>\"))\n",
    "\n",
    "# resets import once changes have been applied\n",
    "%load_ext autoreload\n",
    "%autoreload 2"
   ]
  },
  {
   "cell_type": "markdown",
   "id": "70d367fc-9bbf-40b1-a278-034de3159195",
   "metadata": {},
   "source": [
    "# Configuration"
   ]
  },
  {
   "cell_type": "code",
   "execution_count": 110,
   "id": "435d2366-efc3-424f-991c-c8567af09288",
   "metadata": {},
   "outputs": [
    {
     "ename": "SyntaxError",
     "evalue": "EOF while scanning triple-quoted string literal (2320313233.py, line 25)",
     "output_type": "error",
     "traceback": [
      "\u001b[1;36m  Cell \u001b[1;32mIn[110], line 25\u001b[1;36m\u001b[0m\n\u001b[1;33m    \"\"\"\u001b[0m\n\u001b[1;37m       ^\u001b[0m\n\u001b[1;31mSyntaxError\u001b[0m\u001b[1;31m:\u001b[0m EOF while scanning triple-quoted string literal\n"
     ]
    }
   ],
   "source": [
    "\"\"\"\n",
    "\"gpt-3.5-turbo-0125\"\n",
    "\"gpt-4-0125-preview\"\n",
    "\"\"\"\n",
    "_model = \"gpt-3.5-turbo-0125\"\n",
    "\n",
    "\"\"\"\n",
    "\n",
    "\"\"\"\n",
    "_min_ratio = .5\n",
    "\n",
    "\"\"\"\n",
    "Few shot settings\n",
    "\"\"\"\n",
    "_incl_sentence = True\n",
    "_flag_UA = True\n",
    "_flag_segmented = True\n",
    "\n",
    "\"\"\"\n",
    "Segmentation Settings\n",
    "\"\"\"\n",
    "_max_token_num = 15900\n",
    "_overlay = 200\n",
    "\n",
    "\"\"\"\n",
    "\n",
    "\"\"\"\n",
    "_examples_file = \"examples_altered.xlsx\"\n",
    "_test_file ="
   ]
  },
  {
   "cell_type": "markdown",
   "id": "6191eb41-6672-4646-91d9-a78077e16b5b",
   "metadata": {},
   "source": [
    "# Aux Info"
   ]
  },
  {
   "cell_type": "code",
   "execution_count": 109,
   "id": "e4f6cc64-571e-4a57-87ad-6587718395e7",
   "metadata": {},
   "outputs": [],
   "source": [
    "cost_per_1k_tokens = {\"gpt-3.5-turbo-0125\":0.0005, \"gpt-4-0125-preview\":0.01}"
   ]
  },
  {
   "cell_type": "markdown",
   "id": "510e69d9-12dc-4833-b45e-b92e7ee36786",
   "metadata": {},
   "source": [
    "# Directory and File Paths"
   ]
  },
  {
   "cell_type": "code",
   "execution_count": 86,
   "id": "a9a32730-f4aa-4c3d-a2ac-b005f00f1318",
   "metadata": {},
   "outputs": [],
   "source": [
    "path_data = os.path.join(os.getcwd(), \"data\")\n",
    "\n",
    "path_stmts = os.path.join(path_data, \"predict\")\n",
    "\n",
    "file_excel = os.path.join(path_data, _examples_file)"
   ]
  },
  {
   "cell_type": "markdown",
   "id": "a1fee99c-d08d-4034-81c8-10325479bc71",
   "metadata": {},
   "source": [
    "# Load Environment Variables"
   ]
  },
  {
   "cell_type": "code",
   "execution_count": 87,
   "id": "650e0255-3997-4fd2-ab7a-3f761e231c93",
   "metadata": {},
   "outputs": [],
   "source": [
    "_ = load_dotenv(find_dotenv())"
   ]
  },
  {
   "cell_type": "markdown",
   "id": "1cd68b02-d5b3-4c20-8fcb-06eaaaec79c1",
   "metadata": {},
   "source": [
    "# Load Data"
   ]
  },
  {
   "cell_type": "code",
   "execution_count": 88,
   "id": "565756c2-41cb-4937-8496-992742f248e9",
   "metadata": {},
   "outputs": [],
   "source": [
    "df_meta = pd.read_excel(file_excel, sheet_name=\"Sheet1\")"
   ]
  },
  {
   "cell_type": "markdown",
   "id": "7bffa26a-a09d-4719-a5c8-895091d8ed07",
   "metadata": {},
   "source": [
    "# Data Prep"
   ]
  },
  {
   "cell_type": "code",
   "execution_count": 89,
   "id": "b101e23f-10a9-409b-9d46-b76daa6d7db2",
   "metadata": {},
   "outputs": [],
   "source": [
    "df_meta.dropna(axis=1, inplace=True, thresh = int(df_meta.shape[0]*.1))\n",
    "df_meta.drop(columns=[\"checked by\", \"new\", \"manual\", \"page (txt)\", \"manual\", \"note\"], inplace=True)\n",
    "df_meta[\"filename\"] = df_meta[\"filename\"].astype(\"str\") + \".txt\"\n",
    "df_meta[\"filepath\"] = df_meta[\"filename\"].apply(lambda x: os.path.join(path_stmts, x))"
   ]
  },
  {
   "cell_type": "markdown",
   "id": "f3c10086-9590-4f4b-b529-36327cb227cb",
   "metadata": {},
   "source": [
    "# Split \"Train\" \"Test\""
   ]
  },
  {
   "cell_type": "code",
   "execution_count": 90,
   "id": "26891f2d-4dbc-4a3b-ac58-b9b34767966e",
   "metadata": {},
   "outputs": [],
   "source": [
    "prompt_indeces = [0,1,2,3,4,5,6,7,16,17,20,21,26,27,34,35,36,37]\n",
    "test_indeces = [i for i in df_meta.index if i not in prompt_indeces]"
   ]
  },
  {
   "cell_type": "code",
   "execution_count": 91,
   "id": "2edac6a1-3988-4a72-bc8e-7750084d9e46",
   "metadata": {},
   "outputs": [],
   "source": [
    "# Fill this dataframe with the examples used in few-shot prompting\n",
    "prompt_df = df_meta.iloc[prompt_indeces,:].copy()\n",
    "# Fill this dataframe with the inference samples\n",
    "test_df = df_meta.iloc[test_indeces,:].copy()\n",
    "del df_meta"
   ]
  },
  {
   "cell_type": "markdown",
   "id": "d41d9e54-1880-42cc-baf2-15b24df0a42c",
   "metadata": {},
   "source": [
    "# Construct Base Prompt"
   ]
  },
  {
   "cell_type": "markdown",
   "id": "f06ca7f7-e721-4195-b6f8-cbe4ca372a06",
   "metadata": {},
   "source": [
    "### Extract most common terms:"
   ]
  },
  {
   "cell_type": "code",
   "execution_count": 93,
   "id": "fd904905-db1c-4595-b949-49e0015ffc1a",
   "metadata": {},
   "outputs": [],
   "source": [
    "# Extract terms that are commonly found in respective sections\n",
    "terms_auditor = util.concat_terms(util.det_commonly_used_terms(prompt_df[\"terms_audit\"], min_ratio=_min_ratio), \", \")\n",
    "terms_notes = util.concat_terms(util.det_commonly_used_terms(prompt_df[\"terms_notes\"], min_ratio=_min_ratio), \", \")\n",
    "#terms_acc_stds = util.concat_terms(util.det_commonly_used_terms(df_meta[\"term\"], min_ratio=0), \" - \")\n",
    "\n",
    "# Add terms to prompt\n",
    "section_terms_auditor = prompts.common_terms_section_auditor.format(terms_auditor = terms_auditor)\n",
    "section_terms_notes = prompts.common_terms_section_notes.format(terms_notes = terms_notes)\n",
    "#section_terms_acc_stds = prompts.common_terms_accounting_stds.format(acc_std = terms_acc_stds)"
   ]
  },
  {
   "cell_type": "markdown",
   "id": "0fb8c322-7155-40cc-a674-6a1b3bacc861",
   "metadata": {},
   "source": [
    "### System Context"
   ]
  },
  {
   "cell_type": "code",
   "execution_count": 97,
   "id": "137e1785-7b1a-4001-b623-7c225128d5de",
   "metadata": {},
   "outputs": [],
   "source": [
    "system_unsegmented = prompts.system_context_basic + \\\n",
    "         prompts.task_descr_1 + \\\n",
    "         section_terms_auditor + \\\n",
    "         section_terms_notes + \\\n",
    "         prompts.instruction_1 + \\\n",
    "         prompts.answer_format1\n",
    "\n",
    "system_segmented = prompts.system_context_basic + \\\n",
    "         prompts.task_descr_2 + \\\n",
    "         section_terms_auditor + \\\n",
    "         section_terms_notes + \\\n",
    "         prompts.instruction_2 + \\\n",
    "         prompts.answer_format2\n",
    "\n",
    "system = system_segmented"
   ]
  },
  {
   "cell_type": "markdown",
   "id": "6b3d907e-397b-4cc1-8bdd-343ed642a327",
   "metadata": {},
   "source": [
    "### FewShot examples"
   ]
  },
  {
   "cell_type": "code",
   "execution_count": 98,
   "id": "727dd3ac-4db1-407b-bd83-e7765ca45c82",
   "metadata": {},
   "outputs": [],
   "source": [
    "user_assistant, prompt_examples = util.prep_fs_examples(df=prompt_df, \n",
    "                                                        id_col=\"filename\", \n",
    "                                                        source_col=\"source\", \n",
    "                                                        paragraph_col=\"paragraph (context)\", \n",
    "                                                        sentence_col=\"sentence\",\n",
    "                                                        standard_col=\"term\", \n",
    "                                                        incl_sentence=True, \n",
    "                                                        flag_UA=False, \n",
    "                                                        flag_segmented=True, \n",
    "                                                        base_prompt=prompts.examples_base1)\n",
    "system += prompt_examples"
   ]
  },
  {
   "cell_type": "markdown",
   "id": "ee8bdb46-45a3-430c-8ad9-b7acc8d0e4ea",
   "metadata": {},
   "source": [
    "### Token length system and UA context"
   ]
  },
  {
   "cell_type": "code",
   "execution_count": 101,
   "id": "b848cbf5-927b-43ad-a10f-1b6f6165917f",
   "metadata": {},
   "outputs": [],
   "source": [
    "base_token_length = util.count_tokens(system)\n",
    "if user_assistant:\n",
    "    for ua in user_assistant:\n",
    "        base_token_length += util.count_tokens(ua[0]) + util.count_tokens(ua[1])"
   ]
  },
  {
   "cell_type": "markdown",
   "id": "b3630c51-75d7-4ae3-a06c-b60fd679821f",
   "metadata": {},
   "source": [
    "# Prepare Inputs"
   ]
  },
  {
   "cell_type": "code",
   "execution_count": 102,
   "id": "f5cee450-3e07-4923-ba58-0570f697c7cb",
   "metadata": {},
   "outputs": [],
   "source": [
    "df_inputs = util.prep_inputs(test_df, \n",
    "                             'filepath', \n",
    "                             'filename',  \n",
    "                             ['filepath', 'filename', 'cc_iso3'], \n",
    "                             base_token_length, \n",
    "                             _flag_segmented,\n",
    "                             _max_token_num, \n",
    "                             _overlay)"
   ]
  },
  {
   "cell_type": "markdown",
   "id": "c63f1cd5-a777-4593-a9fc-6852fbf55e33",
   "metadata": {},
   "source": [
    "# Stats"
   ]
  },
  {
   "cell_type": "markdown",
   "id": "e460f660-c9b4-4043-a77b-118b6708ab59",
   "metadata": {},
   "source": [
    "## Token Number Distribution"
   ]
  },
  {
   "cell_type": "code",
   "execution_count": 103,
   "id": "fff02b6e-8fa4-4f20-b9ff-f7feb6e0dbc8",
   "metadata": {},
   "outputs": [
    {
     "data": {
      "text/plain": [
       "<matplotlib.lines.Line2D at 0x1595def9250>"
      ]
     },
     "execution_count": 103,
     "metadata": {},
     "output_type": "execute_result"
    },
    {
     "data": {
      "image/png": "[encoded data removed]",
      "text/plain": [
       "<Figure size 640x480 with 1 Axes>"
      ]
     },
     "metadata": {},
     "output_type": "display_data"
    }
   ],
   "source": [
    "df_inputs['total_tokens'].hist(bins=30)\n",
    "plt.axvline(x=df_inputs['total_tokens'].median(), color = \"r\")"
   ]
  },
  {
   "cell_type": "markdown",
   "id": "f2a0bbe9-2f8b-463b-b3b7-769cb4d42af8",
   "metadata": {},
   "source": [
    "## Costs"
   ]
  },
  {
   "cell_type": "code",
   "execution_count": 104,
   "id": "7bec6119-d280-446f-a89c-b33a21287806",
   "metadata": {},
   "outputs": [
    {
     "data": {
      "text/plain": [
       "{'$ (excl. VAT)': 0.5565734999999999}"
      ]
     },
     "execution_count": 104,
     "metadata": {},
     "output_type": "execute_result"
    }
   ],
   "source": [
    "util.calc_price_gpt(df_inputs.shape[0],\n",
    "                    df_inputs.total_tokens.mean(),\n",
    "                    1,\n",
    "                    cost_per_1k_tokens[_model])"
   ]
  },
  {
   "cell_type": "markdown",
   "id": "b36aac53-acdd-4c1e-a8d3-ee7b55d210fd",
   "metadata": {},
   "source": [
    "## Computation Time"
   ]
  },
  {
   "cell_type": "code",
   "execution_count": 105,
   "id": "30b2e236-67f5-4bf6-b5fd-b281e233788f",
   "metadata": {},
   "outputs": [
    {
     "data": {
      "text/plain": [
       "{'days': 0.0, 'hours': 0.0, 'min': 1.113147, 'raw min': 1.113147}"
      ]
     },
     "execution_count": 105,
     "metadata": {},
     "output_type": "execute_result"
    }
   ],
   "source": [
    "util.calc_compute_time(df_inputs.shape[0],\n",
    "                       df_inputs.total_tokens.mean(),\n",
    "                       1,\n",
    "                       1_000_000)"
   ]
  },
  {
   "cell_type": "markdown",
   "id": "e1f29ad9-f47d-40a3-9fd2-4539030791f6",
   "metadata": {},
   "source": [
    "# Prompt GPT"
   ]
  },
  {
   "cell_type": "markdown",
   "id": "74a3eece-0ee1-4e89-bf0b-0aec04729a28",
   "metadata": {},
   "source": [
    "## Initialize Client"
   ]
  },
  {
   "cell_type": "code",
   "execution_count": 107,
   "id": "e735c0cc-0080-4be4-84bb-77829ac76e8f",
   "metadata": {},
   "outputs": [],
   "source": [
    "client = OpenAI()"
   ]
  },
  {
   "cell_type": "markdown",
   "id": "6336b5b2-f84a-4e01-88c9-687737b533ad",
   "metadata": {},
   "source": [
    "## Call API"
   ]
  },
  {
   "cell_type": "code",
   "execution_count": 108,
   "id": "4ace8506-b823-4b4e-83ec-c8514532c846",
   "metadata": {},
   "outputs": [
    {
     "data": {
      "application/vnd.jupyter.widget-view+json": {
       "model_id": "e0fc7f6375b4464cb3f11a0375abfb48",
       "version_major": 2,
       "version_minor": 0
      },
      "text/plain": [
       "  0%|          | 0/74 [00:00<?, ?it/s]"
      ]
     },
     "metadata": {},
     "output_type": "display_data"
    }
   ],
   "source": [
    "df_inputs['output'] = df_inputs.progress_apply(lambda x: util.prompt_gpt(client, system, x.prompt, user_assistant, _model), axis=1)"
   ]
  },
  {
   "cell_type": "markdown",
   "id": "30f71085-0073-4881-9f22-53b021f3f8cb",
   "metadata": {},
   "source": [
    "# Evaluation"
   ]
  },
  {
   "cell_type": "code",
   "execution_count": 111,
   "id": "cf492226-7907-44b9-8256-fcb6947a45ae",
   "metadata": {},
   "outputs": [
    {
     "data": {
      "text/html": [
       "<div>\n",
       "<style scoped>\n",
       "    .dataframe tbody tr th:only-of-type {\n",
       "        vertical-align: middle;\n",
       "    }\n",
       "\n",
       "    .dataframe tbody tr th {\n",
       "        vertical-align: top;\n",
       "    }\n",
       "\n",
       "    .dataframe thead th {\n",
       "        text-align: right;\n",
       "    }\n",
       "</style>\n",
       "<table border=\"1\" class=\"dataframe\">\n",
       "  <thead>\n",
       "    <tr style=\"text-align: right;\">\n",
       "      <th></th>\n",
       "      <th>filepath</th>\n",
       "      <th>filename</th>\n",
       "      <th>cc_iso3</th>\n",
       "      <th>prompt</th>\n",
       "      <th>prompt_tokens</th>\n",
       "      <th>total_tokens</th>\n",
       "      <th>segment</th>\n",
       "      <th>output</th>\n",
       "    </tr>\n",
       "  </thead>\n",
       "  <tbody>\n",
       "    <tr>\n",
       "      <th>0</th>\n",
       "      <td>C:\\Users\\ilias\\Desktop\\UniMaResearch2023\\Extra...</td>\n",
       "      <td>61466756.txt</td>\n",
       "      <td>SGP</td>\n",
       "      <td>CEI Contract Manufacturing Limited Company Reg...</td>\n",
       "      <td>10615</td>\n",
       "      <td>15900</td>\n",
       "      <td>0</td>\n",
       "      <td>ChatCompletion(id='chatcmpl-9264S1PXyfG9D40xHz...</td>\n",
       "    </tr>\n",
       "    <tr>\n",
       "      <th>1</th>\n",
       "      <td>C:\\Users\\ilias\\Desktop\\UniMaResearch2023\\Extra...</td>\n",
       "      <td>61466756.txt</td>\n",
       "      <td>SGP</td>\n",
       "      <td>their fair values in other comprehensive inco...</td>\n",
       "      <td>10615</td>\n",
       "      <td>15900</td>\n",
       "      <td>1</td>\n",
       "      <td>ChatCompletion(id='chatcmpl-9264VS5ryGUESrCDWz...</td>\n",
       "    </tr>\n",
       "    <tr>\n",
       "      <th>2</th>\n",
       "      <td>C:\\Users\\ilias\\Desktop\\UniMaResearch2023\\Extra...</td>\n",
       "      <td>61466756.txt</td>\n",
       "      <td>SGP</td>\n",
       "      <td>exposed to equity price risk arising from its...</td>\n",
       "      <td>10615</td>\n",
       "      <td>15900</td>\n",
       "      <td>2</td>\n",
       "      <td>ChatCompletion(id='chatcmpl-9264YsJ01FWHECN7WP...</td>\n",
       "    </tr>\n",
       "    <tr>\n",
       "      <th>3</th>\n",
       "      <td>C:\\Users\\ilias\\Desktop\\UniMaResearch2023\\Extra...</td>\n",
       "      <td>61466756.txt</td>\n",
       "      <td>SGP</td>\n",
       "      <td>laws, or in the interpretation of these laws ...</td>\n",
       "      <td>664</td>\n",
       "      <td>5949</td>\n",
       "      <td>3</td>\n",
       "      <td>ChatCompletion(id='chatcmpl-9264aQCPDyNlqVJK7a...</td>\n",
       "    </tr>\n",
       "    <tr>\n",
       "      <th>4</th>\n",
       "      <td>C:\\Users\\ilias\\Desktop\\UniMaResearch2023\\Extra...</td>\n",
       "      <td>61511488.txt</td>\n",
       "      <td>SGP</td>\n",
       "      <td>Transcending Boundaries, Growing Opportunities...</td>\n",
       "      <td>10615</td>\n",
       "      <td>15900</td>\n",
       "      <td>0</td>\n",
       "      <td>ChatCompletion(id='chatcmpl-9264hKD2DSpfIzALIn...</td>\n",
       "    </tr>\n",
       "    <tr>\n",
       "      <th>...</th>\n",
       "      <td>...</td>\n",
       "      <td>...</td>\n",
       "      <td>...</td>\n",
       "      <td>...</td>\n",
       "      <td>...</td>\n",
       "      <td>...</td>\n",
       "      <td>...</td>\n",
       "      <td>...</td>\n",
       "    </tr>\n",
       "    <tr>\n",
       "      <th>69</th>\n",
       "      <td>C:\\Users\\ilias\\Desktop\\UniMaResearch2023\\Extra...</td>\n",
       "      <td>60783048.txt</td>\n",
       "      <td>FRA</td>\n",
       "      <td>taking into account, in the event of separate...</td>\n",
       "      <td>9853</td>\n",
       "      <td>15138</td>\n",
       "      <td>7</td>\n",
       "      <td>ChatCompletion(id='chatcmpl-926KiPdRme58TLCCeT...</td>\n",
       "    </tr>\n",
       "    <tr>\n",
       "      <th>70</th>\n",
       "      <td>C:\\Users\\ilias\\Desktop\\UniMaResearch2023\\Extra...</td>\n",
       "      <td>61015098.txt</td>\n",
       "      <td>GBR</td>\n",
       "      <td>ANNUAL REPORT &amp; ACCOUNTS AVESCO GROUP PLC ANNU...</td>\n",
       "      <td>10615</td>\n",
       "      <td>15900</td>\n",
       "      <td>0</td>\n",
       "      <td>ChatCompletion(id='chatcmpl-926KxekLEmec9CqbEM...</td>\n",
       "    </tr>\n",
       "    <tr>\n",
       "      <th>71</th>\n",
       "      <td>C:\\Users\\ilias\\Desktop\\UniMaResearch2023\\Extra...</td>\n",
       "      <td>61015098.txt</td>\n",
       "      <td>GBR</td>\n",
       "      <td>it in prior to its introduction to the Offici...</td>\n",
       "      <td>10615</td>\n",
       "      <td>15900</td>\n",
       "      <td>1</td>\n",
       "      <td>ChatCompletion(id='chatcmpl-926LFddX5Q9dlgOJja...</td>\n",
       "    </tr>\n",
       "    <tr>\n",
       "      <th>72</th>\n",
       "      <td>C:\\Users\\ilias\\Desktop\\UniMaResearch2023\\Extra...</td>\n",
       "      <td>61015098.txt</td>\n",
       "      <td>GBR</td>\n",
       "      <td>continued operations Share of associates' oper...</td>\n",
       "      <td>10615</td>\n",
       "      <td>15900</td>\n",
       "      <td>2</td>\n",
       "      <td>ChatCompletion(id='chatcmpl-926LUJGlCl1K6EK1eM...</td>\n",
       "    </tr>\n",
       "    <tr>\n",
       "      <th>73</th>\n",
       "      <td>C:\\Users\\ilias\\Desktop\\UniMaResearch2023\\Extra...</td>\n",
       "      <td>61015098.txt</td>\n",
       "      <td>GBR</td>\n",
       "      <td>of the Company. This authority will also exte...</td>\n",
       "      <td>2614</td>\n",
       "      <td>7899</td>\n",
       "      <td>3</td>\n",
       "      <td>ChatCompletion(id='chatcmpl-926LYaxT1pQVlTD3fs...</td>\n",
       "    </tr>\n",
       "  </tbody>\n",
       "</table>\n",
       "<p>74 rows × 8 columns</p>\n",
       "</div>"
      ],
      "text/plain": [
       "                                             filepath      filename cc_iso3  \\\n",
       "0   C:\\Users\\ilias\\Desktop\\UniMaResearch2023\\Extra...  61466756.txt     SGP   \n",
       "1   C:\\Users\\ilias\\Desktop\\UniMaResearch2023\\Extra...  61466756.txt     SGP   \n",
       "2   C:\\Users\\ilias\\Desktop\\UniMaResearch2023\\Extra...  61466756.txt     SGP   \n",
       "3   C:\\Users\\ilias\\Desktop\\UniMaResearch2023\\Extra...  61466756.txt     SGP   \n",
       "4   C:\\Users\\ilias\\Desktop\\UniMaResearch2023\\Extra...  61511488.txt     SGP   \n",
       "..                                                ...           ...     ...   \n",
       "69  C:\\Users\\ilias\\Desktop\\UniMaResearch2023\\Extra...  60783048.txt     FRA   \n",
       "70  C:\\Users\\ilias\\Desktop\\UniMaResearch2023\\Extra...  61015098.txt     GBR   \n",
       "71  C:\\Users\\ilias\\Desktop\\UniMaResearch2023\\Extra...  61015098.txt     GBR   \n",
       "72  C:\\Users\\ilias\\Desktop\\UniMaResearch2023\\Extra...  61015098.txt     GBR   \n",
       "73  C:\\Users\\ilias\\Desktop\\UniMaResearch2023\\Extra...  61015098.txt     GBR   \n",
       "\n",
       "                                               prompt  prompt_tokens  \\\n",
       "0   CEI Contract Manufacturing Limited Company Reg...          10615   \n",
       "1    their fair values in other comprehensive inco...          10615   \n",
       "2    exposed to equity price risk arising from its...          10615   \n",
       "3    laws, or in the interpretation of these laws ...            664   \n",
       "4   Transcending Boundaries, Growing Opportunities...          10615   \n",
       "..                                                ...            ...   \n",
       "69   taking into account, in the event of separate...           9853   \n",
       "70  ANNUAL REPORT & ACCOUNTS AVESCO GROUP PLC ANNU...          10615   \n",
       "71   it in prior to its introduction to the Offici...          10615   \n",
       "72  continued operations Share of associates' oper...          10615   \n",
       "73   of the Company. This authority will also exte...           2614   \n",
       "\n",
       "    total_tokens segment                                             output  \n",
       "0          15900       0  ChatCompletion(id='chatcmpl-9264S1PXyfG9D40xHz...  \n",
       "1          15900       1  ChatCompletion(id='chatcmpl-9264VS5ryGUESrCDWz...  \n",
       "2          15900       2  ChatCompletion(id='chatcmpl-9264YsJ01FWHECN7WP...  \n",
       "3           5949       3  ChatCompletion(id='chatcmpl-9264aQCPDyNlqVJK7a...  \n",
       "4          15900       0  ChatCompletion(id='chatcmpl-9264hKD2DSpfIzALIn...  \n",
       "..           ...     ...                                                ...  \n",
       "69         15138       7  ChatCompletion(id='chatcmpl-926KiPdRme58TLCCeT...  \n",
       "70         15900       0  ChatCompletion(id='chatcmpl-926KxekLEmec9CqbEM...  \n",
       "71         15900       1  ChatCompletion(id='chatcmpl-926LFddX5Q9dlgOJja...  \n",
       "72         15900       2  ChatCompletion(id='chatcmpl-926LUJGlCl1K6EK1eM...  \n",
       "73          7899       3  ChatCompletion(id='chatcmpl-926LYaxT1pQVlTD3fs...  \n",
       "\n",
       "[74 rows x 8 columns]"
      ]
     },
     "execution_count": 111,
     "metadata": {},
     "output_type": "execute_result"
    }
   ],
   "source": [
    "df_inputs"
   ]
  },
  {
   "cell_type": "code",
   "execution_count": 38,
   "id": "c6113bb9-1948-4f85-827d-46cf2529c712",
   "metadata": {},
   "outputs": [],
   "source": [
    "files = df_inputs.filename.values\n",
    "labels = test_df[test_df.filename.isin(files)].copy()\n",
    "labels[['found_sentence', 'found_term']] = \"\"\n",
    "\n",
    "files = df_inputs.filename.values\n",
    "labels = test_df[test_df.filename.isin(files)].copy()\n",
    "labels[['found_sentence', 'found_term']] = \"\""
   ]
  },
  {
   "cell_type": "code",
   "execution_count": 39,
   "id": "99b16252-0949-4874-8572-f0164f40a22e",
   "metadata": {},
   "outputs": [],
   "source": [
    "for row in df_inputs.index:\n",
    "    d = json.loads(df_inputs.loc[row][\"output\"].choices[0].message.content)\n",
    "    id = df_inputs.loc[row].filename\n",
    "    \n",
    "    for k, v in d.items():\n",
    "        mask = (labels['filename'] == id) & (labels['source'] == k)\n",
    "        labels.loc[mask, 'found_sentence'] = v['sentence'] \n",
    "        labels.loc[mask, 'found_term'] = v['term']"
   ]
  },
  {
   "cell_type": "markdown",
   "id": "d15b3a8d-f6c8-4b68-827c-776410b10faa",
   "metadata": {},
   "source": [
    "# Eval Segmented"
   ]
  },
  {
   "cell_type": "code",
   "execution_count": null,
   "id": "8f9dc6de-bbeb-4698-88ee-c5ee8399f212",
   "metadata": {},
   "outputs": [],
   "source": []
  },
  {
   "cell_type": "code",
   "execution_count": 195,
   "id": "c6bc0316-95f3-4e99-b0dc-2ca1ca31586a",
   "metadata": {},
   "outputs": [
    {
     "name": "stdout",
     "output_type": "stream",
     "text": [
      "61511488.txt\n",
      "{'audit': {'sentence': 'In determining fair value less costs to sell, an '\n",
      "                       'appropriate valuation model is used.',\n",
      "           'term': 'no answer'},\n",
      " 'notes': {'sentence': 'The financial statements of the Group and of the '\n",
      "                       'Company have been prepared in accordance with '\n",
      "                       'Financial Reporting Standards and the requirements of '\n",
      "                       'the Companies Act, 1965 in Malaysia. ',\n",
      "           'term': 'Financial Reporting Standards and the requirements of the '\n",
      "                   'Companies Act, 1965 in Malaysia.'}}\n"
     ]
    }
   ],
   "source": [
    "from pprint import pprint\n",
    "i = 6\n",
    "for row in df_inputs_segmented.index[i:i+1]:\n",
    "    d = json.loads(df_inputs_segmented.loc[row][\"output\"].choices[0].message.content)\n",
    "    id = df_inputs_segmented.loc[row].filename\n",
    "    \n",
    "    print(id)\n",
    "    pprint(d)"
   ]
  },
  {
   "cell_type": "code",
   "execution_count": 117,
   "id": "083dcaed-9d6c-4c1b-9c93-1385651ad4a9",
   "metadata": {},
   "outputs": [
    {
     "data": {
      "text/html": [
       "<div>\n",
       "<style scoped>\n",
       "    .dataframe tbody tr th:only-of-type {\n",
       "        vertical-align: middle;\n",
       "    }\n",
       "\n",
       "    .dataframe tbody tr th {\n",
       "        vertical-align: top;\n",
       "    }\n",
       "\n",
       "    .dataframe thead th {\n",
       "        text-align: right;\n",
       "    }\n",
       "</style>\n",
       "<table border=\"1\" class=\"dataframe\">\n",
       "  <thead>\n",
       "    <tr style=\"text-align: right;\">\n",
       "      <th></th>\n",
       "      <th>filepath</th>\n",
       "      <th>filename</th>\n",
       "      <th>cc_iso3</th>\n",
       "      <th>prompt</th>\n",
       "      <th>num_tokens</th>\n",
       "      <th>com_num_tokens</th>\n",
       "      <th>segment</th>\n",
       "      <th>output</th>\n",
       "    </tr>\n",
       "  </thead>\n",
       "  <tbody>\n",
       "    <tr>\n",
       "      <th>0</th>\n",
       "      <td>C:\\Users\\ilias\\Desktop\\UniMaResearch2023\\Extra...</td>\n",
       "      <td>61466756.txt</td>\n",
       "      <td>SGP</td>\n",
       "      <td>CEI Contract Manufacturing Limited Company Reg...</td>\n",
       "      <td>10828</td>\n",
       "      <td>15900</td>\n",
       "      <td>0</td>\n",
       "      <td>ChatCompletion(id='chatcmpl-90VuFg6xQ2YdEQhI8P...</td>\n",
       "    </tr>\n",
       "    <tr>\n",
       "      <th>1</th>\n",
       "      <td>C:\\Users\\ilias\\Desktop\\UniMaResearch2023\\Extra...</td>\n",
       "      <td>61466756.txt</td>\n",
       "      <td>SGP</td>\n",
       "      <td>impairment in accordance with FRS Impairment ...</td>\n",
       "      <td>10828</td>\n",
       "      <td>15900</td>\n",
       "      <td>1</td>\n",
       "      <td>ChatCompletion(id='chatcmpl-90VuLAHzy2KQKpdBNc...</td>\n",
       "    </tr>\n",
       "    <tr>\n",
       "      <th>2</th>\n",
       "      <td>C:\\Users\\ilias\\Desktop\\UniMaResearch2023\\Extra...</td>\n",
       "      <td>61466756.txt</td>\n",
       "      <td>SGP</td>\n",
       "      <td>sensitivity to a reasonably possible change i...</td>\n",
       "      <td>10653</td>\n",
       "      <td>15725</td>\n",
       "      <td>2</td>\n",
       "      <td>ChatCompletion(id='chatcmpl-90VuQRXBt54OvlmSUL...</td>\n",
       "    </tr>\n",
       "    <tr>\n",
       "      <th>3</th>\n",
       "      <td>C:\\Users\\ilias\\Desktop\\UniMaResearch2023\\Extra...</td>\n",
       "      <td>61511488.txt</td>\n",
       "      <td>SGP</td>\n",
       "      <td>Transcending Boundaries, Growing Opportunities...</td>\n",
       "      <td>10828</td>\n",
       "      <td>15900</td>\n",
       "      <td>0</td>\n",
       "      <td>ChatCompletion(id='chatcmpl-90VuUQLRsi51NITtmd...</td>\n",
       "    </tr>\n",
       "    <tr>\n",
       "      <th>4</th>\n",
       "      <td>C:\\Users\\ilias\\Desktop\\UniMaResearch2023\\Extra...</td>\n",
       "      <td>61511488.txt</td>\n",
       "      <td>SGP</td>\n",
       "      <td>LTD Annual Report Corporate Governance Report...</td>\n",
       "      <td>10828</td>\n",
       "      <td>15900</td>\n",
       "      <td>1</td>\n",
       "      <td>ChatCompletion(id='chatcmpl-90VufDQBdPejKa75iF...</td>\n",
       "    </tr>\n",
       "    <tr>\n",
       "      <th>...</th>\n",
       "      <td>...</td>\n",
       "      <td>...</td>\n",
       "      <td>...</td>\n",
       "      <td>...</td>\n",
       "      <td>...</td>\n",
       "      <td>...</td>\n",
       "      <td>...</td>\n",
       "      <td>...</td>\n",
       "    </tr>\n",
       "    <tr>\n",
       "      <th>66</th>\n",
       "      <td>C:\\Users\\ilias\\Desktop\\UniMaResearch2023\\Extra...</td>\n",
       "      <td>60783048.txt</td>\n",
       "      <td>FRA</td>\n",
       "      <td>with legal and regulatory provisions ; (viii)...</td>\n",
       "      <td>8362</td>\n",
       "      <td>13434</td>\n",
       "      <td>7</td>\n",
       "      <td>ChatCompletion(id='chatcmpl-90WA9lILKSPhc0A64Y...</td>\n",
       "    </tr>\n",
       "    <tr>\n",
       "      <th>67</th>\n",
       "      <td>C:\\Users\\ilias\\Desktop\\UniMaResearch2023\\Extra...</td>\n",
       "      <td>61015098.txt</td>\n",
       "      <td>GBR</td>\n",
       "      <td>ANNUAL REPORT &amp; ACCOUNTS AVESCO GROUP PLC ANNU...</td>\n",
       "      <td>10828</td>\n",
       "      <td>15900</td>\n",
       "      <td>0</td>\n",
       "      <td>ChatCompletion(id='chatcmpl-90WAQMxGLGuTKGdimU...</td>\n",
       "    </tr>\n",
       "    <tr>\n",
       "      <th>68</th>\n",
       "      <td>C:\\Users\\ilias\\Desktop\\UniMaResearch2023\\Extra...</td>\n",
       "      <td>61015098.txt</td>\n",
       "      <td>GBR</td>\n",
       "      <td>Avesco in and was appointed to the Board in H...</td>\n",
       "      <td>10828</td>\n",
       "      <td>15900</td>\n",
       "      <td>1</td>\n",
       "      <td>ChatCompletion(id='chatcmpl-90WAgo9TcpPq6G93r4...</td>\n",
       "    </tr>\n",
       "    <tr>\n",
       "      <th>69</th>\n",
       "      <td>C:\\Users\\ilias\\Desktop\\UniMaResearch2023\\Extra...</td>\n",
       "      <td>61015098.txt</td>\n",
       "      <td>GBR</td>\n",
       "      <td>investments is in respect of the profit made ...</td>\n",
       "      <td>10828</td>\n",
       "      <td>15900</td>\n",
       "      <td>2</td>\n",
       "      <td>ChatCompletion(id='chatcmpl-90WAxYsUZHUhTYPcR6...</td>\n",
       "    </tr>\n",
       "    <tr>\n",
       "      <th>70</th>\n",
       "      <td>C:\\Users\\ilias\\Desktop\\UniMaResearch2023\\Extra...</td>\n",
       "      <td>61015098.txt</td>\n",
       "      <td>GBR</td>\n",
       "      <td>Meeting and the accompanying notes carefully ...</td>\n",
       "      <td>1975</td>\n",
       "      <td>7047</td>\n",
       "      <td>3</td>\n",
       "      <td>ChatCompletion(id='chatcmpl-90WB1sTAROF3KLMRLl...</td>\n",
       "    </tr>\n",
       "  </tbody>\n",
       "</table>\n",
       "<p>71 rows × 8 columns</p>\n",
       "</div>"
      ],
      "text/plain": [
       "                                             filepath      filename cc_iso3  \\\n",
       "0   C:\\Users\\ilias\\Desktop\\UniMaResearch2023\\Extra...  61466756.txt     SGP   \n",
       "1   C:\\Users\\ilias\\Desktop\\UniMaResearch2023\\Extra...  61466756.txt     SGP   \n",
       "2   C:\\Users\\ilias\\Desktop\\UniMaResearch2023\\Extra...  61466756.txt     SGP   \n",
       "3   C:\\Users\\ilias\\Desktop\\UniMaResearch2023\\Extra...  61511488.txt     SGP   \n",
       "4   C:\\Users\\ilias\\Desktop\\UniMaResearch2023\\Extra...  61511488.txt     SGP   \n",
       "..                                                ...           ...     ...   \n",
       "66  C:\\Users\\ilias\\Desktop\\UniMaResearch2023\\Extra...  60783048.txt     FRA   \n",
       "67  C:\\Users\\ilias\\Desktop\\UniMaResearch2023\\Extra...  61015098.txt     GBR   \n",
       "68  C:\\Users\\ilias\\Desktop\\UniMaResearch2023\\Extra...  61015098.txt     GBR   \n",
       "69  C:\\Users\\ilias\\Desktop\\UniMaResearch2023\\Extra...  61015098.txt     GBR   \n",
       "70  C:\\Users\\ilias\\Desktop\\UniMaResearch2023\\Extra...  61015098.txt     GBR   \n",
       "\n",
       "                                               prompt  num_tokens  \\\n",
       "0   CEI Contract Manufacturing Limited Company Reg...       10828   \n",
       "1    impairment in accordance with FRS Impairment ...       10828   \n",
       "2    sensitivity to a reasonably possible change i...       10653   \n",
       "3   Transcending Boundaries, Growing Opportunities...       10828   \n",
       "4    LTD Annual Report Corporate Governance Report...       10828   \n",
       "..                                                ...         ...   \n",
       "66   with legal and regulatory provisions ; (viii)...        8362   \n",
       "67  ANNUAL REPORT & ACCOUNTS AVESCO GROUP PLC ANNU...       10828   \n",
       "68   Avesco in and was appointed to the Board in H...       10828   \n",
       "69   investments is in respect of the profit made ...       10828   \n",
       "70   Meeting and the accompanying notes carefully ...        1975   \n",
       "\n",
       "    com_num_tokens segment                                             output  \n",
       "0            15900       0  ChatCompletion(id='chatcmpl-90VuFg6xQ2YdEQhI8P...  \n",
       "1            15900       1  ChatCompletion(id='chatcmpl-90VuLAHzy2KQKpdBNc...  \n",
       "2            15725       2  ChatCompletion(id='chatcmpl-90VuQRXBt54OvlmSUL...  \n",
       "3            15900       0  ChatCompletion(id='chatcmpl-90VuUQLRsi51NITtmd...  \n",
       "4            15900       1  ChatCompletion(id='chatcmpl-90VufDQBdPejKa75iF...  \n",
       "..             ...     ...                                                ...  \n",
       "66           13434       7  ChatCompletion(id='chatcmpl-90WA9lILKSPhc0A64Y...  \n",
       "67           15900       0  ChatCompletion(id='chatcmpl-90WAQMxGLGuTKGdimU...  \n",
       "68           15900       1  ChatCompletion(id='chatcmpl-90WAgo9TcpPq6G93r4...  \n",
       "69           15900       2  ChatCompletion(id='chatcmpl-90WAxYsUZHUhTYPcR6...  \n",
       "70            7047       3  ChatCompletion(id='chatcmpl-90WB1sTAROF3KLMRLl...  \n",
       "\n",
       "[71 rows x 8 columns]"
      ]
     },
     "execution_count": 117,
     "metadata": {},
     "output_type": "execute_result"
    }
   ],
   "source": [
    "df_inputs_segmented"
   ]
  }
 ],
 "metadata": {
  "kernelspec": {
   "display_name": "venv_gpt_api",
   "language": "python",
   "name": "venv_gpt_api"
  },
  "language_info": {
   "codemirror_mode": {
    "name": "ipython",
    "version": 3
   },
   "file_extension": ".py",
   "mimetype": "text/x-python",
   "name": "python",
   "nbconvert_exporter": "python",
   "pygments_lexer": "ipython3",
   "version": "3.9.5"
  }
 },
 "nbformat": 4,
 "nbformat_minor": 5
}
